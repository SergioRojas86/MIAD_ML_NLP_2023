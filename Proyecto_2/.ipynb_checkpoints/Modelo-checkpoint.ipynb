{
 "cells": [
  {
   "cell_type": "code",
   "execution_count": 1,
   "id": "6b5f57c6",
   "metadata": {},
   "outputs": [],
   "source": [
    "import warnings\n",
    "warnings.filterwarnings('ignore')"
   ]
  },
  {
   "cell_type": "code",
   "execution_count": 2,
   "id": "40a614bb",
   "metadata": {},
   "outputs": [],
   "source": [
    "# Importación librerías\n",
    "import pandas as pd\n",
    "import os\n",
    "import numpy as np\n",
    "import re\n",
    "from sklearn.feature_extraction.text import CountVectorizer,TfidfVectorizer\n",
    "from sklearn.preprocessing import MultiLabelBinarizer\n",
    "from sklearn.multiclass import OneVsRestClassifier\n",
    "#from sklearn.ensemble import RandomForestRegressor, RandomForestClassifier\n",
    "from sklearn.metrics import r2_score, roc_auc_score\n",
    "from sklearn.model_selection import train_test_split\n",
    "#from xgboost import XGBClassifier\n",
    "from nltk.stem import WordNetLemmatizer, PorterStemmer\n",
    "#wordnet_lemmatizer = WordNetLemmatizer()\n",
    "import nltk\n",
    "import string\n",
    "from sklearn.linear_model import LogisticRegression\n",
    "from sklearn.multiclass import OneVsRestClassifier\n",
    "\n",
    "\n",
    "import joblib\n",
    "import os\n",
    "os.chdir('..')"
   ]
  },
  {
   "cell_type": "code",
   "execution_count": 3,
   "id": "0972c81b",
   "metadata": {},
   "outputs": [
    {
     "data": {
      "text/plain": [
       "'C:\\\\Users\\\\usuario\\\\Desktop\\\\SERGIO\\\\Master_Data_Analytics_Inteligence\\\\Subjects\\\\MasterTrack2_Machine_learning_y_PLN\\\\MIAD_ML_NLP_2023'"
      ]
     },
     "execution_count": 3,
     "metadata": {},
     "output_type": "execute_result"
    }
   ],
   "source": [
    "os.getcwd()"
   ]
  },
  {
   "cell_type": "code",
   "execution_count": 4,
   "id": "7c76877f",
   "metadata": {},
   "outputs": [],
   "source": [
    "# Carga de datos de archivo .csv\n",
    "dataTraining = pd.read_csv('https://github.com/albahnsen/MIAD_ML_and_NLP/raw/main/datasets/dataTraining.zip', encoding='UTF-8', index_col=0)\n",
    "dataTesting = pd.read_csv('https://github.com/albahnsen/MIAD_ML_and_NLP/raw/main/datasets/dataTesting.zip', encoding='UTF-8', index_col=0)"
   ]
  },
  {
   "cell_type": "code",
   "execution_count": 5,
   "id": "ad28777b",
   "metadata": {},
   "outputs": [],
   "source": [
    "def clean_text(text):\n",
    "    text = re.sub((r'[^\\w\\s]'),'', text).lower() \n",
    "    text = re.sub((r'\\d+'),'', text).lower()\n",
    "    text = re.sub((r'_+'),'', text).lower()\n",
    "    wnl = nltk.stem.WordNetLemmatizer()\n",
    "    stopwords = nltk.corpus.stopwords.words('english')\n",
    "    words = re.sub(r'[^\\w\\s]', ' ', text).split()\n",
    "    return ' '.join([wnl.lemmatize(word) for word in words if word not in stopwords])"
   ]
  },
  {
   "cell_type": "code",
   "execution_count": 6,
   "id": "3cfdb948",
   "metadata": {},
   "outputs": [],
   "source": [
    "dataTraining['clean_plot'] = dataTraining['plot'].apply(clean_text)"
   ]
  },
  {
   "cell_type": "code",
   "execution_count": 7,
   "id": "05b76660",
   "metadata": {},
   "outputs": [],
   "source": [
    "# Definición de variable de interés (y)\n",
    "dataTraining['genres'] = dataTraining['genres'].map(lambda x: eval(x))\n",
    "le = MultiLabelBinarizer()\n",
    "y_genres = le.fit_transform(dataTraining['genres'])"
   ]
  },
  {
   "cell_type": "code",
   "execution_count": 8,
   "id": "27c9fe48",
   "metadata": {},
   "outputs": [],
   "source": [
    "tfidf_vectorizer = TfidfVectorizer() #(max_df=0.8, max_features=10000)"
   ]
  },
  {
   "cell_type": "code",
   "execution_count": 9,
   "id": "59924467",
   "metadata": {},
   "outputs": [],
   "source": [
    "X_train, X_test, y_train_genres, y_test_genres = train_test_split(dataTraining['clean_plot'], y_genres, test_size=0.20, random_state=9)"
   ]
  },
  {
   "cell_type": "code",
   "execution_count": 10,
   "id": "5d9ad5e9",
   "metadata": {},
   "outputs": [],
   "source": [
    "xtrain_tfidf = tfidf_vectorizer.fit_transform(X_train)\n",
    "xtest_tfidf = tfidf_vectorizer.transform(X_test)"
   ]
  },
  {
   "cell_type": "code",
   "execution_count": 11,
   "id": "aa9b3b34",
   "metadata": {},
   "outputs": [],
   "source": [
    "lr = LogisticRegression(multi_class='multinomial')\n",
    "clf = OneVsRestClassifier(lr)\n",
    "\n",
    "# fit model on train data\n",
    "clf.fit(xtrain_tfidf, y_train_genres)\n",
    "\n",
    "# make predictions for validation set\n",
    "y_pred_genres_lr = clf.predict_proba(xtest_tfidf)"
   ]
  },
  {
   "cell_type": "code",
   "execution_count": 12,
   "id": "7988f1d4",
   "metadata": {},
   "outputs": [],
   "source": [
    "y_pred_genres_lr = clf.predict_proba(xtest_tfidf)"
   ]
  },
  {
   "cell_type": "code",
   "execution_count": 13,
   "id": "d2046271",
   "metadata": {},
   "outputs": [
    {
     "data": {
      "text/plain": [
       "0.8820726773218288"
      ]
     },
     "execution_count": 13,
     "metadata": {},
     "output_type": "execute_result"
    }
   ],
   "source": [
    "roc_auc_score(y_test_genres, y_pred_genres_lr, average='macro')"
   ]
  },
  {
   "cell_type": "code",
   "execution_count": 14,
   "id": "f2950f6d",
   "metadata": {},
   "outputs": [],
   "source": [
    "#joblib.dump(clf, 'Proyecto_2/movie_genres_LR.pkl', compress=3)"
   ]
  },
  {
   "cell_type": "code",
   "execution_count": 15,
   "id": "2a10c6a9",
   "metadata": {},
   "outputs": [],
   "source": [
    "#python3 Api_movies.py"
   ]
  },
  {
   "cell_type": "markdown",
   "id": "700ed23a",
   "metadata": {},
   "source": [
    "# model_LR.py"
   ]
  },
  {
   "cell_type": "code",
   "execution_count": 16,
   "id": "23c53bab",
   "metadata": {},
   "outputs": [],
   "source": [
    "#features = dataTraining['plot'].iloc[170]\n",
    "features = \"\"\"The series depicts a future in which Earth is dominated by a race of self-aware machines that was spawned from the creation of artificial intelligence early in the 21st century. At one point conflict arose between humanity and machines, and the machines rebelled against their creators. Humans attempted to block out the machines' source of solar power by covering the sky in thick, stormy clouds.\"\"\"\n",
    "df5000 = pd.DataFrame(columns=['plot'],index=range(1))\n",
    "df5000['plot'] = features"
   ]
  },
  {
   "cell_type": "code",
   "execution_count": 17,
   "id": "d92eca8f",
   "metadata": {},
   "outputs": [],
   "source": [
    "df5000['clean_plot'] = df5000['plot'].apply(clean_text)\n",
    "q = df5000['clean_plot']"
   ]
  },
  {
   "cell_type": "code",
   "execution_count": 18,
   "id": "4dd9b72b",
   "metadata": {},
   "outputs": [],
   "source": [
    "def infer_tags(q):\n",
    "    q_vec = tfidf_vectorizer.transform(q)\n",
    "    q_pred = clf.predict(q_vec)\n",
    "    pred_proba = clf.predict_proba(q_vec)\n",
    "    return le.inverse_transform(q_pred)"
   ]
  },
  {
   "cell_type": "code",
   "execution_count": 19,
   "id": "b16cd1e7",
   "metadata": {},
   "outputs": [
    {
     "data": {
      "text/plain": [
       "[('Action', 'Sci-Fi')]"
      ]
     },
     "execution_count": 19,
     "metadata": {},
     "output_type": "execute_result"
    }
   ],
   "source": [
    "infer_tags(q)"
   ]
  },
  {
   "cell_type": "code",
   "execution_count": 20,
   "id": "977a2645",
   "metadata": {},
   "outputs": [],
   "source": [
    "# The series focused on the adventures surrounding monsters who reside in the titular Hotel Transylvania, a plaza hotel where monsters can relax and get away from humans due to fear of persecution. Most of the characters are based on or are parodies of the Universal Movie Monsters."
   ]
  },
  {
   "cell_type": "code",
   "execution_count": 21,
   "id": "d2f2dabe",
   "metadata": {},
   "outputs": [],
   "source": [
    "# The series depicts a future in which Earth is dominated by a race of self-aware machines that was spawned from the creation of artificial intelligence early in the 21st century. At one point conflict arose between humanity and machines, and the machines rebelled against their creators. Humans attempted to block out the machines' source of solar power by covering the sky in thick, stormy clouds. "
   ]
  },
  {
   "cell_type": "code",
   "execution_count": 22,
   "id": "f2a989f3",
   "metadata": {},
   "outputs": [],
   "source": [
    "# Shrek is an anti-social and highly-territorial ogre who loves the solitude of his swamp. His life is interrupted after the dwarfish Lord Farquaad of Duloc exiles a vast number of fairy-tale creatures, who inadvertently end up in the swamp. Angered by the intrusion, Shrek decides to visit Farquaad and demand they be moved elsewhere. He reluctantly allows the talkative Donkey, who was exiled as well, to tag along and guide him to Duloc.\\n\\nMeanwhile, Farquaad is presented with the Magic Mirror, who tells him that he must marry a princess in order to become king. Farquaad chooses Princess Fiona, who is imprisoned in a castle guarded by Dragon. Unwilling to rescue Fiona himself, he organizes a tournament in which the winner will receive the \"privilege\" of performing the task on his behalf. When Shrek and Donkey arrive at Duloc, Farquaad announces that whoever kills the ogre will be crowned the victor; however, Shrek and Donkey defeat Farquaad\\'s knights with relative ease. Amused, Farquaad proclaims them champions, and agrees to relocate the fairy-tale creatures if Shrek rescues Fiona.\\n\\nShrek and Donkey travel to the castle and are attacked by Dragon. Shrek locates Fiona, who is appalled by his lack of romanticism; they flee the castle after rescuing Donkey. When Shrek removes his helmet and reveals he is an ogre, Fiona stubbornly refuses to go to Duloc, demanding Farquaad arrive in person to save her; Shrek carries her against her will. That night, after setting up camp and with Fiona alone in a cave, Shrek confides with Donkey about his frustration with being feared and rejected by others over his appearance. Fiona overhears this and decides to be kind to Shrek. The next day, the three are harassed by Robin Hood and his band of Merry Men, with Fiona dispatching them easily using martial arts. Shrek becomes impressed with Fiona, and they begin to fall in love.\\n\\nWhen the trio nears Duloc, Fiona takes shelter in a windmill for the evening. Donkey later enters alone and discovers that Fiona has transformed into an ogre. She explains she has been cursed since childhood, forced to transform into an ogre every night, and changing back at sunrise. She tells Donkey that only \"true love\\'s kiss\" will break the spell and change her to \"love\\'s true form\". Meanwhile, Shrek is about to confess his feelings to Fiona, when he overhears Fiona referring to herself as an \"ugly beast\". Believing that she is talking about him, Shrek angrily leaves and returns the next morning with Farquaad. Confused and hurt by Shrek\\'s abrupt hostility, Fiona accepts Farquaad\\'s marriage proposal and requests they be married before nightfall.\\n\\nShrek abandons Donkey and returns to his now-vacated swamp. He quickly realizes that despite his privacy, he feels miserable and misses Fiona. Donkey returns to the swamp and confronts Shrek, explaining that the \"ugly beast\" Fiona was referring to was someone else, and urges him to express his feelings to Fiona before she marries. The two reconcile and quickly travel to Duloc by riding Dragon, who Donkey has befriended. Shrek interrupts the wedding just before the ceremony completes, and tells Fiona that Farquaad is only marrying her to become king. The sun sets as Fiona transforms into an ogre in front of everyone, causing Shrek to understand what he overheard. Outraged and disgusted, Farquaad orders Shrek executed and Fiona detained. The two are saved when Dragon, alongside Donkey, break in and devour Farquaad. Shrek and Fiona profess their love and share a kiss. Though Fiona\\'s curse is broken, this permanently makes her an ogre against her expectations, though Shrek reassures her that he still finds her beautiful. They marry in the swamp with fairy-tale creatures in attendance, then leave for their honeymoon."
   ]
  }
 ],
 "metadata": {
  "kernelspec": {
   "display_name": "Python 3 (ipykernel)",
   "language": "python",
   "name": "python3"
  },
  "language_info": {
   "codemirror_mode": {
    "name": "ipython",
    "version": 3
   },
   "file_extension": ".py",
   "mimetype": "text/x-python",
   "name": "python",
   "nbconvert_exporter": "python",
   "pygments_lexer": "ipython3",
   "version": "3.9.12"
  }
 },
 "nbformat": 4,
 "nbformat_minor": 5
}
