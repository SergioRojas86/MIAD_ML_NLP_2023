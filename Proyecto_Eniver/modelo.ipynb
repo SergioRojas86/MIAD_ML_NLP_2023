{
 "cells": [
  {
   "cell_type": "code",
   "execution_count": 1,
   "id": "6b5f57c6",
   "metadata": {},
   "outputs": [],
   "source": [
    "import warnings\n",
    "warnings.filterwarnings('ignore')"
   ]
  },
  {
   "cell_type": "code",
   "execution_count": 2,
   "id": "40a614bb",
   "metadata": {},
   "outputs": [],
   "source": [
    "# Importación librerías\n",
    "import pandas as pd\n",
    "import os\n",
    "import numpy as np\n",
    "import re\n",
    "from sklearn.feature_extraction.text import CountVectorizer,TfidfVectorizer\n",
    "from sklearn.preprocessing import MultiLabelBinarizer\n",
    "from sklearn.multiclass import OneVsRestClassifier\n",
    "from sklearn.ensemble import RandomForestRegressor, RandomForestClassifier\n",
    "from sklearn.metrics import r2_score, roc_auc_score\n",
    "from sklearn.model_selection import train_test_split\n",
    "from xgboost import XGBClassifier\n",
    "from nltk.stem import WordNetLemmatizer, PorterStemmer\n",
    "wordnet_lemmatizer = WordNetLemmatizer()\n",
    "import nltk\n",
    "import string\n",
    "from sklearn.linear_model import LogisticRegression\n",
    "from sklearn.multiclass import OneVsRestClassifier"
   ]
  },
  {
   "cell_type": "code",
   "execution_count": 3,
   "id": "46f81c9d",
   "metadata": {},
   "outputs": [
    {
     "data": {
      "text/plain": [
       "'C:\\\\Users\\\\usuario\\\\Desktop\\\\SERGIO\\\\Master_Data_Analytics_Inteligence\\\\Subjects\\\\MasterTrack2_Machine_learning_y_PLN\\\\MIAD_ML_NLP_2023'"
      ]
     },
     "execution_count": 3,
     "metadata": {},
     "output_type": "execute_result"
    }
   ],
   "source": [
    "import joblib\n",
    "import os\n",
    "os.chdir('..')\n",
    "\n",
    "os.getcwd()"
   ]
  },
  {
   "cell_type": "code",
   "execution_count": 4,
   "id": "7c76877f",
   "metadata": {},
   "outputs": [],
   "source": [
    "# Carga de datos de archivo .csv\n",
    "dataTraining = pd.read_csv('https://github.com/albahnsen/MIAD_ML_and_NLP/raw/main/datasets/dataTraining.zip', encoding='UTF-8', index_col=0)\n",
    "dataTesting = pd.read_csv('https://github.com/albahnsen/MIAD_ML_and_NLP/raw/main/datasets/dataTesting.zip', encoding='UTF-8', index_col=0)"
   ]
  },
  {
   "cell_type": "code",
   "execution_count": 5,
   "id": "ad28777b",
   "metadata": {},
   "outputs": [
    {
     "data": {
      "text/plain": [
       "OneVsRestClassifier(estimator=LogisticRegression(multi_class='multinomial'))"
      ]
     },
     "execution_count": 5,
     "metadata": {},
     "output_type": "execute_result"
    }
   ],
   "source": [
    "def clean_text(text):\n",
    "    text = re.sub((r'[^\\w\\s]'),'', text).lower() \n",
    "    text = re.sub((r'\\d+'),'', text).lower()\n",
    "    text = re.sub((r'_+'),'', text).lower()\n",
    "    wnl = nltk.stem.WordNetLemmatizer()\n",
    "    stopwords = nltk.corpus.stopwords.words('english')\n",
    "    words = re.sub(r'[^\\w\\s]', ' ', text).split()\n",
    "    return ' '.join([wnl.lemmatize(word) for word in words if word not in stopwords])\n",
    "\n",
    "dataTraining['plot'] = dataTraining['title']  +  ' ' +  dataTraining['plot']\n",
    "dataTraining['clean_plot'] = dataTraining['plot'].apply(clean_text)\n",
    "\n",
    "# Definición de variable de interés (y)\n",
    "dataTraining['genres'] = dataTraining['genres'].map(lambda x: eval(x))\n",
    "le = MultiLabelBinarizer()\n",
    "y_genres = le.fit_transform(dataTraining['genres'])\n",
    "\n",
    "X_train, X_test, y_train_genres, y_test_genres = train_test_split(dataTraining['clean_plot'], y_genres, test_size=0.2, random_state=3)\n",
    "tfidf_vectorizer = TfidfVectorizer() \n",
    "xtrain_tfidf = tfidf_vectorizer.fit_transform(X_train)\n",
    "xtest_tfidf = tfidf_vectorizer.transform(X_test)\n",
    "\n",
    "lr = LogisticRegression(multi_class='multinomial')\n",
    "clf = OneVsRestClassifier(lr)\n",
    "\n",
    "\n",
    "clf.fit(xtrain_tfidf, y_train_genres)"
   ]
  },
  {
   "cell_type": "code",
   "execution_count": 6,
   "id": "7b632a5b",
   "metadata": {},
   "outputs": [],
   "source": [
    "y_pred_genres_lr = clf.predict(xtest_tfidf)"
   ]
  },
  {
   "cell_type": "code",
   "execution_count": 7,
   "id": "262bf36f",
   "metadata": {},
   "outputs": [
    {
     "data": {
      "text/plain": [
       "['Proyecto_Eniver/genero_peliculas.pkl']"
      ]
     },
     "execution_count": 7,
     "metadata": {},
     "output_type": "execute_result"
    }
   ],
   "source": [
    "joblib.dump(clf, 'Proyecto_Eniver/genero_peliculas.pkl', compress=3)"
   ]
  },
  {
   "cell_type": "code",
   "execution_count": 8,
   "id": "98aefff1",
   "metadata": {},
   "outputs": [
    {
     "data": {
      "text/plain": [
       "['Proyecto_Eniver/tfidfvectorizer.pkl']"
      ]
     },
     "execution_count": 8,
     "metadata": {},
     "output_type": "execute_result"
    }
   ],
   "source": [
    "joblib.dump(tfidf_vectorizer, 'Proyecto_Eniver/tfidfvectorizer.pkl')"
   ]
  },
  {
   "cell_type": "code",
   "execution_count": 9,
   "id": "5c9b2659",
   "metadata": {},
   "outputs": [
    {
     "data": {
      "text/plain": [
       "['Proyecto_Eniver/mlb.pkl']"
      ]
     },
     "execution_count": 9,
     "metadata": {},
     "output_type": "execute_result"
    }
   ],
   "source": [
    "joblib.dump(le, 'Proyecto_Eniver/mlb.pkl')"
   ]
  },
  {
   "cell_type": "code",
   "execution_count": null,
   "id": "d3a6329c",
   "metadata": {},
   "outputs": [],
   "source": []
  }
 ],
 "metadata": {
  "kernelspec": {
   "display_name": "Python 3 (ipykernel)",
   "language": "python",
   "name": "python3"
  },
  "language_info": {
   "codemirror_mode": {
    "name": "ipython",
    "version": 3
   },
   "file_extension": ".py",
   "mimetype": "text/x-python",
   "name": "python",
   "nbconvert_exporter": "python",
   "pygments_lexer": "ipython3",
   "version": "3.9.12"
  }
 },
 "nbformat": 4,
 "nbformat_minor": 5
}
