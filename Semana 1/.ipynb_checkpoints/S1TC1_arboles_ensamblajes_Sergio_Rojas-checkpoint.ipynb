{
 "cells": [
  {
   "cell_type": "markdown",
   "metadata": {},
   "source": [
    "![image info](https://raw.githubusercontent.com/albahnsen/MIAD_ML_and_NLP/main/images/banner_1.png)"
   ]
  },
  {
   "cell_type": "markdown",
   "metadata": {},
   "source": [
    "# Taller: Construcción e implementación de árboles de decisión y métodos de ensamblaje\n",
    "\n",
    "En este taller podrá poner en práctica los sus conocimientos sobre construcción e implementación de árboles de decisión y métodos de ensamblajes. El taller está constituido por 9 puntos, 5 relacionados con árboles de decisión (parte A) y 4 con métodos de ensamblaje (parte B)."
   ]
  },
  {
   "cell_type": "markdown",
   "metadata": {},
   "source": [
    "## Parte A - Árboles de decisión\n",
    "\n",
    "En esta parte del taller se usará el conjunto de datos de Capital Bikeshare de Kaggle, donde cada observación representa el alquiler de bicicletas durante una hora y día determinado. Para más detalles puede visitar los siguientes enlaces: [datos](https://archive.ics.uci.edu/ml/machine-learning-databases/00275/Bike-Sharing-Dataset.zip), [dicccionario de datos](https://archive.ics.uci.edu/ml/datasets/Bike+Sharing+Dataset#)."
   ]
  },
  {
   "cell_type": "markdown",
   "metadata": {},
   "source": [
    "### Datos prestamo de bicicletas"
   ]
  },
  {
   "cell_type": "code",
   "execution_count": 1,
   "metadata": {},
   "outputs": [],
   "source": [
    "import warnings\n",
    "warnings.filterwarnings('ignore')\n"
   ]
  },
  {
   "cell_type": "code",
   "execution_count": 2,
   "metadata": {},
   "outputs": [],
   "source": [
    "# Importación de librerías\n",
    "%matplotlib inline\n",
    "import pandas as pd\n",
    "import numpy as np\n",
    "from sklearn.model_selection import cross_val_score\n",
    "from sklearn.linear_model import LinearRegression, LogisticRegression\n",
    "from sklearn.tree import DecisionTreeRegressor, export_graphviz\n",
    "from IPython.display import display\n",
    "pd.options.display.float_format = '{:,.2f}'.format\n",
    "from IPython.core.interactiveshell import InteractiveShell\n",
    "InteractiveShell.ast_node_interactivity = \"all\"\n",
    "from sklearn import metrics\n",
    "from sklearn.model_selection import train_test_split\n",
    "import matplotlib.pyplot as plt"
   ]
  },
  {
   "cell_type": "code",
   "execution_count": 3,
   "metadata": {},
   "outputs": [
    {
     "data": {
      "text/html": [
       "<div>\n",
       "<style scoped>\n",
       "    .dataframe tbody tr th:only-of-type {\n",
       "        vertical-align: middle;\n",
       "    }\n",
       "\n",
       "    .dataframe tbody tr th {\n",
       "        vertical-align: top;\n",
       "    }\n",
       "\n",
       "    .dataframe thead th {\n",
       "        text-align: right;\n",
       "    }\n",
       "</style>\n",
       "<table border=\"1\" class=\"dataframe\">\n",
       "  <thead>\n",
       "    <tr style=\"text-align: right;\">\n",
       "      <th></th>\n",
       "      <th>season</th>\n",
       "      <th>holiday</th>\n",
       "      <th>workingday</th>\n",
       "      <th>weather</th>\n",
       "      <th>temp</th>\n",
       "      <th>atemp</th>\n",
       "      <th>humidity</th>\n",
       "      <th>windspeed</th>\n",
       "      <th>casual</th>\n",
       "      <th>registered</th>\n",
       "      <th>total</th>\n",
       "      <th>hour</th>\n",
       "    </tr>\n",
       "    <tr>\n",
       "      <th>datetime</th>\n",
       "      <th></th>\n",
       "      <th></th>\n",
       "      <th></th>\n",
       "      <th></th>\n",
       "      <th></th>\n",
       "      <th></th>\n",
       "      <th></th>\n",
       "      <th></th>\n",
       "      <th></th>\n",
       "      <th></th>\n",
       "      <th></th>\n",
       "      <th></th>\n",
       "    </tr>\n",
       "  </thead>\n",
       "  <tbody>\n",
       "    <tr>\n",
       "      <th>2011-01-01 00:00:00</th>\n",
       "      <td>1</td>\n",
       "      <td>0</td>\n",
       "      <td>0</td>\n",
       "      <td>1</td>\n",
       "      <td>9.84</td>\n",
       "      <td>14.39</td>\n",
       "      <td>81</td>\n",
       "      <td>0.00</td>\n",
       "      <td>3</td>\n",
       "      <td>13</td>\n",
       "      <td>16</td>\n",
       "      <td>0</td>\n",
       "    </tr>\n",
       "    <tr>\n",
       "      <th>2011-01-01 01:00:00</th>\n",
       "      <td>1</td>\n",
       "      <td>0</td>\n",
       "      <td>0</td>\n",
       "      <td>1</td>\n",
       "      <td>9.02</td>\n",
       "      <td>13.63</td>\n",
       "      <td>80</td>\n",
       "      <td>0.00</td>\n",
       "      <td>8</td>\n",
       "      <td>32</td>\n",
       "      <td>40</td>\n",
       "      <td>1</td>\n",
       "    </tr>\n",
       "    <tr>\n",
       "      <th>2011-01-01 02:00:00</th>\n",
       "      <td>1</td>\n",
       "      <td>0</td>\n",
       "      <td>0</td>\n",
       "      <td>1</td>\n",
       "      <td>9.02</td>\n",
       "      <td>13.63</td>\n",
       "      <td>80</td>\n",
       "      <td>0.00</td>\n",
       "      <td>5</td>\n",
       "      <td>27</td>\n",
       "      <td>32</td>\n",
       "      <td>2</td>\n",
       "    </tr>\n",
       "    <tr>\n",
       "      <th>2011-01-01 03:00:00</th>\n",
       "      <td>1</td>\n",
       "      <td>0</td>\n",
       "      <td>0</td>\n",
       "      <td>1</td>\n",
       "      <td>9.84</td>\n",
       "      <td>14.39</td>\n",
       "      <td>75</td>\n",
       "      <td>0.00</td>\n",
       "      <td>3</td>\n",
       "      <td>10</td>\n",
       "      <td>13</td>\n",
       "      <td>3</td>\n",
       "    </tr>\n",
       "    <tr>\n",
       "      <th>2011-01-01 04:00:00</th>\n",
       "      <td>1</td>\n",
       "      <td>0</td>\n",
       "      <td>0</td>\n",
       "      <td>1</td>\n",
       "      <td>9.84</td>\n",
       "      <td>14.39</td>\n",
       "      <td>75</td>\n",
       "      <td>0.00</td>\n",
       "      <td>0</td>\n",
       "      <td>1</td>\n",
       "      <td>1</td>\n",
       "      <td>4</td>\n",
       "    </tr>\n",
       "  </tbody>\n",
       "</table>\n",
       "</div>"
      ],
      "text/plain": [
       "                     season  holiday  workingday  weather  temp  atemp  \\\n",
       "datetime                                                                 \n",
       "2011-01-01 00:00:00       1        0           0        1  9.84  14.39   \n",
       "2011-01-01 01:00:00       1        0           0        1  9.02  13.63   \n",
       "2011-01-01 02:00:00       1        0           0        1  9.02  13.63   \n",
       "2011-01-01 03:00:00       1        0           0        1  9.84  14.39   \n",
       "2011-01-01 04:00:00       1        0           0        1  9.84  14.39   \n",
       "\n",
       "                     humidity  windspeed  casual  registered  total  hour  \n",
       "datetime                                                                   \n",
       "2011-01-01 00:00:00        81       0.00       3          13     16     0  \n",
       "2011-01-01 01:00:00        80       0.00       8          32     40     1  \n",
       "2011-01-01 02:00:00        80       0.00       5          27     32     2  \n",
       "2011-01-01 03:00:00        75       0.00       3          10     13     3  \n",
       "2011-01-01 04:00:00        75       0.00       0           1      1     4  "
      ]
     },
     "execution_count": 3,
     "metadata": {},
     "output_type": "execute_result"
    }
   ],
   "source": [
    "# Lectura de la información de archivo .csv\n",
    "bikes = pd.read_csv('https://raw.githubusercontent.com/davidzarruk/MIAD_ML_NLP_2023/main/datasets/bikeshare.csv', index_col='datetime', parse_dates=True)\n",
    "\n",
    "# Renombrar variable \"count\" a \"total\"\n",
    "bikes.rename(columns={'count':'total'}, inplace=True)\n",
    "\n",
    "# Crear la hora como una variable \n",
    "bikes['hour'] = bikes.index.hour\n",
    "\n",
    "# Visualización de los datos\n",
    "bikes.head()"
   ]
  },
  {
   "cell_type": "markdown",
   "metadata": {},
   "source": [
    "### Punto 1 - Análisis descriptivo\n",
    "\n",
    "Ejecute las celdas 1.1 y 1.2. A partir de los resultados realice un análisis descriptivo sobre las variables \"season\" y \"hour\", escriba sus inferencias sobre los datos. Para complementar su análisis puede usar métricas como máximo, mínimo, percentiles entre otros."
   ]
  },
  {
   "cell_type": "code",
   "execution_count": 4,
   "metadata": {},
   "outputs": [
    {
     "data": {
      "text/plain": [
       "season\n",
       "1   116.34\n",
       "2   215.25\n",
       "3   234.42\n",
       "4   198.99\n",
       "Name: total, dtype: float64"
      ]
     },
     "execution_count": 4,
     "metadata": {},
     "output_type": "execute_result"
    }
   ],
   "source": [
    "# Celda 1.1\n",
    "bikes.groupby('season').total.mean()"
   ]
  },
  {
   "cell_type": "code",
   "execution_count": 5,
   "metadata": {},
   "outputs": [
    {
     "data": {
      "text/plain": [
       "1    2686\n",
       "2    2733\n",
       "3    2733\n",
       "4    2734\n",
       "Name: season, dtype: int64"
      ]
     },
     "execution_count": 5,
     "metadata": {},
     "output_type": "execute_result"
    }
   ],
   "source": [
    "bikes.season.value_counts(sort = False)"
   ]
  },
  {
   "cell_type": "code",
   "execution_count": 6,
   "metadata": {},
   "outputs": [
    {
     "data": {
      "text/plain": [
       "season\n",
       "1    312498\n",
       "2    588282\n",
       "3    640662\n",
       "4    544034\n",
       "Name: total, dtype: int64"
      ]
     },
     "execution_count": 6,
     "metadata": {},
     "output_type": "execute_result"
    }
   ],
   "source": [
    "bikes.groupby('season').total.sum()"
   ]
  },
  {
   "cell_type": "code",
   "execution_count": 7,
   "metadata": {},
   "outputs": [
    {
     "data": {
      "text/html": [
       "<div>\n",
       "<style scoped>\n",
       "    .dataframe tbody tr th:only-of-type {\n",
       "        vertical-align: middle;\n",
       "    }\n",
       "\n",
       "    .dataframe tbody tr th {\n",
       "        vertical-align: top;\n",
       "    }\n",
       "\n",
       "    .dataframe thead th {\n",
       "        text-align: right;\n",
       "    }\n",
       "</style>\n",
       "<table border=\"1\" class=\"dataframe\">\n",
       "  <thead>\n",
       "    <tr style=\"text-align: right;\">\n",
       "      <th></th>\n",
       "      <th>season</th>\n",
       "      <th>holiday</th>\n",
       "      <th>workingday</th>\n",
       "      <th>weather</th>\n",
       "      <th>temp</th>\n",
       "      <th>atemp</th>\n",
       "      <th>humidity</th>\n",
       "      <th>windspeed</th>\n",
       "      <th>casual</th>\n",
       "      <th>registered</th>\n",
       "      <th>total</th>\n",
       "      <th>hour</th>\n",
       "    </tr>\n",
       "  </thead>\n",
       "  <tbody>\n",
       "    <tr>\n",
       "      <th>count</th>\n",
       "      <td>10,886.00</td>\n",
       "      <td>10,886.00</td>\n",
       "      <td>10,886.00</td>\n",
       "      <td>10,886.00</td>\n",
       "      <td>10,886.00</td>\n",
       "      <td>10,886.00</td>\n",
       "      <td>10,886.00</td>\n",
       "      <td>10,886.00</td>\n",
       "      <td>10,886.00</td>\n",
       "      <td>10,886.00</td>\n",
       "      <td>10,886.00</td>\n",
       "      <td>10,886.00</td>\n",
       "    </tr>\n",
       "    <tr>\n",
       "      <th>mean</th>\n",
       "      <td>2.51</td>\n",
       "      <td>0.03</td>\n",
       "      <td>0.68</td>\n",
       "      <td>1.42</td>\n",
       "      <td>20.23</td>\n",
       "      <td>23.66</td>\n",
       "      <td>61.89</td>\n",
       "      <td>12.80</td>\n",
       "      <td>36.02</td>\n",
       "      <td>155.55</td>\n",
       "      <td>191.57</td>\n",
       "      <td>11.54</td>\n",
       "    </tr>\n",
       "    <tr>\n",
       "      <th>std</th>\n",
       "      <td>1.12</td>\n",
       "      <td>0.17</td>\n",
       "      <td>0.47</td>\n",
       "      <td>0.63</td>\n",
       "      <td>7.79</td>\n",
       "      <td>8.47</td>\n",
       "      <td>19.25</td>\n",
       "      <td>8.16</td>\n",
       "      <td>49.96</td>\n",
       "      <td>151.04</td>\n",
       "      <td>181.14</td>\n",
       "      <td>6.92</td>\n",
       "    </tr>\n",
       "    <tr>\n",
       "      <th>min</th>\n",
       "      <td>1.00</td>\n",
       "      <td>0.00</td>\n",
       "      <td>0.00</td>\n",
       "      <td>1.00</td>\n",
       "      <td>0.82</td>\n",
       "      <td>0.76</td>\n",
       "      <td>0.00</td>\n",
       "      <td>0.00</td>\n",
       "      <td>0.00</td>\n",
       "      <td>0.00</td>\n",
       "      <td>1.00</td>\n",
       "      <td>0.00</td>\n",
       "    </tr>\n",
       "    <tr>\n",
       "      <th>25%</th>\n",
       "      <td>2.00</td>\n",
       "      <td>0.00</td>\n",
       "      <td>0.00</td>\n",
       "      <td>1.00</td>\n",
       "      <td>13.94</td>\n",
       "      <td>16.66</td>\n",
       "      <td>47.00</td>\n",
       "      <td>7.00</td>\n",
       "      <td>4.00</td>\n",
       "      <td>36.00</td>\n",
       "      <td>42.00</td>\n",
       "      <td>6.00</td>\n",
       "    </tr>\n",
       "    <tr>\n",
       "      <th>50%</th>\n",
       "      <td>3.00</td>\n",
       "      <td>0.00</td>\n",
       "      <td>1.00</td>\n",
       "      <td>1.00</td>\n",
       "      <td>20.50</td>\n",
       "      <td>24.24</td>\n",
       "      <td>62.00</td>\n",
       "      <td>13.00</td>\n",
       "      <td>17.00</td>\n",
       "      <td>118.00</td>\n",
       "      <td>145.00</td>\n",
       "      <td>12.00</td>\n",
       "    </tr>\n",
       "    <tr>\n",
       "      <th>75%</th>\n",
       "      <td>4.00</td>\n",
       "      <td>0.00</td>\n",
       "      <td>1.00</td>\n",
       "      <td>2.00</td>\n",
       "      <td>26.24</td>\n",
       "      <td>31.06</td>\n",
       "      <td>77.00</td>\n",
       "      <td>17.00</td>\n",
       "      <td>49.00</td>\n",
       "      <td>222.00</td>\n",
       "      <td>284.00</td>\n",
       "      <td>18.00</td>\n",
       "    </tr>\n",
       "    <tr>\n",
       "      <th>max</th>\n",
       "      <td>4.00</td>\n",
       "      <td>1.00</td>\n",
       "      <td>1.00</td>\n",
       "      <td>4.00</td>\n",
       "      <td>41.00</td>\n",
       "      <td>45.45</td>\n",
       "      <td>100.00</td>\n",
       "      <td>57.00</td>\n",
       "      <td>367.00</td>\n",
       "      <td>886.00</td>\n",
       "      <td>977.00</td>\n",
       "      <td>23.00</td>\n",
       "    </tr>\n",
       "  </tbody>\n",
       "</table>\n",
       "</div>"
      ],
      "text/plain": [
       "         season   holiday  workingday   weather      temp     atemp  humidity  \\\n",
       "count 10,886.00 10,886.00   10,886.00 10,886.00 10,886.00 10,886.00 10,886.00   \n",
       "mean       2.51      0.03        0.68      1.42     20.23     23.66     61.89   \n",
       "std        1.12      0.17        0.47      0.63      7.79      8.47     19.25   \n",
       "min        1.00      0.00        0.00      1.00      0.82      0.76      0.00   \n",
       "25%        2.00      0.00        0.00      1.00     13.94     16.66     47.00   \n",
       "50%        3.00      0.00        1.00      1.00     20.50     24.24     62.00   \n",
       "75%        4.00      0.00        1.00      2.00     26.24     31.06     77.00   \n",
       "max        4.00      1.00        1.00      4.00     41.00     45.45    100.00   \n",
       "\n",
       "       windspeed    casual  registered     total      hour  \n",
       "count  10,886.00 10,886.00   10,886.00 10,886.00 10,886.00  \n",
       "mean       12.80     36.02      155.55    191.57     11.54  \n",
       "std         8.16     49.96      151.04    181.14      6.92  \n",
       "min         0.00      0.00        0.00      1.00      0.00  \n",
       "25%         7.00      4.00       36.00     42.00      6.00  \n",
       "50%        13.00     17.00      118.00    145.00     12.00  \n",
       "75%        17.00     49.00      222.00    284.00     18.00  \n",
       "max        57.00    367.00      886.00    977.00     23.00  "
      ]
     },
     "execution_count": 7,
     "metadata": {},
     "output_type": "execute_result"
    }
   ],
   "source": [
    "bikes.describe()"
   ]
  },
  {
   "cell_type": "markdown",
   "metadata": {},
   "source": [
    "Los datos permiten observar, que el mayor número de alquiler de bicicletas se da en verano, teniendo más del doble de alquileres que la termporada de invierno.  Es importante resaltar que se tiene un número de observaciones muy similar para las cuatro temporadas del año."
   ]
  },
  {
   "cell_type": "code",
   "execution_count": 8,
   "metadata": {
    "scrolled": false
   },
   "outputs": [
    {
     "data": {
      "text/plain": [
       "hour\n",
       "0     55.14\n",
       "1     33.86\n",
       "2     22.90\n",
       "3     11.76\n",
       "4      6.41\n",
       "5     19.77\n",
       "6     76.26\n",
       "7    213.12\n",
       "8    362.77\n",
       "9    221.78\n",
       "10   175.09\n",
       "11   210.67\n",
       "12   256.51\n",
       "13   257.79\n",
       "14   243.44\n",
       "15   254.30\n",
       "16   316.37\n",
       "17   468.77\n",
       "18   430.86\n",
       "19   315.28\n",
       "20   228.52\n",
       "21   173.37\n",
       "22   133.58\n",
       "23    89.51\n",
       "Name: total, dtype: float64"
      ]
     },
     "execution_count": 8,
     "metadata": {},
     "output_type": "execute_result"
    }
   ],
   "source": [
    "# Celda 1.2\n",
    "bikes.groupby('hour').total.mean()"
   ]
  },
  {
   "cell_type": "code",
   "execution_count": 9,
   "metadata": {},
   "outputs": [
    {
     "data": {
      "text/plain": [
       "hour\n",
       "0     455\n",
       "1     454\n",
       "2     448\n",
       "3     433\n",
       "4     442\n",
       "5     452\n",
       "6     455\n",
       "7     455\n",
       "8     455\n",
       "9     455\n",
       "10    455\n",
       "11    455\n",
       "12    456\n",
       "13    456\n",
       "14    456\n",
       "15    456\n",
       "16    456\n",
       "17    456\n",
       "18    456\n",
       "19    456\n",
       "20    456\n",
       "21    456\n",
       "22    456\n",
       "23    456\n",
       "Name: total, dtype: int64"
      ]
     },
     "execution_count": 9,
     "metadata": {},
     "output_type": "execute_result"
    }
   ],
   "source": [
    "bikes.groupby('hour').total.count()"
   ]
  },
  {
   "cell_type": "code",
   "execution_count": 10,
   "metadata": {},
   "outputs": [
    {
     "data": {
      "text/plain": [
       "0     455\n",
       "1     454\n",
       "2     448\n",
       "3     433\n",
       "4     442\n",
       "5     452\n",
       "6     455\n",
       "7     455\n",
       "8     455\n",
       "9     455\n",
       "10    455\n",
       "11    455\n",
       "12    456\n",
       "13    456\n",
       "14    456\n",
       "15    456\n",
       "16    456\n",
       "17    456\n",
       "18    456\n",
       "19    456\n",
       "20    456\n",
       "21    456\n",
       "22    456\n",
       "23    456\n",
       "Name: hour, dtype: int64"
      ]
     },
     "execution_count": 10,
     "metadata": {},
     "output_type": "execute_result"
    }
   ],
   "source": [
    "bikes.hour.value_counts(sort = False)"
   ]
  },
  {
   "cell_type": "code",
   "execution_count": 11,
   "metadata": {},
   "outputs": [
    {
     "name": "stdout",
     "output_type": "stream",
     "text": [
      "En la hora 0 se alquila el 1.2%\n",
      "En la hora 1 se alquila el 0.74%\n",
      "En la hora 2 se alquila el 0.49%\n",
      "En la hora 3 se alquila el 0.24%\n",
      "En la hora 4 se alquila el 0.14%\n",
      "En la hora 5 se alquila el 0.43%\n",
      "En la hora 6 se alquila el 1.66%\n",
      "En la hora 7 se alquila el 4.65%\n",
      "En la hora 8 se alquila el 7.91%\n",
      "En la hora 9 se alquila el 4.84%\n",
      "En la hora 10 se alquila el 3.82%\n",
      "En la hora 11 se alquila el 4.6%\n",
      "En la hora 12 se alquila el 5.61%\n",
      "En la hora 13 se alquila el 5.64%\n",
      "En la hora 14 se alquila el 5.32%\n",
      "En la hora 15 se alquila el 5.56%\n",
      "En la hora 16 se alquila el 6.92%\n",
      "En la hora 17 se alquila el 10.25%\n",
      "En la hora 18 se alquila el 9.42%\n",
      "En la hora 19 se alquila el 6.89%\n",
      "En la hora 20 se alquila el 5.0%\n",
      "En la hora 21 se alquila el 3.79%\n",
      "En la hora 22 se alquila el 2.92%\n",
      "En la hora 23 se alquila el 1.96%\n"
     ]
    }
   ],
   "source": [
    "for x in bikes.hour.unique():\n",
    "    suma = bikes[bikes.hour == x].total.sum()\n",
    "    print(f'En la hora {x} se alquila el {round(suma/bikes.total.sum()*100,2)}%')"
   ]
  },
  {
   "cell_type": "code",
   "execution_count": 12,
   "metadata": {},
   "outputs": [
    {
     "data": {
      "text/html": [
       "<div>\n",
       "<style scoped>\n",
       "    .dataframe tbody tr th:only-of-type {\n",
       "        vertical-align: middle;\n",
       "    }\n",
       "\n",
       "    .dataframe tbody tr th {\n",
       "        vertical-align: top;\n",
       "    }\n",
       "\n",
       "    .dataframe thead th {\n",
       "        text-align: right;\n",
       "    }\n",
       "</style>\n",
       "<table border=\"1\" class=\"dataframe\">\n",
       "  <thead>\n",
       "    <tr style=\"text-align: right;\">\n",
       "      <th>season</th>\n",
       "      <th>1</th>\n",
       "      <th>2</th>\n",
       "      <th>3</th>\n",
       "      <th>4</th>\n",
       "    </tr>\n",
       "    <tr>\n",
       "      <th>hour</th>\n",
       "      <th></th>\n",
       "      <th></th>\n",
       "      <th></th>\n",
       "      <th></th>\n",
       "    </tr>\n",
       "  </thead>\n",
       "  <tbody>\n",
       "    <tr>\n",
       "      <th>0</th>\n",
       "      <td>28.29</td>\n",
       "      <td>58.47</td>\n",
       "      <td>75.68</td>\n",
       "      <td>57.88</td>\n",
       "    </tr>\n",
       "    <tr>\n",
       "      <th>1</th>\n",
       "      <td>18.76</td>\n",
       "      <td>35.64</td>\n",
       "      <td>44.83</td>\n",
       "      <td>36.17</td>\n",
       "    </tr>\n",
       "    <tr>\n",
       "      <th>2</th>\n",
       "      <td>13.21</td>\n",
       "      <td>23.48</td>\n",
       "      <td>31.71</td>\n",
       "      <td>22.68</td>\n",
       "    </tr>\n",
       "    <tr>\n",
       "      <th>3</th>\n",
       "      <td>7.76</td>\n",
       "      <td>11.71</td>\n",
       "      <td>15.78</td>\n",
       "      <td>11.17</td>\n",
       "    </tr>\n",
       "    <tr>\n",
       "      <th>4</th>\n",
       "      <td>3.34</td>\n",
       "      <td>6.63</td>\n",
       "      <td>8.09</td>\n",
       "      <td>7.23</td>\n",
       "    </tr>\n",
       "    <tr>\n",
       "      <th>5</th>\n",
       "      <td>10.30</td>\n",
       "      <td>20.38</td>\n",
       "      <td>25.73</td>\n",
       "      <td>22.33</td>\n",
       "    </tr>\n",
       "    <tr>\n",
       "      <th>6</th>\n",
       "      <td>42.73</td>\n",
       "      <td>82.98</td>\n",
       "      <td>96.78</td>\n",
       "      <td>82.25</td>\n",
       "    </tr>\n",
       "    <tr>\n",
       "      <th>7</th>\n",
       "      <td>124.43</td>\n",
       "      <td>232.26</td>\n",
       "      <td>264.04</td>\n",
       "      <td>230.96</td>\n",
       "    </tr>\n",
       "    <tr>\n",
       "      <th>8</th>\n",
       "      <td>253.35</td>\n",
       "      <td>390.19</td>\n",
       "      <td>403.51</td>\n",
       "      <td>403.07</td>\n",
       "    </tr>\n",
       "    <tr>\n",
       "      <th>9</th>\n",
       "      <td>154.44</td>\n",
       "      <td>240.30</td>\n",
       "      <td>250.71</td>\n",
       "      <td>241.08</td>\n",
       "    </tr>\n",
       "    <tr>\n",
       "      <th>10</th>\n",
       "      <td>102.17</td>\n",
       "      <td>192.73</td>\n",
       "      <td>218.54</td>\n",
       "      <td>186.30</td>\n",
       "    </tr>\n",
       "    <tr>\n",
       "      <th>11</th>\n",
       "      <td>122.60</td>\n",
       "      <td>239.08</td>\n",
       "      <td>256.88</td>\n",
       "      <td>223.37</td>\n",
       "    </tr>\n",
       "    <tr>\n",
       "      <th>12</th>\n",
       "      <td>154.41</td>\n",
       "      <td>286.03</td>\n",
       "      <td>307.02</td>\n",
       "      <td>278.58</td>\n",
       "    </tr>\n",
       "    <tr>\n",
       "      <th>13</th>\n",
       "      <td>160.77</td>\n",
       "      <td>289.99</td>\n",
       "      <td>304.42</td>\n",
       "      <td>275.96</td>\n",
       "    </tr>\n",
       "    <tr>\n",
       "      <th>14</th>\n",
       "      <td>151.26</td>\n",
       "      <td>271.96</td>\n",
       "      <td>286.35</td>\n",
       "      <td>264.20</td>\n",
       "    </tr>\n",
       "    <tr>\n",
       "      <th>15</th>\n",
       "      <td>159.09</td>\n",
       "      <td>285.41</td>\n",
       "      <td>294.96</td>\n",
       "      <td>277.74</td>\n",
       "    </tr>\n",
       "    <tr>\n",
       "      <th>16</th>\n",
       "      <td>188.64</td>\n",
       "      <td>359.16</td>\n",
       "      <td>371.32</td>\n",
       "      <td>346.37</td>\n",
       "    </tr>\n",
       "    <tr>\n",
       "      <th>17</th>\n",
       "      <td>283.46</td>\n",
       "      <td>540.32</td>\n",
       "      <td>565.39</td>\n",
       "      <td>485.90</td>\n",
       "    </tr>\n",
       "    <tr>\n",
       "      <th>18</th>\n",
       "      <td>258.16</td>\n",
       "      <td>499.54</td>\n",
       "      <td>539.07</td>\n",
       "      <td>426.68</td>\n",
       "    </tr>\n",
       "    <tr>\n",
       "      <th>19</th>\n",
       "      <td>176.32</td>\n",
       "      <td>371.94</td>\n",
       "      <td>413.50</td>\n",
       "      <td>299.36</td>\n",
       "    </tr>\n",
       "    <tr>\n",
       "      <th>20</th>\n",
       "      <td>124.39</td>\n",
       "      <td>267.27</td>\n",
       "      <td>307.84</td>\n",
       "      <td>214.56</td>\n",
       "    </tr>\n",
       "    <tr>\n",
       "      <th>21</th>\n",
       "      <td>95.30</td>\n",
       "      <td>199.29</td>\n",
       "      <td>236.02</td>\n",
       "      <td>162.88</td>\n",
       "    </tr>\n",
       "    <tr>\n",
       "      <th>22</th>\n",
       "      <td>72.91</td>\n",
       "      <td>154.19</td>\n",
       "      <td>180.79</td>\n",
       "      <td>126.41</td>\n",
       "    </tr>\n",
       "    <tr>\n",
       "      <th>23</th>\n",
       "      <td>45.33</td>\n",
       "      <td>101.68</td>\n",
       "      <td>121.72</td>\n",
       "      <td>89.30</td>\n",
       "    </tr>\n",
       "  </tbody>\n",
       "</table>\n",
       "</div>"
      ],
      "text/plain": [
       "season      1      2      3      4\n",
       "hour                              \n",
       "0       28.29  58.47  75.68  57.88\n",
       "1       18.76  35.64  44.83  36.17\n",
       "2       13.21  23.48  31.71  22.68\n",
       "3        7.76  11.71  15.78  11.17\n",
       "4        3.34   6.63   8.09   7.23\n",
       "5       10.30  20.38  25.73  22.33\n",
       "6       42.73  82.98  96.78  82.25\n",
       "7      124.43 232.26 264.04 230.96\n",
       "8      253.35 390.19 403.51 403.07\n",
       "9      154.44 240.30 250.71 241.08\n",
       "10     102.17 192.73 218.54 186.30\n",
       "11     122.60 239.08 256.88 223.37\n",
       "12     154.41 286.03 307.02 278.58\n",
       "13     160.77 289.99 304.42 275.96\n",
       "14     151.26 271.96 286.35 264.20\n",
       "15     159.09 285.41 294.96 277.74\n",
       "16     188.64 359.16 371.32 346.37\n",
       "17     283.46 540.32 565.39 485.90\n",
       "18     258.16 499.54 539.07 426.68\n",
       "19     176.32 371.94 413.50 299.36\n",
       "20     124.39 267.27 307.84 214.56\n",
       "21      95.30 199.29 236.02 162.88\n",
       "22      72.91 154.19 180.79 126.41\n",
       "23      45.33 101.68 121.72  89.30"
      ]
     },
     "execution_count": 12,
     "metadata": {},
     "output_type": "execute_result"
    }
   ],
   "source": [
    "bikes.pivot_table(index='hour', columns = 'season', values='total')"
   ]
  },
  {
   "cell_type": "markdown",
   "metadata": {},
   "source": [
    "## Conclusiones"
   ]
  },
  {
   "cell_type": "markdown",
   "metadata": {},
   "source": [
    " - Entre las 5 y las 7 de la tarde, se alquila el 27% del total de bicicletas, siendo la hora pico de alquiler las 5pm.\n",
    " - los datos tienen una distribución simetrica\n",
    " - La estación que tiene mayor distribución de bicicletas rentadas es la 3 (234) y el menor es 1 (116)\n",
    " - En horas de la mañana se observa un pico a las 8am con el 7.91%.  \n",
    " - Se puede observar que el incremento de alquier de bicicletas en verano es constante en cualquier horario, en comparación con otras temporadas del año"
   ]
  },
  {
   "cell_type": "markdown",
   "metadata": {},
   "source": [
    "### Punto 2 - Análisis de gráficos\n",
    "\n",
    "Primero ejecute la celda 2.1 y asegúrese de comprender el código y el resultado. Luego, en cada una de celdas 2.2 y 2.3 escriba un código que genere una gráfica del número de bicicletas rentadas promedio para cada valor de la variable \"hour\" (hora) cuando la variable \"season\" es igual a 1 (invierno) e igual a 3 (verano), respectivamente. Analice y escriba sus hallazgos."
   ]
  },
  {
   "cell_type": "code",
   "execution_count": 13,
   "metadata": {},
   "outputs": [
    {
     "data": {
      "text/plain": [
       "<AxesSubplot:xlabel='hour'>"
      ]
     },
     "execution_count": 13,
     "metadata": {},
     "output_type": "execute_result"
    },
    {
     "data": {
      "image/png": "[encoded data removed]",
      "text/plain": [
       "<Figure size 432x288 with 1 Axes>"
      ]
     },
     "metadata": {
      "needs_background": "light"
     },
     "output_type": "display_data"
    }
   ],
   "source": [
    "# Celda 2.1 - rentas promedio para cada valor de la variable \"hour\"\n",
    "bikes.groupby('hour').total.mean().plot()"
   ]
  },
  {
   "cell_type": "code",
   "execution_count": 14,
   "metadata": {},
   "outputs": [
    {
     "data": {
      "text/plain": [
       "<AxesSubplot:xlabel='hour'>"
      ]
     },
     "execution_count": 14,
     "metadata": {},
     "output_type": "execute_result"
    },
    {
     "data": {
      "image/png": "[encoded data removed]",
      "text/plain": [
       "<Figure size 432x288 with 1 Axes>"
      ]
     },
     "metadata": {
      "needs_background": "light"
     },
     "output_type": "display_data"
    }
   ],
   "source": [
    "# Celda 2.2 - \"season\"=1 escriba su código y hallazgos \n",
    "bikes[bikes.season==1].groupby('hour').total.mean().plot()"
   ]
  },
  {
   "cell_type": "code",
   "execution_count": 15,
   "metadata": {},
   "outputs": [
    {
     "data": {
      "text/plain": [
       "<AxesSubplot:xlabel='hour'>"
      ]
     },
     "execution_count": 15,
     "metadata": {},
     "output_type": "execute_result"
    },
    {
     "data": {
      "image/png": "[encoded data removed]",
      "text/plain": [
       "<Figure size 432x288 with 1 Axes>"
      ]
     },
     "metadata": {
      "needs_background": "light"
     },
     "output_type": "display_data"
    }
   ],
   "source": [
    "# Celda 2.3 - \"season\"=3 escriba su código y hallazgos \n",
    "bikes[bikes.season==3].groupby('hour').total.mean().plot()"
   ]
  },
  {
   "cell_type": "markdown",
   "metadata": {},
   "source": [
    "## Conclusiones"
   ]
  },
  {
   "cell_type": "markdown",
   "metadata": {},
   "source": [
    "El comportamiento de alquiler y los picos promedio son constantes en las temporadadas de invierno y verano, las cuales a su vez están alienadas al comportamiento total. Se puede visualizar que los picos se presentan a la misma hora pero en cantidades diferentes, invierno por encima de los 250 y verano por encima de los 500"
   ]
  },
  {
   "cell_type": "markdown",
   "metadata": {},
   "source": [
    "### Punto 3 - Regresión lineal\n",
    "En la celda 3 ajuste un modelo de regresión lineal a todo el conjunto de datos, utilizando \"total\" como variable de respuesta y \"season\" y \"hour\" como las únicas variables predictoras, teniendo en cuenta que la variable \"season\" es categórica. Luego, imprima los coeficientes e interprételos. ¿Cuáles son las limitaciones de la regresión lineal en este caso?"
   ]
  },
  {
   "cell_type": "code",
   "execution_count": 16,
   "metadata": {},
   "outputs": [
    {
     "data": {
      "text/plain": [
       "LinearRegression()"
      ]
     },
     "execution_count": 16,
     "metadata": {},
     "output_type": "execute_result"
    },
    {
     "data": {
      "text/html": [
       "<div>\n",
       "<style scoped>\n",
       "    .dataframe tbody tr th:only-of-type {\n",
       "        vertical-align: middle;\n",
       "    }\n",
       "\n",
       "    .dataframe tbody tr th {\n",
       "        vertical-align: top;\n",
       "    }\n",
       "\n",
       "    .dataframe thead th {\n",
       "        text-align: right;\n",
       "    }\n",
       "</style>\n",
       "<table border=\"1\" class=\"dataframe\">\n",
       "  <thead>\n",
       "    <tr style=\"text-align: right;\">\n",
       "      <th></th>\n",
       "      <th>Coefficient</th>\n",
       "    </tr>\n",
       "  </thead>\n",
       "  <tbody>\n",
       "    <tr>\n",
       "      <th>hour</th>\n",
       "      <td>10.76</td>\n",
       "    </tr>\n",
       "    <tr>\n",
       "      <th>season_1</th>\n",
       "      <td>-78.09</td>\n",
       "    </tr>\n",
       "    <tr>\n",
       "      <th>season_2</th>\n",
       "      <td>23.79</td>\n",
       "    </tr>\n",
       "    <tr>\n",
       "      <th>season_3</th>\n",
       "      <td>44.09</td>\n",
       "    </tr>\n",
       "    <tr>\n",
       "      <th>season_4</th>\n",
       "      <td>10.20</td>\n",
       "    </tr>\n",
       "  </tbody>\n",
       "</table>\n",
       "</div>"
      ],
      "text/plain": [
       "          Coefficient\n",
       "hour            10.76\n",
       "season_1       -78.09\n",
       "season_2        23.79\n",
       "season_3        44.09\n",
       "season_4        10.20"
      ]
     },
     "execution_count": 16,
     "metadata": {},
     "output_type": "execute_result"
    },
    {
     "name": "stdout",
     "output_type": "stream",
     "text": [
      "Intercept: 69.01989126218228\n",
      "Coeficiente de determinación R^2: 0.2262220712209675\n"
     ]
    }
   ],
   "source": [
    "Xinit = bikes[[\"season\",\"hour\"]].reset_index(drop=True)\n",
    "Xinit[\"season\"] = Xinit[\"season\"].astype('string')\n",
    "X = pd.get_dummies(data=Xinit, columns=['season'])\n",
    "Y = bikes['total'].reset_index(drop=True)\n",
    "X_train, X_test, y_train, y_test = train_test_split(X, Y, test_size=0.33, random_state=101)\n",
    "model = LinearRegression()\n",
    "model.fit(X_train,y_train)\n",
    "\n",
    "coeff_parameter = pd.DataFrame(model.coef_,X.columns,columns=['Coefficient'])\n",
    "coeff_parameter\n",
    "print(\"Intercept:\", model.intercept_)\n",
    "print(\"Coeficiente de determinación R^2:\", model.score(X_train,y_train))"
   ]
  },
  {
   "cell_type": "markdown",
   "metadata": {},
   "source": [
    "## Conclusiones"
   ]
  },
  {
   "cell_type": "markdown",
   "metadata": {},
   "source": [
    "De los resultados del modelo, es posible interpretar:\n",
    "- El intercepto dio 69.01, es decir que cuando todas las variables predictoras son igual a cero, seran rentadas 69 bicicletas\n",
    "- En los coeficientes podemos observar que la variable de invierno influye de forma negativa, disminuyendo la cantidad de bicicletas rentadas. Los demás influyen de forma positiva siendo el verano, quien tiene mayor impacto.\n",
    "- El R2 muestra que el modelo posee un muy bajo poder predictivo."
   ]
  },
  {
   "cell_type": "markdown",
   "metadata": {},
   "source": [
    "### Punto 4 - Árbol de decisión manual\n",
    "En la celda 4 cree un árbol de decisiones para pronosticar la variable \"total\" iterando **manualmente** sobre las variables \"hour\" y  \"season\". El árbol debe tener al menos 6 nodos finales."
   ]
  },
  {
   "cell_type": "code",
   "execution_count": 17,
   "metadata": {},
   "outputs": [
    {
     "name": "stdout",
     "output_type": "stream",
     "text": [
      "Datos de la variable season\n"
     ]
    },
    {
     "data": {
      "text/plain": [
       "array([1., 2., 3., 4.])"
      ]
     },
     "execution_count": 17,
     "metadata": {},
     "output_type": "execute_result"
    },
    {
     "name": "stdout",
     "output_type": "stream",
     "text": [
      "gini_l 0.4883549134307361\n",
      "gini_r 0.48905114007121697\n",
      "Gini impurity 0.011294071270468997\n",
      "\n",
      "\n",
      "\n",
      "Datos de la variable hour\n"
     ]
    },
    {
     "data": {
      "text/plain": [
       "array([ 0.,  2.,  4.,  7.,  9., 12., 14., 16., 19., 21.])"
      ]
     },
     "execution_count": 17,
     "metadata": {},
     "output_type": "execute_result"
    },
    {
     "name": "stdout",
     "output_type": "stream",
     "text": [
      "gini_l 0.4099189270957957\n",
      "gini_r 0.4131944444444444\n",
      "Gini impurity 0.08843322131216141\n",
      "\n",
      "\n",
      "\n"
     ]
    }
   ],
   "source": [
    "# Celda 4\n",
    "# Selección de variables predictoras\n",
    "bikes['season'] = bikes['season'].astype(int)\n",
    "X = bikes.loc[:,['season','hour']]\n",
    "y = (bikes.total > bikes['total'].median()).astype(int)\n",
    "\n",
    "# Definición de parámetros y criterios de parada\n",
    "max_depth = None\n",
    "num_pct = 10  ##\n",
    "max_features = None\n",
    "min_gain=0.001\n",
    "\n",
    "# Definición de la función que calcula el gini index\n",
    "def gini(y):\n",
    "    if y.shape[0] == 0:\n",
    "        return 0\n",
    "    else:\n",
    "        return 1 - (y.mean()**2 + (1 - y.mean())**2)\n",
    "\n",
    "# Definición de la función gini_imputiry para calular la ganancia de una variable predictora j dado el punto de corte k\n",
    "def gini_impurity(X_col, y, split):\n",
    "    \n",
    "    filter_l = X_col < split\n",
    "    y_l = y.loc[filter_l]\n",
    "    y_r = y.loc[~filter_l]\n",
    "    \n",
    "    n_l = y_l.shape[0]\n",
    "    n_r = y_r.shape[0]\n",
    "    \n",
    "    gini_y = gini(y)\n",
    "    gini_l = gini(y_l)\n",
    "    gini_r = gini(y_r)\n",
    "    \n",
    "    gini_impurity_ = gini_y - (n_l / (n_l + n_r) * gini_l + n_r / (n_l + n_r) * gini_r)\n",
    "    \n",
    "    return gini_impurity_\n",
    "\n",
    "for j in X.columns:\n",
    "    print(f'Datos de la variable {j}')\n",
    "    # División de la variable Hits en num_ctp puntos (parámetro definido anteriormente) para obtener posibles puntos de corte\n",
    "    splits = np.percentile(X.loc[:, j], np.arange(0, 100, 100.0 / num_pct).tolist())\n",
    "    splits = np.unique(splits)\n",
    "    splits\n",
    "\n",
    "    # División de las observaciones usando el punto de corte en la posición 5 de la lista de splits\n",
    "    k=int(len(splits)/2)\n",
    "    filter_l = X.loc[:, j] < splits[k]\n",
    "\n",
    "    # División de la variable de respuesta de acuerdo a si la observación cumple o no con la regla binaria\n",
    "    # y_l: la observación tiene un valor menor al punto de corte seleccionado\n",
    "    # y_r: la observación tiene un valor mayor o igual al punto de corte seleccionado\n",
    "    y_l = y.loc[filter_l]\n",
    "    y_r = y.loc[~filter_l]\n",
    "\n",
    "    # Gini index de las observaciones que tienen un valor menor al punto de corte seleccionado\n",
    "    gini_l = gini(y_l)\n",
    "    print(f'gini_l {gini_l}')\n",
    "\n",
    "    # Gini index de las observaciones que tienen un valor mayor o igual al punto de corte seleccionado\n",
    "    gini_r = gini(y_r)\n",
    "    print(f'gini_r {gini_r}')\n",
    "\n",
    "    # Ganancia de la variable 'Hits' en el punto de corte selecionado\n",
    "    print(f'Gini impurity {gini_impurity(X.loc[:, j], y, splits[k])}')\n",
    "    print('\\n\\n')"
   ]
  },
  {
   "cell_type": "code",
   "execution_count": 18,
   "metadata": {},
   "outputs": [
    {
     "name": "stdout",
     "output_type": "stream",
     "text": [
      "Posicion mejor variable:1 - Split:8.0 - Ganancia:0.16178755449047394\n"
     ]
    },
    {
     "data": {
      "text/plain": [
       "(10886, 3594, 7292)"
      ]
     },
     "execution_count": 18,
     "metadata": {},
     "output_type": "execute_result"
    },
    {
     "data": {
      "text/plain": [
       "(0.49917325004593055, 0.09404563160823595, 0.6988480526604498)"
      ]
     },
     "execution_count": 18,
     "metadata": {},
     "output_type": "execute_result"
    }
   ],
   "source": [
    "# Definición de la función best_split para calcular cuál es la mejor variable y punto de corte para hacer la bifurcación del árbol\n",
    "def best_split(X, y, num_pct=10):\n",
    "    \n",
    "    features = range(X.shape[1])\n",
    "    \n",
    "    best_split = [0, 0, 0]  # j, split, gain\n",
    "    \n",
    "    # Para todas las varibles \n",
    "    for j in features:\n",
    "        \n",
    "        splits = np.percentile(X.iloc[:, j], np.arange(0, 100, 100.0 / (num_pct+1)).tolist())\n",
    "        splits = np.unique(splits)[1:]\n",
    "        \n",
    "        # Para cada partición\n",
    "        for split in splits:\n",
    "            gain = gini_impurity(X.iloc[:, j], y, split)\n",
    "                        \n",
    "            if gain > best_split[2]:\n",
    "                best_split = [j, split, gain]\n",
    "    \n",
    "    return best_split\n",
    "\n",
    "# Obtención de la variable 'j', su punto de corte 'split' y su ganancia 'gain'\n",
    "j, split, gain = best_split(X, y, int(len(splits)/2))\n",
    "print(f'Posicion mejor variable:{j} - Split:{split} - Ganancia:{gain}')\n",
    "\n",
    "\n",
    "# División de las observaciones usando la mejor variable 'j' y su punto de corte 'split'\n",
    "filter_l = X.iloc[:, j] < split\n",
    "\n",
    "y_l = y.loc[filter_l]\n",
    "y_r = y.loc[~filter_l]\n",
    "\n",
    "y.shape[0], y_l.shape[0], y_r.shape[0]\n",
    "y.mean(), y_l.mean(), y_r.mean()"
   ]
  },
  {
   "cell_type": "code",
   "execution_count": 19,
   "metadata": {},
   "outputs": [],
   "source": [
    "# Definición de la función tree_grow para hacer un crecimiento recursivo del árbol\n",
    "def tree_grow(X, y, level=0, min_gain=0.001, max_depth=None, num_pct=6):\n",
    "    \n",
    "    # Si solo es una observación\n",
    "    if X.shape[0] == 1:\n",
    "        tree = dict(y_pred=y.iloc[:1].values[0], y_prob=0.5, level=level, split=-1, n_samples=1, gain=0)\n",
    "        return tree\n",
    "    \n",
    "    # Calcular la mejor división\n",
    "    j, split, gain = best_split(X, y, num_pct)\n",
    "    \n",
    "    # Guardar el árbol y estimar la predicción\n",
    "    y_pred = int(y.mean() >= 0.5) \n",
    "    y_prob = (y.sum() + 1.0) / (y.shape[0] + 2.0)  # Corrección Laplace \n",
    "    \n",
    "    tree = dict(y_pred=y_pred, y_prob=y_prob, level=level, split=-1, n_samples=X.shape[0], gain=gain)\n",
    "    # Revisar el criterio de parada \n",
    "    if gain < min_gain:\n",
    "        return tree\n",
    "    if max_depth is not None:\n",
    "        if level >= max_depth:\n",
    "            return tree   \n",
    "    \n",
    "    # Continuar creando la partición\n",
    "    filter_l = X.iloc[:, j] < split\n",
    "    X_l, y_l = X.loc[filter_l], y.loc[filter_l]\n",
    "    X_r, y_r = X.loc[~filter_l], y.loc[~filter_l]\n",
    "    tree['split'] = [j, split]\n",
    "\n",
    "    # Siguiente iteración para cada partición\n",
    "    \n",
    "    tree['sl'] = tree_grow(X_l, y_l, level + 1, min_gain=min_gain, max_depth=max_depth, num_pct=num_pct)\n",
    "    tree['sr'] = tree_grow(X_r, y_r, level + 1, min_gain=min_gain, max_depth=max_depth, num_pct=num_pct)\n",
    "    \n",
    "    return tree\n"
   ]
  },
  {
   "cell_type": "code",
   "execution_count": 20,
   "metadata": {},
   "outputs": [
    {
     "data": {
      "text/plain": [
       "{'y_pred': 0,\n",
       " 'y_prob': 0.49917340191036,\n",
       " 'level': 0,\n",
       " 'split': [1, 8.0],\n",
       " 'n_samples': 10886,\n",
       " 'gain': 0.16178755449047394,\n",
       " 'sl': {'y_pred': 0,\n",
       "  'y_prob': 0.0942714126807564,\n",
       "  'level': 1,\n",
       "  'split': -1,\n",
       "  'n_samples': 3594,\n",
       "  'gain': 0.06425451863089747},\n",
       " 'sr': {'y_pred': 1,\n",
       "  'y_prob': 0.6987935289278859,\n",
       "  'level': 1,\n",
       "  'split': -1,\n",
       "  'n_samples': 7292,\n",
       "  'gain': 0.05853892375774267}}"
      ]
     },
     "execution_count": 20,
     "metadata": {},
     "output_type": "execute_result"
    }
   ],
   "source": [
    "# Aplicación de la función tree_grow\n",
    "tree_grow(X, y, level=0, min_gain=0.001, max_depth=1, num_pct=10)"
   ]
  },
  {
   "cell_type": "code",
   "execution_count": 21,
   "metadata": {
    "scrolled": false
   },
   "outputs": [
    {
     "data": {
      "text/plain": [
       "{'y_pred': 0,\n",
       " 'y_prob': 0.49917340191036,\n",
       " 'level': 0,\n",
       " 'split': [1, 6.0],\n",
       " 'n_samples': 10886,\n",
       " 'gain': 0.15633290344246603,\n",
       " 'sl': {'y_pred': 0,\n",
       "  'y_prob': 0.010796723752792257,\n",
       "  'level': 1,\n",
       "  'split': -1,\n",
       "  'n_samples': 2684,\n",
       "  'gain': 0.0008089140964271449},\n",
       " 'sr': {'y_pred': 1,\n",
       "  'y_prob': 0.659068746952706,\n",
       "  'level': 1,\n",
       "  'split': [0, 2.0],\n",
       "  'n_samples': 8202,\n",
       "  'gain': 0.053331477989607856,\n",
       "  'sl': {'y_pred': 0,\n",
       "   'y_prob': 0.3759765625,\n",
       "   'level': 2,\n",
       "   'split': [1, 21.0],\n",
       "   'n_samples': 2046,\n",
       "   'gain': 0.030675289188876187,\n",
       "   'sl': {'y_pred': 0,\n",
       "    'y_prob': 0.43141852286049237,\n",
       "    'level': 3,\n",
       "    'split': [1, 8.0],\n",
       "    'n_samples': 1704,\n",
       "    'gain': 0.021903074163053315,\n",
       "    'sl': {'y_pred': 0,\n",
       "     'y_prob': 0.16666666666666666,\n",
       "     'level': 4,\n",
       "     'split': [1, 7.0],\n",
       "     'n_samples': 226,\n",
       "     'gain': 0.05360639047693633,\n",
       "     'sl': {'y_pred': 0,\n",
       "      'y_prob': 0.008695652173913044,\n",
       "      'level': 5,\n",
       "      'split': -1,\n",
       "      'n_samples': 113,\n",
       "      'gain': 0},\n",
       "     'sr': {'y_pred': 0,\n",
       "      'y_prob': 0.33043478260869563,\n",
       "      'level': 5,\n",
       "      'split': -1,\n",
       "      'n_samples': 113,\n",
       "      'gain': 0}},\n",
       "    'sr': {'y_pred': 0,\n",
       "     'y_prob': 0.4722972972972973,\n",
       "     'level': 4,\n",
       "     'split': [1, 17.0],\n",
       "     'n_samples': 1478,\n",
       "     'gain': 0.01189606133817589,\n",
       "     'sl': {'y_pred': 0,\n",
       "      'y_prob': 0.4208984375,\n",
       "      'level': 5,\n",
       "      'split': [1, 9.0],\n",
       "      'n_samples': 1022,\n",
       "      'gain': 0.013628090369951773,\n",
       "      'sl': {'y_pred': 1,\n",
       "       'y_prob': 0.6521739130434783,\n",
       "       'level': 6,\n",
       "       'split': -1,\n",
       "       'n_samples': 113,\n",
       "       'gain': 0},\n",
       "      'sr': {'y_pred': 0,\n",
       "       'y_prob': 0.3918770581778266,\n",
       "       'level': 6,\n",
       "       'split': -1,\n",
       "       'n_samples': 909,\n",
       "       'gain': 0.00797943171619031}},\n",
       "     'sr': {'y_pred': 1,\n",
       "      'y_prob': 0.5873362445414847,\n",
       "      'level': 5,\n",
       "      'split': [1, 19.0],\n",
       "      'n_samples': 456,\n",
       "      'gain': 0.06467374576792861,\n",
       "      'sl': {'y_pred': 1,\n",
       "       'y_prob': 0.7652173913043478,\n",
       "       'level': 6,\n",
       "       'split': -1,\n",
       "       'n_samples': 228,\n",
       "       'gain': 0.0009618344105878363},\n",
       "      'sr': {'y_pred': 0,\n",
       "       'y_prob': 0.40869565217391307,\n",
       "       'level': 6,\n",
       "       'split': -1,\n",
       "       'n_samples': 228,\n",
       "       'gain': 0.011118805786395902}}}},\n",
       "   'sr': {'y_pred': 0,\n",
       "    'y_prob': 0.10174418604651163,\n",
       "    'level': 3,\n",
       "    'split': [1, 22.0],\n",
       "    'n_samples': 342,\n",
       "    'gain': 0.012345679012345678,\n",
       "    'sl': {'y_pred': 0,\n",
       "     'y_prob': 0.21551724137931033,\n",
       "     'level': 4,\n",
       "     'split': -1,\n",
       "     'n_samples': 114,\n",
       "     'gain': 0},\n",
       "    'sr': {'y_pred': 0,\n",
       "     'y_prob': 0.04782608695652174,\n",
       "     'level': 4,\n",
       "     'split': [1, 23.0],\n",
       "     'n_samples': 228,\n",
       "     'gain': 0.002462296091104932,\n",
       "     'sl': {'y_pred': 0,\n",
       "      'y_prob': 0.08620689655172414,\n",
       "      'level': 5,\n",
       "      'split': -1,\n",
       "      'n_samples': 114,\n",
       "      'gain': 0},\n",
       "     'sr': {'y_pred': 0,\n",
       "      'y_prob': 0.017241379310344827,\n",
       "      'level': 5,\n",
       "      'split': -1,\n",
       "      'n_samples': 114,\n",
       "      'gain': 0}}}},\n",
       "  'sr': {'y_pred': 1,\n",
       "   'y_prob': 0.7531666125365378,\n",
       "   'level': 2,\n",
       "   'split': [1, 8.0],\n",
       "   'n_samples': 6156,\n",
       "   'gain': 0.03135131586335954,\n",
       "   'sl': {'y_pred': 0,\n",
       "    'y_prob': 0.39941690962099125,\n",
       "    'level': 3,\n",
       "    'split': [1, 7.0],\n",
       "    'n_samples': 684,\n",
       "    'gain': 0.1192204438972676,\n",
       "    'sl': {'y_pred': 0,\n",
       "     'y_prob': 0.1569767441860465,\n",
       "     'level': 4,\n",
       "     'split': [0, 3.0],\n",
       "     'n_samples': 342,\n",
       "     'gain': 0.0034198556820899673,\n",
       "     'sl': {'y_pred': 0,\n",
       "      'y_prob': 0.10344827586206896,\n",
       "      'level': 5,\n",
       "      'split': -1,\n",
       "      'n_samples': 114,\n",
       "      'gain': 0},\n",
       "     'sr': {'y_pred': 0,\n",
       "      'y_prob': 0.18695652173913044,\n",
       "      'level': 5,\n",
       "      'split': [0, 4.0],\n",
       "      'n_samples': 228,\n",
       "      'gain': 0.007540781779009076,\n",
       "      'sl': {'y_pred': 0,\n",
       "       'y_prob': 0.25,\n",
       "       'level': 6,\n",
       "       'split': -1,\n",
       "       'n_samples': 114,\n",
       "       'gain': 0},\n",
       "      'sr': {'y_pred': 0,\n",
       "       'y_prob': 0.12931034482758622,\n",
       "       'level': 6,\n",
       "       'split': -1,\n",
       "       'n_samples': 114,\n",
       "       'gain': 0}}},\n",
       "    'sr': {'y_pred': 1,\n",
       "     'y_prob': 0.6424418604651163,\n",
       "     'level': 4,\n",
       "     'split': -1,\n",
       "     'n_samples': 342,\n",
       "     'gain': 0.000136794227283632}},\n",
       "   'sr': {'y_pred': 1,\n",
       "    'y_prob': 0.7974059188892948,\n",
       "    'level': 3,\n",
       "    'split': [1, 21.0],\n",
       "    'n_samples': 5472,\n",
       "    'gain': 0.041660007813054845,\n",
       "    'sl': {'y_pred': 1,\n",
       "     'y_prob': 0.866681654676259,\n",
       "     'level': 4,\n",
       "     'split': [1, 13.0],\n",
       "     'n_samples': 4446,\n",
       "     'gain': 0.007483210835721843,\n",
       "     'sl': {'y_pred': 1,\n",
       "      'y_prob': 0.7891355140186916,\n",
       "      'level': 5,\n",
       "      'split': [1, 12.0],\n",
       "      'n_samples': 1710,\n",
       "      'gain': 0.006502000615573877,\n",
       "      'sl': {'y_pred': 1,\n",
       "       'y_prob': 0.7605839416058394,\n",
       "       'level': 6,\n",
       "       'split': -1,\n",
       "       'n_samples': 1368,\n",
       "       'gain': 0.008465211518074056},\n",
       "      'sr': {'y_pred': 1,\n",
       "       'y_prob': 0.9011627906976745,\n",
       "       'level': 6,\n",
       "       'split': -1,\n",
       "       'n_samples': 342,\n",
       "       'gain': 0.001231148045552466}},\n",
       "     'sr': {'y_pred': 1,\n",
       "      'y_prob': 0.9149013878743608,\n",
       "      'level': 5,\n",
       "      'split': [1, 16.0],\n",
       "      'n_samples': 2736,\n",
       "      'gain': 0.0021077710520614745,\n",
       "      'sl': {'y_pred': 1,\n",
       "       'y_prob': 0.872568093385214,\n",
       "       'level': 6,\n",
       "       'split': -1,\n",
       "       'n_samples': 1026,\n",
       "       'gain': 0.0015968826115537738},\n",
       "      'sr': {'y_pred': 1,\n",
       "       'y_prob': 0.9398364485981309,\n",
       "       'level': 6,\n",
       "       'split': -1,\n",
       "       'n_samples': 1710,\n",
       "       'gain': 0.0030246913580245505}}},\n",
       "    'sr': {'y_pred': 0,\n",
       "     'y_prob': 0.4970817120622568,\n",
       "     'level': 4,\n",
       "     'split': [1, 23.0],\n",
       "     'n_samples': 1026,\n",
       "     'gain': 0.09070312232823768,\n",
       "     'sl': {'y_pred': 1,\n",
       "      'y_prob': 0.6472303206997084,\n",
       "      'level': 5,\n",
       "      'split': [0, 4.0],\n",
       "      'n_samples': 684,\n",
       "      'gain': 0.03181320748264421,\n",
       "      'sl': {'y_pred': 1,\n",
       "       'y_prob': 0.7358078602620087,\n",
       "       'level': 6,\n",
       "       'split': -1,\n",
       "       'n_samples': 456,\n",
       "       'gain': 0.015389350569406102},\n",
       "      'sr': {'y_pred': 0,\n",
       "       'y_prob': 0.46956521739130436,\n",
       "       'level': 6,\n",
       "       'split': -1,\n",
       "       'n_samples': 228,\n",
       "       'gain': 0.03697291474299791}},\n",
       "     'sr': {'y_pred': 0,\n",
       "      'y_prob': 0.19767441860465115,\n",
       "      'level': 5,\n",
       "      'split': [0, 4.0],\n",
       "      'n_samples': 342,\n",
       "      'gain': 0.009883382921240635,\n",
       "      'sl': {'y_pred': 0,\n",
       "       'y_prob': 0.24782608695652175,\n",
       "       'level': 6,\n",
       "       'split': -1,\n",
       "       'n_samples': 228,\n",
       "       'gain': 0.003847337642351567},\n",
       "      'sr': {'y_pred': 0,\n",
       "       'y_prob': 0.10344827586206896,\n",
       "       'level': 6,\n",
       "       'split': -1,\n",
       "       'n_samples': 114,\n",
       "       'gain': 0}}}}}}}"
      ]
     },
     "execution_count": 21,
     "metadata": {},
     "output_type": "execute_result"
    }
   ],
   "source": [
    "tree = tree_grow(X, y, level=0, min_gain=0.001, max_depth=6, num_pct=6)\n",
    "tree"
   ]
  },
  {
   "cell_type": "code",
   "execution_count": 22,
   "metadata": {},
   "outputs": [],
   "source": [
    "# Definición de la función tree_predict para hacer predicciones según las variables 'X' y el árbol 'tree'\n",
    "\n",
    "def tree_predict(X, tree, proba=False):\n",
    "    \n",
    "    predicted = np.ones(X.shape[0])\n",
    "\n",
    "    # Revisar si es el nodo final\n",
    "    if tree['split'] == -1:\n",
    "        if not proba:\n",
    "            predicted = predicted * tree['y_pred']\n",
    "        else:\n",
    "            predicted = predicted * tree['y_prob']\n",
    "            \n",
    "    else:\n",
    "        \n",
    "        j, split = tree['split']\n",
    "        filter_l = (X.iloc[:, j] < split)\n",
    "        X_l = X.loc[filter_l]\n",
    "        X_r = X.loc[~filter_l]\n",
    "\n",
    "        if X_l.shape[0] == 0:  # Si el nodo izquierdo está vacio solo continua con el derecho \n",
    "            predicted[~filter_l] = tree_predict(X_r, tree['sr'], proba)\n",
    "        elif X_r.shape[0] == 0:  #  Si el nodo derecho está vacio solo continua con el izquierdo\n",
    "            predicted[filter_l] = tree_predict(X_l, tree['sl'], proba)\n",
    "        else:\n",
    "            predicted[filter_l] = tree_predict(X_l, tree['sl'], proba)\n",
    "            predicted[~filter_l] = tree_predict(X_r, tree['sr'], proba)\n",
    "\n",
    "    return predicted"
   ]
  },
  {
   "cell_type": "code",
   "execution_count": 23,
   "metadata": {
    "scrolled": false
   },
   "outputs": [
    {
     "data": {
      "text/plain": [
       "array([0., 0., 0., ..., 0., 0., 0.])"
      ]
     },
     "execution_count": 23,
     "metadata": {},
     "output_type": "execute_result"
    }
   ],
   "source": [
    "# Ejecución de función tree_predict\n",
    "tree_predict(X, tree)#.tolist()"
   ]
  },
  {
   "cell_type": "markdown",
   "metadata": {},
   "source": [
    "### Punto 5 - Árbol de decisión con librería\n",
    "En la celda 5 entrene un árbol de decisiones con la **librería sklearn**, usando las variables predictoras \"season\" y \"hour\" y calibre los parámetros que considere conveniente para obtener un mejor desempeño. Recuerde dividir los datos en conjuntos de entrenamiento y validación para esto. Comente el desempeño del modelo con alguna métrica de desempeño de modelos de regresión y compare desempeño con el modelo del punto 3."
   ]
  },
  {
   "cell_type": "code",
   "execution_count": 24,
   "metadata": {},
   "outputs": [],
   "source": [
    "bikes['season'] = bikes['season'] #.astype(int)\n",
    "X = bikes.loc[:,['season','hour']]\n",
    "y = (bikes.total > bikes['total'].median()).astype(int)\n",
    "\n",
    "X_train, X_test, y_train, y_test = train_test_split(X, y, random_state=1)"
   ]
  },
  {
   "cell_type": "code",
   "execution_count": 25,
   "metadata": {},
   "outputs": [],
   "source": [
    "# Celda 5\n",
    "# Lista de valores para calibrar el criterio de parada de máxima profundidad (max_depth)\n",
    "max_depth_range = range(1, 21)\n",
    "# Lista para guardar los valores del RMSE para cada valor de máxima profundidad (max_depth)\n",
    "accuracy_scores = []\n",
    "\n",
    "# Importación de modelos de sklearn \n",
    "from sklearn.model_selection import cross_val_score\n",
    "from sklearn.tree import DecisionTreeClassifier\n",
    "\n",
    "# Loop para obtener el desempeño del modelo de acuerdo con la máxima profundidad\n",
    "for depth in max_depth_range:\n",
    "    # Definición del árbol de decisión usando DecisionTreeClassifier de la libreria sklearn\n",
    "    clf = DecisionTreeClassifier(max_depth=depth, random_state=1)\n",
    "    accuracy_scores.append(cross_val_score(clf, X_train, y_train, cv=6, scoring='accuracy').mean())"
   ]
  },
  {
   "cell_type": "code",
   "execution_count": 26,
   "metadata": {},
   "outputs": [
    {
     "data": {
      "text/plain": [
       "[<matplotlib.lines.Line2D at 0x1ebfcf7c9a0>]"
      ]
     },
     "execution_count": 26,
     "metadata": {},
     "output_type": "execute_result"
    },
    {
     "data": {
      "text/plain": [
       "Text(0.5, 0, 'max_depth')"
      ]
     },
     "execution_count": 26,
     "metadata": {},
     "output_type": "execute_result"
    },
    {
     "data": {
      "text/plain": [
       "Text(0, 0.5, 'Accuracy')"
      ]
     },
     "execution_count": 26,
     "metadata": {},
     "output_type": "execute_result"
    },
    {
     "data": {
      "image/png": "[encoded data removed]",
      "text/plain": [
       "<Figure size 432x288 with 1 Axes>"
      ]
     },
     "metadata": {
      "needs_background": "light"
     },
     "output_type": "display_data"
    }
   ],
   "source": [
    "# Gráfica max_depth versus RMSE (error del modelo)\n",
    "plt.plot(max_depth_range, accuracy_scores)\n",
    "plt.xlabel('max_depth')\n",
    "plt.ylabel('Accuracy')"
   ]
  },
  {
   "cell_type": "code",
   "execution_count": 27,
   "metadata": {},
   "outputs": [
    {
     "data": {
      "text/plain": [
       "(0.8407648823673483, 7)"
      ]
     },
     "execution_count": 27,
     "metadata": {},
     "output_type": "execute_result"
    }
   ],
   "source": [
    "# Mejor accuracy (desempeño del modelo) y su correspondiente max_depth\n",
    "sorted(zip(accuracy_scores, max_depth_range))[::-1][0]"
   ]
  },
  {
   "cell_type": "code",
   "execution_count": 28,
   "metadata": {},
   "outputs": [
    {
     "data": {
      "text/plain": [
       "DecisionTreeClassifier(max_depth=7, random_state=1)"
      ]
     },
     "execution_count": 28,
     "metadata": {},
     "output_type": "execute_result"
    }
   ],
   "source": [
    "# max_depth=4 fue el mejor, se ajusta un árbol usando este valor \n",
    "clf = DecisionTreeClassifier(max_depth=7, random_state=1)\n",
    "clf.fit(X_train, y_train)"
   ]
  },
  {
   "cell_type": "markdown",
   "metadata": {},
   "source": [
    "## Conclusiones"
   ]
  },
  {
   "cell_type": "markdown",
   "metadata": {},
   "source": [
    "Teniendo en cuenta el R^2 = 0.2262220712209675 del modelo de regresión lineal nos muestra que no tiene un buen desempeño ya que es lejano a 1, al contrario del arbol de decisión que nos muestra que tiene un buen desempeño con un accuracy de 0.84\n",
    "\n",
    "El desempeño de la regresión lineal puede estar siendo afectado por el uso de una variable categorica (season)."
   ]
  },
  {
   "cell_type": "markdown",
   "metadata": {},
   "source": [
    "## Parte B - Métodos de ensamblajes\n",
    "En esta parte del taller se usará el conjunto de datos de Popularidad de Noticias Online. El objetivo es predecir si la notica es popular o no, la popularidad está dada por la cantidad de reacciones en redes sociales. Para más detalles puede visitar el siguiente enlace: [datos](https://archive.ics.uci.edu/ml/datasets/online+news+popularity)."
   ]
  },
  {
   "cell_type": "markdown",
   "metadata": {},
   "source": [
    "### Datos popularidad de noticias"
   ]
  },
  {
   "cell_type": "code",
   "execution_count": 29,
   "metadata": {},
   "outputs": [
    {
     "data": {
      "text/html": [
       "<div>\n",
       "<style scoped>\n",
       "    .dataframe tbody tr th:only-of-type {\n",
       "        vertical-align: middle;\n",
       "    }\n",
       "\n",
       "    .dataframe tbody tr th {\n",
       "        vertical-align: top;\n",
       "    }\n",
       "\n",
       "    .dataframe thead th {\n",
       "        text-align: right;\n",
       "    }\n",
       "</style>\n",
       "<table border=\"1\" class=\"dataframe\">\n",
       "  <thead>\n",
       "    <tr style=\"text-align: right;\">\n",
       "      <th></th>\n",
       "      <th>url</th>\n",
       "      <th>timedelta</th>\n",
       "      <th>n_tokens_title</th>\n",
       "      <th>n_tokens_content</th>\n",
       "      <th>n_unique_tokens</th>\n",
       "      <th>n_non_stop_words</th>\n",
       "      <th>n_non_stop_unique_tokens</th>\n",
       "      <th>num_hrefs</th>\n",
       "      <th>num_self_hrefs</th>\n",
       "      <th>num_imgs</th>\n",
       "      <th>...</th>\n",
       "      <th>min_positive_polarity</th>\n",
       "      <th>max_positive_polarity</th>\n",
       "      <th>avg_negative_polarity</th>\n",
       "      <th>min_negative_polarity</th>\n",
       "      <th>max_negative_polarity</th>\n",
       "      <th>title_subjectivity</th>\n",
       "      <th>title_sentiment_polarity</th>\n",
       "      <th>abs_title_subjectivity</th>\n",
       "      <th>abs_title_sentiment_polarity</th>\n",
       "      <th>Popular</th>\n",
       "    </tr>\n",
       "  </thead>\n",
       "  <tbody>\n",
       "    <tr>\n",
       "      <th>0</th>\n",
       "      <td>http://mashable.com/2014/12/10/cia-torture-rep...</td>\n",
       "      <td>28.00</td>\n",
       "      <td>9.00</td>\n",
       "      <td>188.00</td>\n",
       "      <td>0.73</td>\n",
       "      <td>1.00</td>\n",
       "      <td>0.84</td>\n",
       "      <td>5.00</td>\n",
       "      <td>1.00</td>\n",
       "      <td>1.00</td>\n",
       "      <td>...</td>\n",
       "      <td>0.20</td>\n",
       "      <td>0.80</td>\n",
       "      <td>-0.49</td>\n",
       "      <td>-0.60</td>\n",
       "      <td>-0.25</td>\n",
       "      <td>0.90</td>\n",
       "      <td>0.80</td>\n",
       "      <td>0.40</td>\n",
       "      <td>0.80</td>\n",
       "      <td>1</td>\n",
       "    </tr>\n",
       "    <tr>\n",
       "      <th>1</th>\n",
       "      <td>http://mashable.com/2013/10/18/bitlock-kicksta...</td>\n",
       "      <td>447.00</td>\n",
       "      <td>7.00</td>\n",
       "      <td>297.00</td>\n",
       "      <td>0.65</td>\n",
       "      <td>1.00</td>\n",
       "      <td>0.82</td>\n",
       "      <td>9.00</td>\n",
       "      <td>4.00</td>\n",
       "      <td>1.00</td>\n",
       "      <td>...</td>\n",
       "      <td>0.16</td>\n",
       "      <td>0.50</td>\n",
       "      <td>-0.14</td>\n",
       "      <td>-0.40</td>\n",
       "      <td>-0.05</td>\n",
       "      <td>0.10</td>\n",
       "      <td>-0.10</td>\n",
       "      <td>0.40</td>\n",
       "      <td>0.10</td>\n",
       "      <td>0</td>\n",
       "    </tr>\n",
       "    <tr>\n",
       "      <th>2</th>\n",
       "      <td>http://mashable.com/2013/07/24/google-glass-po...</td>\n",
       "      <td>533.00</td>\n",
       "      <td>11.00</td>\n",
       "      <td>181.00</td>\n",
       "      <td>0.66</td>\n",
       "      <td>1.00</td>\n",
       "      <td>0.78</td>\n",
       "      <td>4.00</td>\n",
       "      <td>3.00</td>\n",
       "      <td>1.00</td>\n",
       "      <td>...</td>\n",
       "      <td>0.14</td>\n",
       "      <td>1.00</td>\n",
       "      <td>0.00</td>\n",
       "      <td>0.00</td>\n",
       "      <td>0.00</td>\n",
       "      <td>0.30</td>\n",
       "      <td>1.00</td>\n",
       "      <td>0.20</td>\n",
       "      <td>1.00</td>\n",
       "      <td>0</td>\n",
       "    </tr>\n",
       "    <tr>\n",
       "      <th>3</th>\n",
       "      <td>http://mashable.com/2013/11/21/these-are-the-m...</td>\n",
       "      <td>413.00</td>\n",
       "      <td>12.00</td>\n",
       "      <td>781.00</td>\n",
       "      <td>0.50</td>\n",
       "      <td>1.00</td>\n",
       "      <td>0.68</td>\n",
       "      <td>10.00</td>\n",
       "      <td>3.00</td>\n",
       "      <td>1.00</td>\n",
       "      <td>...</td>\n",
       "      <td>0.10</td>\n",
       "      <td>1.00</td>\n",
       "      <td>-0.20</td>\n",
       "      <td>-0.40</td>\n",
       "      <td>-0.07</td>\n",
       "      <td>0.00</td>\n",
       "      <td>0.00</td>\n",
       "      <td>0.50</td>\n",
       "      <td>0.00</td>\n",
       "      <td>0</td>\n",
       "    </tr>\n",
       "    <tr>\n",
       "      <th>4</th>\n",
       "      <td>http://mashable.com/2014/02/11/parking-ticket-...</td>\n",
       "      <td>331.00</td>\n",
       "      <td>8.00</td>\n",
       "      <td>177.00</td>\n",
       "      <td>0.69</td>\n",
       "      <td>1.00</td>\n",
       "      <td>0.83</td>\n",
       "      <td>3.00</td>\n",
       "      <td>2.00</td>\n",
       "      <td>1.00</td>\n",
       "      <td>...</td>\n",
       "      <td>0.10</td>\n",
       "      <td>0.55</td>\n",
       "      <td>-0.17</td>\n",
       "      <td>-0.25</td>\n",
       "      <td>-0.10</td>\n",
       "      <td>0.00</td>\n",
       "      <td>0.00</td>\n",
       "      <td>0.50</td>\n",
       "      <td>0.00</td>\n",
       "      <td>0</td>\n",
       "    </tr>\n",
       "  </tbody>\n",
       "</table>\n",
       "<p>5 rows × 61 columns</p>\n",
       "</div>"
      ],
      "text/plain": [
       "                                                 url  timedelta  \\\n",
       "0  http://mashable.com/2014/12/10/cia-torture-rep...      28.00   \n",
       "1  http://mashable.com/2013/10/18/bitlock-kicksta...     447.00   \n",
       "2  http://mashable.com/2013/07/24/google-glass-po...     533.00   \n",
       "3  http://mashable.com/2013/11/21/these-are-the-m...     413.00   \n",
       "4  http://mashable.com/2014/02/11/parking-ticket-...     331.00   \n",
       "\n",
       "   n_tokens_title  n_tokens_content  n_unique_tokens  n_non_stop_words  \\\n",
       "0            9.00            188.00             0.73              1.00   \n",
       "1            7.00            297.00             0.65              1.00   \n",
       "2           11.00            181.00             0.66              1.00   \n",
       "3           12.00            781.00             0.50              1.00   \n",
       "4            8.00            177.00             0.69              1.00   \n",
       "\n",
       "   n_non_stop_unique_tokens  num_hrefs  num_self_hrefs  num_imgs  ...  \\\n",
       "0                      0.84       5.00            1.00      1.00  ...   \n",
       "1                      0.82       9.00            4.00      1.00  ...   \n",
       "2                      0.78       4.00            3.00      1.00  ...   \n",
       "3                      0.68      10.00            3.00      1.00  ...   \n",
       "4                      0.83       3.00            2.00      1.00  ...   \n",
       "\n",
       "   min_positive_polarity  max_positive_polarity  avg_negative_polarity  \\\n",
       "0                   0.20                   0.80                  -0.49   \n",
       "1                   0.16                   0.50                  -0.14   \n",
       "2                   0.14                   1.00                   0.00   \n",
       "3                   0.10                   1.00                  -0.20   \n",
       "4                   0.10                   0.55                  -0.17   \n",
       "\n",
       "   min_negative_polarity  max_negative_polarity  title_subjectivity  \\\n",
       "0                  -0.60                  -0.25                0.90   \n",
       "1                  -0.40                  -0.05                0.10   \n",
       "2                   0.00                   0.00                0.30   \n",
       "3                  -0.40                  -0.07                0.00   \n",
       "4                  -0.25                  -0.10                0.00   \n",
       "\n",
       "   title_sentiment_polarity  abs_title_subjectivity  \\\n",
       "0                      0.80                    0.40   \n",
       "1                     -0.10                    0.40   \n",
       "2                      1.00                    0.20   \n",
       "3                      0.00                    0.50   \n",
       "4                      0.00                    0.50   \n",
       "\n",
       "   abs_title_sentiment_polarity  Popular  \n",
       "0                          0.80        1  \n",
       "1                          0.10        0  \n",
       "2                          1.00        0  \n",
       "3                          0.00        0  \n",
       "4                          0.00        0  \n",
       "\n",
       "[5 rows x 61 columns]"
      ]
     },
     "execution_count": 29,
     "metadata": {},
     "output_type": "execute_result"
    }
   ],
   "source": [
    "# Lectura de la información de archivo .csv\n",
    "df = pd.read_csv('https://raw.githubusercontent.com/davidzarruk/MIAD_ML_NLP_2023/main/datasets/mashable.csv', index_col=0)\n",
    "df.head()"
   ]
  },
  {
   "cell_type": "code",
   "execution_count": 30,
   "metadata": {},
   "outputs": [
    {
     "data": {
      "text/plain": [
       "0.5"
      ]
     },
     "execution_count": 30,
     "metadata": {},
     "output_type": "execute_result"
    }
   ],
   "source": [
    "# Definición variable de interes y variables predictoras\n",
    "X = df.drop(['url', 'Popular'], axis=1)\n",
    "y = df['Popular']\n",
    "y.mean()"
   ]
  },
  {
   "cell_type": "markdown",
   "metadata": {},
   "source": [
    "### Punto 6 - Árbol de decisión y regresión logística\n",
    "En la celda 6 construya un árbol de decisión y una regresión logística. Para el árbol calibre al menos un parámetro y evalúe el desempeño de cada modelo usando las métricas de Accuracy y F1-Score."
   ]
  },
  {
   "cell_type": "code",
   "execution_count": 31,
   "metadata": {},
   "outputs": [],
   "source": [
    "# División de la muestra en set de entrenamiento y prueba\n",
    "from sklearn.model_selection import train_test_split\n",
    "X_train, X_test, y_train, y_test = train_test_split(X, y, random_state=1)"
   ]
  },
  {
   "cell_type": "code",
   "execution_count": 32,
   "metadata": {},
   "outputs": [
    {
     "data": {
      "text/plain": [
       "(0.6308888888888888, 2)"
      ]
     },
     "execution_count": 32,
     "metadata": {},
     "output_type": "execute_result"
    }
   ],
   "source": [
    "# Lista de valores para calibrar el criterio de parada de máxima profundidad (max_depth)\n",
    "max_depth_range = range(1, 10)\n",
    "\n",
    "accuracy_scores = []\n",
    "\n",
    "# Importación de modelos de sklearn \n",
    "from sklearn.model_selection import cross_val_score\n",
    "from sklearn.tree import DecisionTreeClassifier\n",
    "\n",
    "# Loop para obtener el desempeño del modelo de acuerdo con la máxima profundidad\n",
    "for depth in max_depth_range:\n",
    "    # Definición del árbol de decisión usando DecisionTreeClassifier de la libreria sklearn\n",
    "    clf = DecisionTreeClassifier(max_depth=depth, random_state=1)\n",
    "    accuracy_scores.append(cross_val_score(clf, X_train, y_train, cv=10, scoring='accuracy').mean())\n",
    "\n",
    "sorted(zip(accuracy_scores, max_depth_range))[::-1][0]"
   ]
  },
  {
   "cell_type": "code",
   "execution_count": 33,
   "metadata": {},
   "outputs": [
    {
     "data": {
      "text/plain": [
       "[<matplotlib.lines.Line2D at 0x1ebfd0a5f70>]"
      ]
     },
     "execution_count": 33,
     "metadata": {},
     "output_type": "execute_result"
    },
    {
     "data": {
      "text/plain": [
       "Text(0.5, 0, 'max_depth')"
      ]
     },
     "execution_count": 33,
     "metadata": {},
     "output_type": "execute_result"
    },
    {
     "data": {
      "text/plain": [
       "Text(0, 0.5, 'Accuracy')"
      ]
     },
     "execution_count": 33,
     "metadata": {},
     "output_type": "execute_result"
    },
    {
     "data": {
      "image/png": "[encoded data removed]",
      "text/plain": [
       "<Figure size 432x288 with 1 Axes>"
      ]
     },
     "metadata": {
      "needs_background": "light"
     },
     "output_type": "display_data"
    }
   ],
   "source": [
    "plt.plot(max_depth_range, accuracy_scores)\n",
    "plt.xlabel('max_depth')\n",
    "plt.ylabel('Accuracy')"
   ]
  },
  {
   "cell_type": "code",
   "execution_count": 34,
   "metadata": {},
   "outputs": [
    {
     "data": {
      "text/plain": [
       "DecisionTreeClassifier(max_depth=2, random_state=1)"
      ]
     },
     "execution_count": 34,
     "metadata": {},
     "output_type": "execute_result"
    },
    {
     "name": "stdout",
     "output_type": "stream",
     "text": [
      "accuracy: 64.53333333333333\n",
      "F1-Score: 0.6448598130841121\n"
     ]
    }
   ],
   "source": [
    "# Entrenar el modelo con el mejor resultado\n",
    "clf = DecisionTreeClassifier(max_depth=2, random_state=1)\n",
    "clf.fit(X_train, y_train)\n",
    "\n",
    "models = {'dtc': DecisionTreeClassifier(),\n",
    "         'lr': LogisticRegression()}\n",
    "# calculo y_pred\n",
    "y_pred = pd.DataFrame(index=X_test.index, columns=models.keys())\n",
    "y_pred['dtc'] = clf.predict(X_test)\n",
    "\n",
    "# Accuracy y F1-score\n",
    "accuracy = metrics.accuracy_score(y_test, y_pred['dtc'])\n",
    "accuracy_percentage = 100 * accuracy\n",
    "print(\"accuracy: {}\".format(accuracy_percentage))\n",
    "print(\"F1-Score: {}\".format(metrics.f1_score(y_pred['dtc'], y_test)))"
   ]
  },
  {
   "cell_type": "code",
   "execution_count": 35,
   "metadata": {},
   "outputs": [
    {
     "data": {
      "text/plain": [
       "LogisticRegression()"
      ]
     },
     "execution_count": 35,
     "metadata": {},
     "output_type": "execute_result"
    },
    {
     "name": "stdout",
     "output_type": "stream",
     "text": [
      "accuracy: 61.46666666666667\n",
      "F1-Score: 0.6110363391655451\n"
     ]
    }
   ],
   "source": [
    "lr = LogisticRegression()\n",
    "lr.fit(X_train, y_train)\n",
    "\n",
    "y_pred['lr'] = lr.predict(X_test)\n",
    "\n",
    "# Accuracy y F1-score\n",
    "accuracy = metrics.accuracy_score(y_test, y_pred['lr'])\n",
    "accuracy_percentage = 100 * accuracy\n",
    "print(\"accuracy: {}\".format(accuracy_percentage))\n",
    "print(\"F1-Score: {}\".format(metrics.f1_score(y_pred['lr'], y_test)))"
   ]
  },
  {
   "cell_type": "markdown",
   "metadata": {},
   "source": [
    "## Conclusiones"
   ]
  },
  {
   "cell_type": "markdown",
   "metadata": {},
   "source": [
    "Los resultados nos muestran que el arbol de decisión tiene un mejor desempeño con una profundidad de 2"
   ]
  },
  {
   "cell_type": "markdown",
   "metadata": {},
   "source": [
    "### Punto 7 - Votación Mayoritaria\n",
    "En la celda 7 elabore un esamble con la metodología de **Votación mayoritaria** compuesto por 300 muestras bagged para cada uno de los siguientes escenarios:\n",
    "\n",
    "-100 árboles de decisión donde max_depth tome un valor de su elección\\\n",
    "-100 árboles de decisión donde min_samples_leaf tome un valor de su elección\\\n",
    "-100 regresiones logísticas\n",
    "\n",
    "Evalúe cada uno de los tres modelos de manera independiente utilizando las métricas de Accuracy y F1-Score, luego evalúe el ensamble de modelos y compare los resultados. "
   ]
  },
  {
   "cell_type": "code",
   "execution_count": 36,
   "metadata": {},
   "outputs": [],
   "source": [
    "# División de la muestra en set de entrenamiento y prueba\n",
    "from sklearn.model_selection import train_test_split\n",
    "X_train, X_test, y_train, y_test = train_test_split(X, y, random_state=1)"
   ]
  },
  {
   "cell_type": "code",
   "execution_count": 42,
   "metadata": {},
   "outputs": [
    {
     "data": {
      "text/plain": [
       "BaggingClassifier(base_estimator=DecisionTreeClassifier(max_depth=20),\n",
       "                  n_estimators=100, n_jobs=-1, oob_score=True, random_state=42)"
      ]
     },
     "execution_count": 42,
     "metadata": {},
     "output_type": "execute_result"
    }
   ],
   "source": [
    "# punto 7\n",
    "from sklearn.ensemble import BaggingClassifier\n",
    "clf = BaggingClassifier(base_estimator=DecisionTreeClassifier(max_depth=20), n_estimators=100, bootstrap=True,\n",
    "                        random_state=42, n_jobs=-1, oob_score=True)\n",
    "\n",
    "clf.fit(X_train, y_train)\n",
    "y_pred = clf.predict(X_test)\n",
    "f1_depth_mayor = metrics.f1_score(y_pred, y_test) \n",
    "score_depth_mayor = metrics.accuracy_score(y_pred, y_test)"
   ]
  },
  {
   "cell_type": "code",
   "execution_count": 38,
   "metadata": {},
   "outputs": [
    {
     "data": {
      "text/plain": [
       "BaggingClassifier(base_estimator=DecisionTreeClassifier(min_samples_leaf=5),\n",
       "                  n_estimators=100, n_jobs=-1, oob_score=True, random_state=42)"
      ]
     },
     "execution_count": 38,
     "metadata": {},
     "output_type": "execute_result"
    }
   ],
   "source": [
    "# punto 7\n",
    "from sklearn.ensemble import BaggingClassifier\n",
    "clfm = BaggingClassifier(base_estimator=DecisionTreeClassifier(min_samples_leaf=5), n_estimators=100, bootstrap=True,\n",
    "                        random_state=42, n_jobs=-1, oob_score=True)\n",
    "\n",
    "clfm.fit(X_train, y_train)\n",
    "y_pred = clfm.predict(X_test)\n",
    "f1_min_mayor = metrics.f1_score(y_pred, y_test)\n",
    "score_min_mayor = metrics.accuracy_score(y_pred, y_test)"
   ]
  },
  {
   "cell_type": "code",
   "execution_count": 39,
   "metadata": {},
   "outputs": [
    {
     "data": {
      "text/plain": [
       "BaggingClassifier(base_estimator=LogisticRegression(), n_estimators=100,\n",
       "                  n_jobs=-1, oob_score=True, random_state=42)"
      ]
     },
     "execution_count": 39,
     "metadata": {},
     "output_type": "execute_result"
    }
   ],
   "source": [
    "# punto 7\n",
    "from sklearn.ensemble import BaggingClassifier\n",
    "clfm = BaggingClassifier(base_estimator=LogisticRegression(), n_estimators=100, bootstrap=True,\n",
    "                        random_state=42, n_jobs=-1, oob_score=True)\n",
    "\n",
    "clfm.fit(X_train, y_train)\n",
    "y_pred = clfm.predict(X_test)\n",
    "f1_it_mayor = metrics.f1_score(y_pred, y_test)\n",
    "score_it_mayor = metrics.accuracy_score(y_pred, y_test)"
   ]
  },
  {
   "cell_type": "code",
   "execution_count": 40,
   "metadata": {},
   "outputs": [
    {
     "data": {
      "text/plain": [
       "Text(0.5, 1.0, 'Comparación score Votación mayoritaria')"
      ]
     },
     "execution_count": 40,
     "metadata": {},
     "output_type": "execute_result"
    },
    {
     "data": {
      "text/plain": [
       "<BarContainer object of 3 artists>"
      ]
     },
     "execution_count": 40,
     "metadata": {},
     "output_type": "execute_result"
    },
    {
     "data": {
      "image/png": "[encoded data removed]",
      "text/plain": [
       "<Figure size 1440x720 with 1 Axes>"
      ]
     },
     "metadata": {
      "needs_background": "light"
     },
     "output_type": "display_data"
    }
   ],
   "source": [
    "fig = plt.figure()\n",
    "fig.set_figwidth(20)\n",
    "fig.set_figheight(10)\n",
    "ax = fig.add_axes([0,0,1,1])\n",
    "ax.set_title(\"Comparación score Votación mayoritaria\")\n",
    "ejeX = ['max_depth','min_samples_leaf','iter_logi',]\n",
    "ejeY = [round(score_depth_mayor,4),round(score_min_mayor,4),round(score_it_mayor,4)]\n",
    "ax.bar(ejeX,ejeY)\n",
    "def addlabels(x,y,plotP):\n",
    "    for i in range(len(x)):\n",
    "        plotP.text(i,y[i],y[i])\n",
    "addlabels(ejeX,ejeY,plt)\n",
    "plt.show()"
   ]
  },
  {
   "cell_type": "code",
   "execution_count": 43,
   "metadata": {},
   "outputs": [
    {
     "data": {
      "text/plain": [
       "Text(0.5, 1.0, 'Comparación F1-score Votación mayoritaria')"
      ]
     },
     "execution_count": 43,
     "metadata": {},
     "output_type": "execute_result"
    },
    {
     "data": {
      "text/plain": [
       "<BarContainer object of 3 artists>"
      ]
     },
     "execution_count": 43,
     "metadata": {},
     "output_type": "execute_result"
    },
    {
     "data": {
      "image/png": "[encoded data removed]",
      "text/plain": [
       "<Figure size 1440x720 with 1 Axes>"
      ]
     },
     "metadata": {
      "needs_background": "light"
     },
     "output_type": "display_data"
    }
   ],
   "source": [
    "fig = plt.figure()\n",
    "fig.set_figwidth(20)\n",
    "fig.set_figheight(10)\n",
    "ax = fig.add_axes([0,0,1,1])\n",
    "ax.set_title(\"Comparación F1-score Votación mayoritaria\")\n",
    "ejeX = ['max_depth','min_samples_leaf','iter_logi',]\n",
    "ejeY = [round(f1_depth_mayor,4),round(f1_min_mayor,4),round(f1_it_mayor,4)]\n",
    "ax.bar(ejeX,ejeY)\n",
    "def addlabels(x,y,plotP):\n",
    "    for i in range(len(x)):\n",
    "        plotP.text(i,y[i],y[i])\n",
    "addlabels(ejeX,ejeY,plt)\n",
    "plt.show()"
   ]
  },
  {
   "cell_type": "markdown",
   "metadata": {},
   "source": [
    "## Conclusiones"
   ]
  },
  {
   "cell_type": "markdown",
   "metadata": {},
   "source": [
    "Según los resultados la modificación de max_depth y min_samples_leaf generan un desempeño muy similar del modelo, y la regresión logistica siga siendo un modelo con menor desempeño"
   ]
  },
  {
   "cell_type": "markdown",
   "metadata": {},
   "source": [
    "### Punto 8 - Votación Ponderada\n",
    "En la celda 8 elabore un ensamble con la metodología de **Votación ponderada** compuesto por 300 muestras bagged para los mismos tres escenarios del punto 7. Evalúe los modelos utilizando las métricas de Accuracy y F1-Score"
   ]
  },
  {
   "cell_type": "code",
   "execution_count": 44,
   "metadata": {},
   "outputs": [
    {
     "data": {
      "text/plain": [
       "BaggingClassifier(base_estimator=DecisionTreeClassifier(max_depth=20),\n",
       "                  n_estimators=100, n_jobs=-1, oob_score=True, random_state=42)"
      ]
     },
     "execution_count": 44,
     "metadata": {},
     "output_type": "execute_result"
    }
   ],
   "source": [
    "# Celda 8\n",
    "# Definición del modelo BaggingClassifier de la libreria sklearn\n",
    "clf = BaggingClassifier(base_estimator=DecisionTreeClassifier(max_depth=20), n_estimators=100, bootstrap=True,\n",
    "                        random_state=42, n_jobs=-1, oob_score=True)\n",
    "\n",
    "clf.fit(X_train, y_train)\n",
    "y_pred = clf.predict(X_test)\n",
    "\n",
    "# Obtención de los pesos alpha de cada modelo de acuerdo al error OOB\n",
    "errors = np.zeros(clf.n_estimators)\n",
    "y_pred_all_ = np.zeros((X_test.shape[0], clf.n_estimators))\n",
    "\n",
    "for i in range(clf.n_estimators):\n",
    "    oob_sample = ~clf.estimators_samples_[i]\n",
    "    y_pred_ = clf.estimators_[i].predict(X_train.values[oob_sample])\n",
    "    errors[i] = metrics.accuracy_score(y_pred_, y_train.values[oob_sample])\n",
    "    y_pred_all_[:, i] = clf.estimators_[i].predict(X_test)\n",
    "    \n",
    "alpha = (1 - errors) / (1 - errors).sum()\n",
    "y_pred = (np.sum(y_pred_all_ * alpha, axis=1) >= 0.5).astype(np.int)\n",
    "\n",
    "# Desempeño al hacer votación ponderada\n",
    "f1_depth_pond = metrics.f1_score(y_pred, y_test)\n",
    "score_depth_pond = metrics.accuracy_score(y_pred, y_test)"
   ]
  },
  {
   "cell_type": "code",
   "execution_count": 45,
   "metadata": {},
   "outputs": [
    {
     "data": {
      "text/plain": [
       "BaggingClassifier(base_estimator=DecisionTreeClassifier(min_samples_leaf=5),\n",
       "                  n_estimators=100, n_jobs=-1, oob_score=True, random_state=42)"
      ]
     },
     "execution_count": 45,
     "metadata": {},
     "output_type": "execute_result"
    }
   ],
   "source": [
    "# Celda 8\n",
    "# Definición del modelo BaggingClassifier de la libreria sklearn\n",
    "clf = BaggingClassifier(base_estimator=DecisionTreeClassifier(min_samples_leaf=5), n_estimators=100, bootstrap=True,\n",
    "                        random_state=42, n_jobs=-1, oob_score=True)\n",
    "\n",
    "clf.fit(X_train, y_train)\n",
    "y_pred = clf.predict(X_test)\n",
    "\n",
    "# Obtención de los pesos alpha de cada modelo de acuerdo al error OOB\n",
    "errors = np.zeros(clf.n_estimators)\n",
    "y_pred_all_ = np.zeros((X_test.shape[0], clf.n_estimators))\n",
    "\n",
    "for i in range(clf.n_estimators):\n",
    "    oob_sample = ~clf.estimators_samples_[i]\n",
    "    y_pred_ = clf.estimators_[i].predict(X_train.values[oob_sample])\n",
    "    errors[i] = metrics.accuracy_score(y_pred_, y_train.values[oob_sample])\n",
    "    y_pred_all_[:, i] = clf.estimators_[i].predict(X_test)\n",
    "    \n",
    "alpha = (1 - errors) / (1 - errors).sum()\n",
    "y_pred = (np.sum(y_pred_all_ * alpha, axis=1) >= 0.5).astype(np.int)\n",
    "\n",
    "# Desempeño al hacer votación ponderada\n",
    "f1_min_pond = metrics.f1_score(y_pred, y_test)\n",
    "score_min_pond = metrics.accuracy_score(y_pred, y_test)"
   ]
  },
  {
   "cell_type": "code",
   "execution_count": 46,
   "metadata": {},
   "outputs": [
    {
     "data": {
      "text/plain": [
       "BaggingClassifier(base_estimator=LogisticRegression(), n_estimators=100,\n",
       "                  n_jobs=-1, oob_score=True, random_state=42)"
      ]
     },
     "execution_count": 46,
     "metadata": {},
     "output_type": "execute_result"
    }
   ],
   "source": [
    "# Celda 8\n",
    "# Definición del modelo BaggingClassifier de la libreria sklearn\n",
    "clf = BaggingClassifier(base_estimator=LogisticRegression(), n_estimators=100, bootstrap=True,\n",
    "                        random_state=42, n_jobs=-1, oob_score=True)\n",
    "\n",
    "clf.fit(X_train, y_train)\n",
    "y_pred = clf.predict(X_test)\n",
    "\n",
    "# Obtención de los pesos alpha de cada modelo de acuerdo al error OOB\n",
    "errors = np.zeros(clf.n_estimators)\n",
    "y_pred_all_ = np.zeros((X_test.shape[0], clf.n_estimators))\n",
    "\n",
    "for i in range(clf.n_estimators):\n",
    "    oob_sample = ~clf.estimators_samples_[i]\n",
    "    y_pred_ = clf.estimators_[i].predict(X_train.values[oob_sample])\n",
    "    errors[i] = metrics.accuracy_score(y_pred_, y_train.values[oob_sample])\n",
    "    y_pred_all_[:, i] = clf.estimators_[i].predict(X_test)\n",
    "    \n",
    "alpha = (1 - errors) / (1 - errors).sum()\n",
    "y_pred = (np.sum(y_pred_all_ * alpha, axis=1) >= 0.5).astype(np.int)\n",
    "\n",
    "# Desempeño al hacer votación ponderada\n",
    "f1_it_pond = metrics.f1_score(y_pred, y_test)\n",
    "score_it_pond = metrics.accuracy_score(y_pred, y_test)"
   ]
  },
  {
   "cell_type": "code",
   "execution_count": 47,
   "metadata": {},
   "outputs": [
    {
     "data": {
      "text/plain": [
       "Text(0.5, 1.0, 'Comparación de Score en votación ponderada')"
      ]
     },
     "execution_count": 47,
     "metadata": {},
     "output_type": "execute_result"
    },
    {
     "data": {
      "text/plain": [
       "<BarContainer object of 3 artists>"
      ]
     },
     "execution_count": 47,
     "metadata": {},
     "output_type": "execute_result"
    },
    {
     "data": {
      "image/png": "[encoded data removed]",
      "text/plain": [
       "<Figure size 1440x720 with 1 Axes>"
      ]
     },
     "metadata": {
      "needs_background": "light"
     },
     "output_type": "display_data"
    }
   ],
   "source": [
    "fig = plt.figure()\n",
    "fig.set_figwidth(20)\n",
    "fig.set_figheight(10)\n",
    "ax = fig.add_axes([0,0,1,1])\n",
    "ax.set_title(\"Comparación de Score en votación ponderada\")\n",
    "ejeX = ['max_depth','min_samples_leaf','iter_logi',]\n",
    "ejeY = [round(score_depth_pond,4),round(score_min_pond,4),round(score_it_pond,4)]\n",
    "ax.bar(ejeX,ejeY)\n",
    "def addlabels(x,y,plotP):\n",
    "    for i in range(len(x)):\n",
    "        plotP.text(i,y[i],y[i])\n",
    "addlabels(ejeX,ejeY,plt)\n",
    "plt.show()"
   ]
  },
  {
   "cell_type": "code",
   "execution_count": 48,
   "metadata": {},
   "outputs": [
    {
     "data": {
      "text/plain": [
       "Text(0.5, 1.0, 'Comparación de F1-Score en votación ponderada')"
      ]
     },
     "execution_count": 48,
     "metadata": {},
     "output_type": "execute_result"
    },
    {
     "data": {
      "text/plain": [
       "<BarContainer object of 3 artists>"
      ]
     },
     "execution_count": 48,
     "metadata": {},
     "output_type": "execute_result"
    },
    {
     "data": {
      "image/png": "[encoded data removed]",
      "text/plain": [
       "<Figure size 1440x720 with 1 Axes>"
      ]
     },
     "metadata": {
      "needs_background": "light"
     },
     "output_type": "display_data"
    }
   ],
   "source": [
    "fig = plt.figure()\n",
    "fig.set_figwidth(20)\n",
    "fig.set_figheight(10)\n",
    "ax = fig.add_axes([0,0,1,1])\n",
    "ax.set_title(\"Comparación de F1-Score en votación ponderada\")\n",
    "ejeX = ['max_depth','min_samples_leaf','iter_logi',]\n",
    "ejeY = [round(f1_depth_pond,4),round(f1_min_pond,4),round(f1_it_pond,4)]\n",
    "ax.bar(ejeX,ejeY)\n",
    "def addlabels(x,y,plotP):\n",
    "    for i in range(len(x)):\n",
    "        plotP.text(i,y[i],y[i])\n",
    "addlabels(ejeX,ejeY,plt)\n",
    "plt.show()"
   ]
  },
  {
   "cell_type": "markdown",
   "metadata": {},
   "source": [
    "## Conclusiones"
   ]
  },
  {
   "cell_type": "markdown",
   "metadata": {},
   "source": [
    "Para este punto utilicé los mismos valores en los parámetros que en la votación mayoritaria.\n",
    "Según los resultados la modificación de max_depth y min_samples_leaf generan un desempeño muy similar del modelo, y la regresión logistica siga siendo un modelo con menor desempeño"
   ]
  },
  {
   "cell_type": "markdown",
   "metadata": {},
   "source": [
    "### Punto 9 - Comparación y análisis de resultados\n",
    "En la celda 9 comente sobre los resultados obtenidos con las metodologías usadas en los puntos 7 y 8, compare los resultados y enuncie posibles ventajas o desventajas de cada una de ellas."
   ]
  },
  {
   "cell_type": "code",
   "execution_count": 49,
   "metadata": {},
   "outputs": [
    {
     "data": {
      "text/plain": [
       "Text(0.5, 1.0, 'Score votación Mayoritaria vs Score votación ponderada')"
      ]
     },
     "execution_count": 49,
     "metadata": {},
     "output_type": "execute_result"
    },
    {
     "data": {
      "text/plain": [
       "<BarContainer object of 6 artists>"
      ]
     },
     "execution_count": 49,
     "metadata": {},
     "output_type": "execute_result"
    },
    {
     "data": {
      "image/png": "[encoded data removed]",
      "text/plain": [
       "<Figure size 1440x720 with 1 Axes>"
      ]
     },
     "metadata": {
      "needs_background": "light"
     },
     "output_type": "display_data"
    }
   ],
   "source": [
    "# Celda 9\n",
    "fig = plt.figure()\n",
    "fig.set_figwidth(20)\n",
    "fig.set_figheight(10)\n",
    "ax = fig.add_axes([0,0,1,1])\n",
    "ax.set_title(\"Score votación Mayoritaria vs Score votación ponderada\")\n",
    "ejeX = ['max_depth_mayor','max_depth_pond','min_samples_leaf_mayor','min_samples_leaf_pond','iter_logi_mayor','iter_logi_pond']\n",
    "ejeY = [round(score_depth_mayor,4),round(score_depth_pond,4),round(score_min_mayor,4),round(score_min_pond,4),round(score_it_mayor,4),round(score_it_pond,4)]\n",
    "colors = ['blue','green','blue','green','blue','green']\n",
    "ax.bar(ejeX,ejeY,color = colors)\n",
    "def addlabels(x,y,plotP):\n",
    "    for i in range(len(x)):\n",
    "        plotP.text(i,y[i],y[i])\n",
    "addlabels(ejeX,ejeY,plt)\n",
    "plt.show()"
   ]
  },
  {
   "cell_type": "code",
   "execution_count": 50,
   "metadata": {},
   "outputs": [
    {
     "data": {
      "text/plain": [
       "Text(0.5, 1.0, 'F1-Score votación Mayoritaria vs Score votación ponderada')"
      ]
     },
     "execution_count": 50,
     "metadata": {},
     "output_type": "execute_result"
    },
    {
     "data": {
      "text/plain": [
       "<BarContainer object of 6 artists>"
      ]
     },
     "execution_count": 50,
     "metadata": {},
     "output_type": "execute_result"
    },
    {
     "data": {
      "image/png": "[encoded data removed]",
      "text/plain": [
       "<Figure size 1440x720 with 1 Axes>"
      ]
     },
     "metadata": {
      "needs_background": "light"
     },
     "output_type": "display_data"
    }
   ],
   "source": [
    "# Celda 9\n",
    "fig = plt.figure()\n",
    "fig.set_figwidth(20)\n",
    "fig.set_figheight(10)\n",
    "ax = fig.add_axes([0,0,1,1])\n",
    "ax.set_title(\"F1-Score votación Mayoritaria vs Score votación ponderada\")\n",
    "ejeX = ['max_depth_mayor','max_depth_pond','min_samples_leaf_mayor','min_samples_leaf_pond','iter_logi_mayor','iter_logi_pond']\n",
    "ejeY = [round(f1_depth_mayor,4),round(f1_depth_pond,4),round(f1_min_mayor,4),round(f1_min_pond,4),round(f1_it_mayor,4),round(f1_it_pond,4)]\n",
    "colors = ['blue','green','blue','green','blue','green']\n",
    "ax.bar(ejeX,ejeY,color = colors)\n",
    "def addlabels(x,y,plotP):\n",
    "    for i in range(len(x)):\n",
    "        plotP.text(i,y[i],y[i])\n",
    "addlabels(ejeX,ejeY,plt)\n",
    "plt.show()"
   ]
  },
  {
   "cell_type": "markdown",
   "metadata": {},
   "source": [
    "## Conclusiones"
   ]
  },
  {
   "cell_type": "markdown",
   "metadata": {},
   "source": [
    "Al ver los resultados de la votación Mayoritaria y la ponderada, se puede observar que su accuracy y f1-score son muy similares, el desempeño solo es variable por unas cuantas decimas siendo el de la ponderada mejor. \n",
    "Algo que se puede ver a simple vista es que los arboles tienen un mejor desempeño que la regresión logistica.\n",
    "También podemos decir que el manipular el parametro de max_depth nos da un mejor desempeño por pequeño que sea."
   ]
  },
  {
   "cell_type": "code",
   "execution_count": null,
   "metadata": {},
   "outputs": [],
   "source": []
  }
 ],
 "metadata": {
  "kernelspec": {
   "display_name": "Python 3 (ipykernel)",
   "language": "python",
   "name": "python3"
  },
  "language_info": {
   "codemirror_mode": {
    "name": "ipython",
    "version": 3
   },
   "file_extension": ".py",
   "mimetype": "text/x-python",
   "name": "python",
   "nbconvert_exporter": "python",
   "pygments_lexer": "ipython3",
   "version": "3.9.12"
  }
 },
 "nbformat": 4,
 "nbformat_minor": 4
}
