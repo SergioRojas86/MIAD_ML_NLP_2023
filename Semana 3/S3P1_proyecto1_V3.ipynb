{
 "cells": [
  {
   "cell_type": "markdown",
   "metadata": {},
   "source": [
    "![image info](https://raw.githubusercontent.com/albahnsen/MIAD_ML_and_NLP/main/images/banner_1.png)"
   ]
  },
  {
   "cell_type": "markdown",
   "metadata": {},
   "source": [
    "# Proyecto 1 - Predicción de precios de vehículos usados\n",
    "\n",
    "En este proyecto podrán poner en práctica sus conocimientos sobre modelos predictivos basados en árboles y ensambles, y sobre la disponibilización de modelos. Para su desasrrollo tengan en cuenta las instrucciones dadas en la \"Guía del proyecto 1: Predicción de precios de vehículos usados\".\n",
    "\n",
    "**Entrega**: La entrega del proyecto deberán realizarla durante la semana 4. Sin embargo, es importante que avancen en la semana 3 en el modelado del problema y en parte del informe, tal y como se les indicó en la guía.\n",
    "\n",
    "Para hacer la entrega, deberán adjuntar el informe autocontenido en PDF a la actividad de entrega del proyecto que encontrarán en la semana 4, y subir el archivo de predicciones a la [competencia de Kaggle](https://www.kaggle.com/t/4bd64c1deb3c4ffb8ca7ff93c1f1497d)."
   ]
  },
  {
   "cell_type": "markdown",
   "metadata": {},
   "source": [
    "## Datos para la predicción de precios de vehículos usados\n",
    "\n",
    "En este proyecto se usará el conjunto de datos de Car Listings de Kaggle, donde cada observación representa el precio de un automóvil teniendo en cuenta distintas variables como: año, marca, modelo, entre otras. El objetivo es predecir el precio del automóvil. Para más detalles puede visitar el siguiente enlace: [datos](https://www.kaggle.com/jpayne/852k-used-car-listings)."
   ]
  },
  {
   "cell_type": "markdown",
   "metadata": {},
   "source": [
    "## Ejemplo predicción conjunto de test para envío a Kaggle\n",
    "\n",
    "En esta sección encontrarán el formato en el que deben guardar los resultados de la predicción para que puedan subirlos a la competencia en Kaggle."
   ]
  },
  {
   "cell_type": "code",
   "execution_count": 1,
   "metadata": {
    "execution": {
     "iopub.execute_input": "2023-04-26T02:43:59.664961Z",
     "iopub.status.busy": "2023-04-26T02:43:59.664498Z",
     "iopub.status.idle": "2023-04-26T02:43:59.670332Z",
     "shell.execute_reply": "2023-04-26T02:43:59.668756Z",
     "shell.execute_reply.started": "2023-04-26T02:43:59.664924Z"
    }
   },
   "outputs": [],
   "source": [
    "import warnings\n",
    "warnings.filterwarnings('ignore')"
   ]
  },
  {
   "cell_type": "code",
   "execution_count": 2,
   "metadata": {
    "execution": {
     "iopub.execute_input": "2023-04-26T02:44:01.060192Z",
     "iopub.status.busy": "2023-04-26T02:44:01.059468Z",
     "iopub.status.idle": "2023-04-26T02:44:01.065520Z",
     "shell.execute_reply": "2023-04-26T02:44:01.064252Z",
     "shell.execute_reply.started": "2023-04-26T02:44:01.060144Z"
    }
   },
   "outputs": [],
   "source": [
    "# Importación librerías\n",
    "import pandas as pd\n",
    "import numpy as np"
   ]
  },
  {
   "cell_type": "code",
   "execution_count": 3,
   "metadata": {
    "execution": {
     "iopub.execute_input": "2023-04-26T02:44:02.635015Z",
     "iopub.status.busy": "2023-04-26T02:44:02.634589Z",
     "iopub.status.idle": "2023-04-26T02:44:03.812253Z",
     "shell.execute_reply": "2023-04-26T02:44:03.810994Z",
     "shell.execute_reply.started": "2023-04-26T02:44:02.634974Z"
    }
   },
   "outputs": [],
   "source": [
    "# Carga de datos de archivo .csv\n",
    "dataTraining = pd.read_csv('https://raw.githubusercontent.com/albahnsen/MIAD_ML_and_NLP/main/datasets/dataTrain_carListings.zip')\n",
    "dataTesting = pd.read_csv('https://raw.githubusercontent.com/albahnsen/MIAD_ML_and_NLP/main/datasets/dataTest_carListings.zip', index_col=0)"
   ]
  },
  {
   "cell_type": "code",
   "execution_count": 4,
   "metadata": {
    "execution": {
     "iopub.execute_input": "2023-04-26T02:44:04.866564Z",
     "iopub.status.busy": "2023-04-26T02:44:04.866122Z",
     "iopub.status.idle": "2023-04-26T02:44:04.892541Z",
     "shell.execute_reply": "2023-04-26T02:44:04.891541Z",
     "shell.execute_reply.started": "2023-04-26T02:44:04.866524Z"
    }
   },
   "outputs": [
    {
     "data": {
      "text/html": [
       "<div>\n",
       "<style scoped>\n",
       "    .dataframe tbody tr th:only-of-type {\n",
       "        vertical-align: middle;\n",
       "    }\n",
       "\n",
       "    .dataframe tbody tr th {\n",
       "        vertical-align: top;\n",
       "    }\n",
       "\n",
       "    .dataframe thead th {\n",
       "        text-align: right;\n",
       "    }\n",
       "</style>\n",
       "<table border=\"1\" class=\"dataframe\">\n",
       "  <thead>\n",
       "    <tr style=\"text-align: right;\">\n",
       "      <th></th>\n",
       "      <th>Price</th>\n",
       "      <th>Year</th>\n",
       "      <th>Mileage</th>\n",
       "      <th>State</th>\n",
       "      <th>Make</th>\n",
       "      <th>Model</th>\n",
       "    </tr>\n",
       "  </thead>\n",
       "  <tbody>\n",
       "    <tr>\n",
       "      <th>0</th>\n",
       "      <td>34995</td>\n",
       "      <td>2017</td>\n",
       "      <td>9913</td>\n",
       "      <td>FL</td>\n",
       "      <td>Jeep</td>\n",
       "      <td>Wrangler</td>\n",
       "    </tr>\n",
       "    <tr>\n",
       "      <th>1</th>\n",
       "      <td>37895</td>\n",
       "      <td>2015</td>\n",
       "      <td>20578</td>\n",
       "      <td>OH</td>\n",
       "      <td>Chevrolet</td>\n",
       "      <td>Tahoe4WD</td>\n",
       "    </tr>\n",
       "    <tr>\n",
       "      <th>2</th>\n",
       "      <td>18430</td>\n",
       "      <td>2012</td>\n",
       "      <td>83716</td>\n",
       "      <td>TX</td>\n",
       "      <td>BMW</td>\n",
       "      <td>X5AWD</td>\n",
       "    </tr>\n",
       "    <tr>\n",
       "      <th>3</th>\n",
       "      <td>24681</td>\n",
       "      <td>2014</td>\n",
       "      <td>28729</td>\n",
       "      <td>OH</td>\n",
       "      <td>Cadillac</td>\n",
       "      <td>SRXLuxury</td>\n",
       "    </tr>\n",
       "    <tr>\n",
       "      <th>4</th>\n",
       "      <td>26998</td>\n",
       "      <td>2013</td>\n",
       "      <td>64032</td>\n",
       "      <td>CO</td>\n",
       "      <td>Jeep</td>\n",
       "      <td>Wrangler</td>\n",
       "    </tr>\n",
       "  </tbody>\n",
       "</table>\n",
       "</div>"
      ],
      "text/plain": [
       "   Price  Year  Mileage State       Make      Model\n",
       "0  34995  2017     9913    FL       Jeep   Wrangler\n",
       "1  37895  2015    20578    OH  Chevrolet   Tahoe4WD\n",
       "2  18430  2012    83716    TX        BMW      X5AWD\n",
       "3  24681  2014    28729    OH   Cadillac  SRXLuxury\n",
       "4  26998  2013    64032    CO       Jeep   Wrangler"
      ]
     },
     "execution_count": 4,
     "metadata": {},
     "output_type": "execute_result"
    }
   ],
   "source": [
    "# Visualización datos de entrenamiento\n",
    "dataTraining.head()"
   ]
  },
  {
   "cell_type": "code",
   "execution_count": 5,
   "metadata": {
    "execution": {
     "iopub.execute_input": "2023-04-26T02:44:06.786174Z",
     "iopub.status.busy": "2023-04-26T02:44:06.785293Z",
     "iopub.status.idle": "2023-04-26T02:44:06.803591Z",
     "shell.execute_reply": "2023-04-26T02:44:06.801930Z",
     "shell.execute_reply.started": "2023-04-26T02:44:06.786132Z"
    }
   },
   "outputs": [
    {
     "data": {
      "text/html": [
       "<div>\n",
       "<style scoped>\n",
       "    .dataframe tbody tr th:only-of-type {\n",
       "        vertical-align: middle;\n",
       "    }\n",
       "\n",
       "    .dataframe tbody tr th {\n",
       "        vertical-align: top;\n",
       "    }\n",
       "\n",
       "    .dataframe thead th {\n",
       "        text-align: right;\n",
       "    }\n",
       "</style>\n",
       "<table border=\"1\" class=\"dataframe\">\n",
       "  <thead>\n",
       "    <tr style=\"text-align: right;\">\n",
       "      <th></th>\n",
       "      <th>Year</th>\n",
       "      <th>Mileage</th>\n",
       "      <th>State</th>\n",
       "      <th>Make</th>\n",
       "      <th>Model</th>\n",
       "    </tr>\n",
       "    <tr>\n",
       "      <th>ID</th>\n",
       "      <th></th>\n",
       "      <th></th>\n",
       "      <th></th>\n",
       "      <th></th>\n",
       "      <th></th>\n",
       "    </tr>\n",
       "  </thead>\n",
       "  <tbody>\n",
       "    <tr>\n",
       "      <th>0</th>\n",
       "      <td>2014</td>\n",
       "      <td>31909</td>\n",
       "      <td>MD</td>\n",
       "      <td>Nissan</td>\n",
       "      <td>MuranoAWD</td>\n",
       "    </tr>\n",
       "    <tr>\n",
       "      <th>1</th>\n",
       "      <td>2017</td>\n",
       "      <td>5362</td>\n",
       "      <td>FL</td>\n",
       "      <td>Jeep</td>\n",
       "      <td>Wrangler</td>\n",
       "    </tr>\n",
       "    <tr>\n",
       "      <th>2</th>\n",
       "      <td>2014</td>\n",
       "      <td>50300</td>\n",
       "      <td>OH</td>\n",
       "      <td>Ford</td>\n",
       "      <td>FlexLimited</td>\n",
       "    </tr>\n",
       "    <tr>\n",
       "      <th>3</th>\n",
       "      <td>2004</td>\n",
       "      <td>132160</td>\n",
       "      <td>WA</td>\n",
       "      <td>BMW</td>\n",
       "      <td>5</td>\n",
       "    </tr>\n",
       "    <tr>\n",
       "      <th>4</th>\n",
       "      <td>2015</td>\n",
       "      <td>25226</td>\n",
       "      <td>MA</td>\n",
       "      <td>Jeep</td>\n",
       "      <td>Grand</td>\n",
       "    </tr>\n",
       "  </tbody>\n",
       "</table>\n",
       "</div>"
      ],
      "text/plain": [
       "    Year  Mileage State    Make        Model\n",
       "ID                                          \n",
       "0   2014    31909    MD  Nissan    MuranoAWD\n",
       "1   2017     5362    FL    Jeep     Wrangler\n",
       "2   2014    50300    OH    Ford  FlexLimited\n",
       "3   2004   132160    WA     BMW            5\n",
       "4   2015    25226    MA    Jeep        Grand"
      ]
     },
     "execution_count": 5,
     "metadata": {},
     "output_type": "execute_result"
    }
   ],
   "source": [
    "# Visualización datos de test\n",
    "dataTesting.head()"
   ]
  },
  {
   "cell_type": "code",
   "execution_count": 6,
   "metadata": {
    "execution": {
     "iopub.execute_input": "2023-04-26T02:44:09.701524Z",
     "iopub.status.busy": "2023-04-26T02:44:09.700726Z",
     "iopub.status.idle": "2023-04-26T02:44:09.710896Z",
     "shell.execute_reply": "2023-04-26T02:44:09.709635Z",
     "shell.execute_reply.started": "2023-04-26T02:44:09.701480Z"
    }
   },
   "outputs": [],
   "source": [
    "# Predicción del conjunto de test - acá se genera un número aleatorio como ejemplo\n",
    "np.random.seed(42)\n",
    "y_pred = pd.DataFrame(np.random.rand(dataTesting.shape[0]) * 75000 + 5000, index=dataTesting.index, columns=['Price'])"
   ]
  },
  {
   "cell_type": "code",
   "execution_count": 7,
   "metadata": {
    "execution": {
     "iopub.execute_input": "2023-04-26T02:44:27.660214Z",
     "iopub.status.busy": "2023-04-26T02:44:27.659773Z",
     "iopub.status.idle": "2023-04-26T02:44:27.925070Z",
     "shell.execute_reply": "2023-04-26T02:44:27.923741Z",
     "shell.execute_reply.started": "2023-04-26T02:44:27.660174Z"
    }
   },
   "outputs": [
    {
     "data": {
      "text/html": [
       "<div>\n",
       "<style scoped>\n",
       "    .dataframe tbody tr th:only-of-type {\n",
       "        vertical-align: middle;\n",
       "    }\n",
       "\n",
       "    .dataframe tbody tr th {\n",
       "        vertical-align: top;\n",
       "    }\n",
       "\n",
       "    .dataframe thead th {\n",
       "        text-align: right;\n",
       "    }\n",
       "</style>\n",
       "<table border=\"1\" class=\"dataframe\">\n",
       "  <thead>\n",
       "    <tr style=\"text-align: right;\">\n",
       "      <th></th>\n",
       "      <th>Price</th>\n",
       "    </tr>\n",
       "    <tr>\n",
       "      <th>ID</th>\n",
       "      <th></th>\n",
       "    </tr>\n",
       "  </thead>\n",
       "  <tbody>\n",
       "    <tr>\n",
       "      <th>0</th>\n",
       "      <td>33090.508914</td>\n",
       "    </tr>\n",
       "    <tr>\n",
       "      <th>1</th>\n",
       "      <td>76303.572981</td>\n",
       "    </tr>\n",
       "    <tr>\n",
       "      <th>2</th>\n",
       "      <td>59899.545636</td>\n",
       "    </tr>\n",
       "    <tr>\n",
       "      <th>3</th>\n",
       "      <td>49899.386315</td>\n",
       "    </tr>\n",
       "    <tr>\n",
       "      <th>4</th>\n",
       "      <td>16701.398033</td>\n",
       "    </tr>\n",
       "  </tbody>\n",
       "</table>\n",
       "</div>"
      ],
      "text/plain": [
       "           Price\n",
       "ID              \n",
       "0   33090.508914\n",
       "1   76303.572981\n",
       "2   59899.545636\n",
       "3   49899.386315\n",
       "4   16701.398033"
      ]
     },
     "execution_count": 7,
     "metadata": {},
     "output_type": "execute_result"
    }
   ],
   "source": [
    "# Guardar predicciones en formato exigido en la competencia de kaggle\n",
    "y_pred.to_csv('test_submission.csv', index_label='ID')\n",
    "y_pred.head()"
   ]
  },
  {
   "cell_type": "markdown",
   "metadata": {},
   "source": [
    "## Librerias"
   ]
  },
  {
   "cell_type": "code",
   "execution_count": 82,
   "metadata": {
    "execution": {
     "iopub.execute_input": "2023-04-26T02:44:29.440761Z",
     "iopub.status.busy": "2023-04-26T02:44:29.440107Z",
     "iopub.status.idle": "2023-04-26T02:44:31.165406Z",
     "shell.execute_reply": "2023-04-26T02:44:31.163992Z",
     "shell.execute_reply.started": "2023-04-26T02:44:29.440721Z"
    }
   },
   "outputs": [],
   "source": [
    "from sklearn.model_selection import train_test_split\n",
    "from sklearn.metrics import mean_squared_error as MSE\n",
    "import seaborn as sns\n",
    "import xgboost as xgb\n",
    "from sklearn.model_selection import GridSearchCV\n",
    "import matplotlib.pyplot as plt"
   ]
  },
  {
   "cell_type": "markdown",
   "metadata": {},
   "source": [
    "## Tratamiento a variables Dummies"
   ]
  },
  {
   "cell_type": "code",
   "execution_count": 9,
   "metadata": {
    "execution": {
     "iopub.execute_input": "2023-04-26T02:44:31.167732Z",
     "iopub.status.busy": "2023-04-26T02:44:31.167365Z",
     "iopub.status.idle": "2023-04-26T02:44:31.203166Z",
     "shell.execute_reply": "2023-04-26T02:44:31.201941Z",
     "shell.execute_reply.started": "2023-04-26T02:44:31.167696Z"
    }
   },
   "outputs": [],
   "source": [
    "dTrain =  dataTraining.copy()\n",
    "dTest = dataTesting.copy()"
   ]
  },
  {
   "cell_type": "code",
   "execution_count": 10,
   "metadata": {
    "execution": {
     "iopub.execute_input": "2023-04-26T02:44:32.079699Z",
     "iopub.status.busy": "2023-04-26T02:44:32.079308Z",
     "iopub.status.idle": "2023-04-26T02:44:32.933520Z",
     "shell.execute_reply": "2023-04-26T02:44:32.932109Z",
     "shell.execute_reply.started": "2023-04-26T02:44:32.079665Z"
    }
   },
   "outputs": [],
   "source": [
    "dTrain = pd.get_dummies(dTrain)\n",
    "dTest = pd.get_dummies(dTest)"
   ]
  },
  {
   "cell_type": "markdown",
   "metadata": {},
   "source": [
    "## Conjunto de entrenamiento y validación del modelo"
   ]
  },
  {
   "cell_type": "code",
   "execution_count": 11,
   "metadata": {
    "execution": {
     "iopub.execute_input": "2023-04-26T02:44:33.465872Z",
     "iopub.status.busy": "2023-04-26T02:44:33.465422Z",
     "iopub.status.idle": "2023-04-26T02:44:35.115823Z",
     "shell.execute_reply": "2023-04-26T02:44:35.114263Z",
     "shell.execute_reply.started": "2023-04-26T02:44:33.465830Z"
    }
   },
   "outputs": [],
   "source": [
    "XTotal = dTrain.drop(columns ={\"Price\"})\n",
    "yTotal = dTrain[\"Price\"]\n",
    "XTrain, XTest, yTrain, yTest = train_test_split(XTotal, yTotal, test_size=0.33, random_state=0)"
   ]
  },
  {
   "cell_type": "markdown",
   "metadata": {},
   "source": [
    "## EDA "
   ]
  },
  {
   "cell_type": "code",
   "execution_count": 78,
   "metadata": {},
   "outputs": [
    {
     "name": "stdout",
     "output_type": "stream",
     "text": [
      "<class 'pandas.core.frame.DataFrame'>\n",
      "RangeIndex: 400000 entries, 0 to 399999\n",
      "Data columns (total 6 columns):\n",
      " #   Column   Non-Null Count   Dtype \n",
      "---  ------   --------------   ----- \n",
      " 0   Price    400000 non-null  int64 \n",
      " 1   Year     400000 non-null  int64 \n",
      " 2   Mileage  400000 non-null  int64 \n",
      " 3   State    400000 non-null  object\n",
      " 4   Make     400000 non-null  object\n",
      " 5   Model    400000 non-null  object\n",
      "dtypes: int64(3), object(3)\n",
      "memory usage: 18.3+ MB\n"
     ]
    }
   ],
   "source": [
    "dataTraining.info()"
   ]
  },
  {
   "cell_type": "code",
   "execution_count": 79,
   "metadata": {},
   "outputs": [
    {
     "data": {
      "text/plain": [
       "array([[<AxesSubplot:title={'center':'Price'}>,\n",
       "        <AxesSubplot:title={'center':'Year'}>],\n",
       "       [<AxesSubplot:title={'center':'Mileage'}>, <AxesSubplot:>]],\n",
       "      dtype=object)"
      ]
     },
     "execution_count": 79,
     "metadata": {},
     "output_type": "execute_result"
    },
    {
     "data": {
      "image/png": "[encoded data removed]",
      "text/plain": [
       "<Figure size 640x480 with 4 Axes>"
      ]
     },
     "metadata": {},
     "output_type": "display_data"
    }
   ],
   "source": [
    "dataTraining.hist()"
   ]
  },
  {
   "cell_type": "code",
   "execution_count": 80,
   "metadata": {},
   "outputs": [
    {
     "ename": "NameError",
     "evalue": "name 'plt' is not defined",
     "output_type": "error",
     "traceback": [
      "\u001b[1;31m---------------------------------------------------------------------------\u001b[0m",
      "\u001b[1;31mNameError\u001b[0m                                 Traceback (most recent call last)",
      "\u001b[1;32m~\\AppData\\Local\\Temp\\ipykernel_37604\\2630459165.py\u001b[0m in \u001b[0;36m<module>\u001b[1;34m\u001b[0m\n\u001b[0;32m      2\u001b[0m \u001b[0msns\u001b[0m\u001b[1;33m.\u001b[0m\u001b[0mset\u001b[0m\u001b[1;33m(\u001b[0m\u001b[0mrc\u001b[0m\u001b[1;33m=\u001b[0m\u001b[1;33m{\u001b[0m\u001b[1;34m'figure.figsize'\u001b[0m\u001b[1;33m:\u001b[0m\u001b[1;33m(\u001b[0m\u001b[1;36m8\u001b[0m\u001b[1;33m,\u001b[0m\u001b[1;36m4.27\u001b[0m\u001b[1;33m)\u001b[0m\u001b[1;33m}\u001b[0m\u001b[1;33m)\u001b[0m\u001b[1;33m\u001b[0m\u001b[1;33m\u001b[0m\u001b[0m\n\u001b[0;32m      3\u001b[0m \u001b[0msns\u001b[0m\u001b[1;33m.\u001b[0m\u001b[0mheatmap\u001b[0m\u001b[1;33m(\u001b[0m\u001b[0mmatrix_corr\u001b[0m\u001b[1;33m,\u001b[0m \u001b[0mannot\u001b[0m\u001b[1;33m=\u001b[0m\u001b[1;32mTrue\u001b[0m\u001b[1;33m)\u001b[0m\u001b[1;33m\u001b[0m\u001b[1;33m\u001b[0m\u001b[0m\n\u001b[1;32m----> 4\u001b[1;33m \u001b[0mplt\u001b[0m\u001b[1;33m.\u001b[0m\u001b[0mshow\u001b[0m\u001b[1;33m(\u001b[0m\u001b[1;33m)\u001b[0m\u001b[1;33m\u001b[0m\u001b[1;33m\u001b[0m\u001b[0m\n\u001b[0m",
      "\u001b[1;31mNameError\u001b[0m: name 'plt' is not defined"
     ]
    },
    {
     "data": {
      "image/png": "[encoded data removed]",
      "text/plain": [
       "<Figure size 800x427 with 2 Axes>"
      ]
     },
     "metadata": {},
     "output_type": "display_data"
    }
   ],
   "source": [
    "matrix_corr = pd.DataFrame(dataTraining).corr().round(1)\n",
    "sns.set(rc={'figure.figsize':(8,4.27)})\n",
    "sns.heatmap(matrix_corr, annot=True)\n",
    "plt.show()"
   ]
  },
  {
   "cell_type": "code",
   "execution_count": 83,
   "metadata": {
    "scrolled": true
   },
   "outputs": [
    {
     "data": {
      "image/png": "[encoded data removed]",
      "text/plain": [
       "<Figure size 800x427 with 1 Axes>"
      ]
     },
     "metadata": {},
     "output_type": "display_data"
    },
    {
     "data": {
      "text/plain": [
       "<Figure size 400x400 with 0 Axes>"
      ]
     },
     "metadata": {},
     "output_type": "display_data"
    }
   ],
   "source": [
    "plt.hist(dataTraining['Price'], bins=2)\n",
    "mensaje = ['Histograma de la variable de respuesta']\n",
    "plt.title(\" \".join(mensaje))\n",
    "plt.figure(figsize=(4,4))\n",
    "plt.show()"
   ]
  },
  {
   "cell_type": "code",
   "execution_count": 12,
   "metadata": {
    "execution": {
     "iopub.execute_input": "2023-04-26T03:24:20.635485Z",
     "iopub.status.busy": "2023-04-26T03:24:20.635072Z",
     "iopub.status.idle": "2023-04-26T03:24:20.651005Z",
     "shell.execute_reply": "2023-04-26T03:24:20.650034Z",
     "shell.execute_reply.started": "2023-04-26T03:24:20.635450Z"
    }
   },
   "outputs": [
    {
     "data": {
      "text/html": [
       "<div>\n",
       "<style scoped>\n",
       "    .dataframe tbody tr th:only-of-type {\n",
       "        vertical-align: middle;\n",
       "    }\n",
       "\n",
       "    .dataframe tbody tr th {\n",
       "        vertical-align: top;\n",
       "    }\n",
       "\n",
       "    .dataframe thead th {\n",
       "        text-align: right;\n",
       "    }\n",
       "</style>\n",
       "<table border=\"1\" class=\"dataframe\">\n",
       "  <thead>\n",
       "    <tr style=\"text-align: right;\">\n",
       "      <th></th>\n",
       "      <th>Price</th>\n",
       "      <th>Year</th>\n",
       "      <th>Mileage</th>\n",
       "      <th>State</th>\n",
       "      <th>Make</th>\n",
       "      <th>Model</th>\n",
       "    </tr>\n",
       "  </thead>\n",
       "  <tbody>\n",
       "    <tr>\n",
       "      <th>0</th>\n",
       "      <td>34995</td>\n",
       "      <td>2017</td>\n",
       "      <td>9913</td>\n",
       "      <td>FL</td>\n",
       "      <td>Jeep</td>\n",
       "      <td>Wrangler</td>\n",
       "    </tr>\n",
       "    <tr>\n",
       "      <th>1</th>\n",
       "      <td>37895</td>\n",
       "      <td>2015</td>\n",
       "      <td>20578</td>\n",
       "      <td>OH</td>\n",
       "      <td>Chevrolet</td>\n",
       "      <td>Tahoe4WD</td>\n",
       "    </tr>\n",
       "    <tr>\n",
       "      <th>2</th>\n",
       "      <td>18430</td>\n",
       "      <td>2012</td>\n",
       "      <td>83716</td>\n",
       "      <td>TX</td>\n",
       "      <td>BMW</td>\n",
       "      <td>X5AWD</td>\n",
       "    </tr>\n",
       "    <tr>\n",
       "      <th>3</th>\n",
       "      <td>24681</td>\n",
       "      <td>2014</td>\n",
       "      <td>28729</td>\n",
       "      <td>OH</td>\n",
       "      <td>Cadillac</td>\n",
       "      <td>SRXLuxury</td>\n",
       "    </tr>\n",
       "    <tr>\n",
       "      <th>4</th>\n",
       "      <td>26998</td>\n",
       "      <td>2013</td>\n",
       "      <td>64032</td>\n",
       "      <td>CO</td>\n",
       "      <td>Jeep</td>\n",
       "      <td>Wrangler</td>\n",
       "    </tr>\n",
       "    <tr>\n",
       "      <th>...</th>\n",
       "      <td>...</td>\n",
       "      <td>...</td>\n",
       "      <td>...</td>\n",
       "      <td>...</td>\n",
       "      <td>...</td>\n",
       "      <td>...</td>\n",
       "    </tr>\n",
       "    <tr>\n",
       "      <th>399995</th>\n",
       "      <td>29900</td>\n",
       "      <td>2015</td>\n",
       "      <td>25287</td>\n",
       "      <td>TX</td>\n",
       "      <td>Lexus</td>\n",
       "      <td>RXRX</td>\n",
       "    </tr>\n",
       "    <tr>\n",
       "      <th>399996</th>\n",
       "      <td>17688</td>\n",
       "      <td>2015</td>\n",
       "      <td>17677</td>\n",
       "      <td>MI</td>\n",
       "      <td>Chevrolet</td>\n",
       "      <td>EquinoxFWD</td>\n",
       "    </tr>\n",
       "    <tr>\n",
       "      <th>399997</th>\n",
       "      <td>24907</td>\n",
       "      <td>2014</td>\n",
       "      <td>66688</td>\n",
       "      <td>NC</td>\n",
       "      <td>Buick</td>\n",
       "      <td>EnclaveLeather</td>\n",
       "    </tr>\n",
       "    <tr>\n",
       "      <th>399998</th>\n",
       "      <td>11498</td>\n",
       "      <td>2014</td>\n",
       "      <td>37872</td>\n",
       "      <td>IN</td>\n",
       "      <td>Volkswagen</td>\n",
       "      <td>Jetta</td>\n",
       "    </tr>\n",
       "    <tr>\n",
       "      <th>399999</th>\n",
       "      <td>16900</td>\n",
       "      <td>2014</td>\n",
       "      <td>78606</td>\n",
       "      <td>CO</td>\n",
       "      <td>Nissan</td>\n",
       "      <td>PathfinderS</td>\n",
       "    </tr>\n",
       "  </tbody>\n",
       "</table>\n",
       "<p>400000 rows × 6 columns</p>\n",
       "</div>"
      ],
      "text/plain": [
       "        Price  Year  Mileage State        Make           Model\n",
       "0       34995  2017     9913    FL        Jeep        Wrangler\n",
       "1       37895  2015    20578    OH   Chevrolet        Tahoe4WD\n",
       "2       18430  2012    83716    TX         BMW           X5AWD\n",
       "3       24681  2014    28729    OH    Cadillac       SRXLuxury\n",
       "4       26998  2013    64032    CO        Jeep        Wrangler\n",
       "...       ...   ...      ...   ...         ...             ...\n",
       "399995  29900  2015    25287    TX       Lexus            RXRX\n",
       "399996  17688  2015    17677    MI   Chevrolet      EquinoxFWD\n",
       "399997  24907  2014    66688    NC       Buick  EnclaveLeather\n",
       "399998  11498  2014    37872    IN  Volkswagen           Jetta\n",
       "399999  16900  2014    78606    CO      Nissan     PathfinderS\n",
       "\n",
       "[400000 rows x 6 columns]"
      ]
     },
     "execution_count": 12,
     "metadata": {},
     "output_type": "execute_result"
    }
   ],
   "source": [
    "dataTraining"
   ]
  },
  {
   "cell_type": "markdown",
   "metadata": {},
   "source": [
    "#### Distribución de variables Categoricas"
   ]
  },
  {
   "cell_type": "code",
   "execution_count": 13,
   "metadata": {
    "execution": {
     "iopub.execute_input": "2023-04-26T03:24:24.675442Z",
     "iopub.status.busy": "2023-04-26T03:24:24.674439Z",
     "iopub.status.idle": "2023-04-26T03:24:25.779263Z",
     "shell.execute_reply": "2023-04-26T03:24:25.777796Z",
     "shell.execute_reply.started": "2023-04-26T03:24:24.675392Z"
    }
   },
   "outputs": [
    {
     "data": {
      "text/plain": [
       "<AxesSubplot:xlabel='Make', ylabel='Price'>"
      ]
     },
     "execution_count": 13,
     "metadata": {},
     "output_type": "execute_result"
    },
    {
     "data": {
      "image/png": "[encoded data removed]",
      "text/plain": [
       "<Figure size 640x480 with 1 Axes>"
      ]
     },
     "metadata": {},
     "output_type": "display_data"
    }
   ],
   "source": [
    "sns.boxplot(x=dataTraining[\"Make\"], y=dataTraining[\"Price\"])"
   ]
  },
  {
   "cell_type": "code",
   "execution_count": 14,
   "metadata": {
    "execution": {
     "iopub.execute_input": "2023-04-26T02:50:08.836361Z",
     "iopub.status.busy": "2023-04-26T02:50:08.835662Z",
     "iopub.status.idle": "2023-04-26T02:50:22.590275Z",
     "shell.execute_reply": "2023-04-26T02:50:22.589253Z",
     "shell.execute_reply.started": "2023-04-26T02:50:08.836312Z"
    }
   },
   "outputs": [
    {
     "data": {
      "text/plain": [
       "<AxesSubplot:xlabel='Model', ylabel='Price'>"
      ]
     },
     "execution_count": 14,
     "metadata": {},
     "output_type": "execute_result"
    },
    {
     "data": {
      "image/png": "[encoded data removed]",
      "text/plain": [
       "<Figure size 640x480 with 1 Axes>"
      ]
     },
     "metadata": {},
     "output_type": "display_data"
    }
   ],
   "source": [
    "sns.boxplot(x=dataTraining[\"Model\"], y=dataTraining[\"Price\"])"
   ]
  },
  {
   "cell_type": "code",
   "execution_count": 15,
   "metadata": {
    "execution": {
     "iopub.execute_input": "2023-04-26T03:24:30.722649Z",
     "iopub.status.busy": "2023-04-26T03:24:30.722212Z",
     "iopub.status.idle": "2023-04-26T03:24:32.229387Z",
     "shell.execute_reply": "2023-04-26T03:24:32.228087Z",
     "shell.execute_reply.started": "2023-04-26T03:24:30.722612Z"
    }
   },
   "outputs": [
    {
     "data": {
      "text/plain": [
       "<AxesSubplot:xlabel='State', ylabel='Price'>"
      ]
     },
     "execution_count": 15,
     "metadata": {},
     "output_type": "execute_result"
    },
    {
     "data": {
      "image/png": "[encoded data removed]",
      "text/plain": [
       "<Figure size 640x480 with 1 Axes>"
      ]
     },
     "metadata": {},
     "output_type": "display_data"
    }
   ],
   "source": [
    "sns.boxplot(x=dataTraining[\"State\"], y=dataTraining[\"Price\"])"
   ]
  },
  {
   "cell_type": "code",
   "execution_count": 17,
   "metadata": {
    "execution": {
     "iopub.execute_input": "2023-04-26T03:27:36.727294Z",
     "iopub.status.busy": "2023-04-26T03:27:36.726797Z",
     "iopub.status.idle": "2023-04-26T03:27:36.789336Z",
     "shell.execute_reply": "2023-04-26T03:27:36.787987Z",
     "shell.execute_reply.started": "2023-04-26T03:27:36.727253Z"
    },
    "scrolled": true
   },
   "outputs": [
    {
     "data": {
      "text/html": [
       "<div>\n",
       "<style scoped>\n",
       "    .dataframe tbody tr th:only-of-type {\n",
       "        vertical-align: middle;\n",
       "    }\n",
       "\n",
       "    .dataframe tbody tr th {\n",
       "        vertical-align: top;\n",
       "    }\n",
       "\n",
       "    .dataframe thead th {\n",
       "        text-align: right;\n",
       "    }\n",
       "</style>\n",
       "<table border=\"1\" class=\"dataframe\">\n",
       "  <thead>\n",
       "    <tr style=\"text-align: right;\">\n",
       "      <th></th>\n",
       "      <th>Price</th>\n",
       "      <th>Year</th>\n",
       "      <th>Mileage</th>\n",
       "    </tr>\n",
       "  </thead>\n",
       "  <tbody>\n",
       "    <tr>\n",
       "      <th>count</th>\n",
       "      <td>400000.000000</td>\n",
       "      <td>400000.000000</td>\n",
       "      <td>4.000000e+05</td>\n",
       "    </tr>\n",
       "    <tr>\n",
       "      <th>mean</th>\n",
       "      <td>21146.919312</td>\n",
       "      <td>2013.198125</td>\n",
       "      <td>5.507296e+04</td>\n",
       "    </tr>\n",
       "    <tr>\n",
       "      <th>std</th>\n",
       "      <td>10753.664940</td>\n",
       "      <td>3.292326</td>\n",
       "      <td>4.088102e+04</td>\n",
       "    </tr>\n",
       "    <tr>\n",
       "      <th>min</th>\n",
       "      <td>5001.000000</td>\n",
       "      <td>1997.000000</td>\n",
       "      <td>5.000000e+00</td>\n",
       "    </tr>\n",
       "    <tr>\n",
       "      <th>25%</th>\n",
       "      <td>13499.000000</td>\n",
       "      <td>2012.000000</td>\n",
       "      <td>2.584100e+04</td>\n",
       "    </tr>\n",
       "    <tr>\n",
       "      <th>50%</th>\n",
       "      <td>18450.000000</td>\n",
       "      <td>2014.000000</td>\n",
       "      <td>4.295500e+04</td>\n",
       "    </tr>\n",
       "    <tr>\n",
       "      <th>75%</th>\n",
       "      <td>26999.000000</td>\n",
       "      <td>2016.000000</td>\n",
       "      <td>7.743300e+04</td>\n",
       "    </tr>\n",
       "    <tr>\n",
       "      <th>max</th>\n",
       "      <td>79999.000000</td>\n",
       "      <td>2018.000000</td>\n",
       "      <td>2.457832e+06</td>\n",
       "    </tr>\n",
       "  </tbody>\n",
       "</table>\n",
       "</div>"
      ],
      "text/plain": [
       "               Price           Year       Mileage\n",
       "count  400000.000000  400000.000000  4.000000e+05\n",
       "mean    21146.919312    2013.198125  5.507296e+04\n",
       "std     10753.664940       3.292326  4.088102e+04\n",
       "min      5001.000000    1997.000000  5.000000e+00\n",
       "25%     13499.000000    2012.000000  2.584100e+04\n",
       "50%     18450.000000    2014.000000  4.295500e+04\n",
       "75%     26999.000000    2016.000000  7.743300e+04\n",
       "max     79999.000000    2018.000000  2.457832e+06"
      ]
     },
     "execution_count": 17,
     "metadata": {},
     "output_type": "execute_result"
    }
   ],
   "source": [
    "dataTraining.describe()"
   ]
  },
  {
   "cell_type": "code",
   "execution_count": 18,
   "metadata": {
    "execution": {
     "iopub.execute_input": "2023-04-26T03:27:42.323076Z",
     "iopub.status.busy": "2023-04-26T03:27:42.321824Z",
     "iopub.status.idle": "2023-04-26T03:27:42.332555Z",
     "shell.execute_reply": "2023-04-26T03:27:42.331123Z",
     "shell.execute_reply.started": "2023-04-26T03:27:42.323028Z"
    }
   },
   "outputs": [
    {
     "data": {
      "text/plain": [
       "21146.9193125"
      ]
     },
     "execution_count": 18,
     "metadata": {},
     "output_type": "execute_result"
    }
   ],
   "source": [
    "dataTraining['Price'].mean()"
   ]
  },
  {
   "cell_type": "markdown",
   "metadata": {},
   "source": [
    "## Calibración XGBoost"
   ]
  },
  {
   "cell_type": "code",
   "execution_count": 19,
   "metadata": {
    "execution": {
     "iopub.execute_input": "2023-04-26T03:28:33.825672Z",
     "iopub.status.busy": "2023-04-26T03:28:33.825272Z",
     "iopub.status.idle": "2023-04-26T03:28:33.832360Z",
     "shell.execute_reply": "2023-04-26T03:28:33.830776Z",
     "shell.execute_reply.started": "2023-04-26T03:28:33.825638Z"
    }
   },
   "outputs": [],
   "source": [
    "regressor=xgb.XGBRegressor(eval_metric='rmse')"
   ]
  },
  {
   "cell_type": "code",
   "execution_count": 20,
   "metadata": {
    "execution": {
     "iopub.execute_input": "2023-04-26T03:30:02.036651Z",
     "iopub.status.busy": "2023-04-26T03:30:02.036236Z",
     "iopub.status.idle": "2023-04-26T03:30:02.042922Z",
     "shell.execute_reply": "2023-04-26T03:30:02.041520Z",
     "shell.execute_reply.started": "2023-04-26T03:30:02.036616Z"
    }
   },
   "outputs": [],
   "source": [
    "param_grid = {\"max_depth\":    [7, 8],\n",
    "              \"n_estimators\"  = [700,800],\n",
    "              \"learning_rate\": [0.02, 0.1, 0.2]}"
   ]
  },
  {
   "cell_type": "code",
   "execution_count": 21,
   "metadata": {
    "execution": {
     "iopub.execute_input": "2023-04-26T03:30:04.457508Z",
     "iopub.status.busy": "2023-04-26T03:30:04.457090Z"
    }
   },
   "outputs": [
    {
     "name": "stdout",
     "output_type": "stream",
     "text": [
      "Mejores Parametros  {'learning_rate': 0.1, 'max_depth': 8}\n"
     ]
    }
   ],
   "source": [
    "search = GridSearchCV(regressor, param_grid, cv=3).fit(XTrain, yTrain)\n",
    "print(\"Mejores Parametros \",search.best_params_)"
   ]
  },
  {
   "cell_type": "code",
   "execution_count": 23,
   "metadata": {},
   "outputs": [],
   "source": [
    "regressor=xgb.XGBRegressor(learning_rate = 0.1,\n",
    "                           n_estimators  = 700,\n",
    "                           max_depth     = 8,\n",
    "                           eval_metric='rmsle')\n"
   ]
  },
  {
   "cell_type": "code",
   "execution_count": 24,
   "metadata": {},
   "outputs": [
    {
     "data": {
      "text/plain": [
       "XGBRegressor(base_score=None, booster=None, callbacks=None,\n",
       "             colsample_bylevel=None, colsample_bynode=None,\n",
       "             colsample_bytree=None, early_stopping_rounds=None,\n",
       "             enable_categorical=False, eval_metric='rmsle', feature_types=None,\n",
       "             gamma=None, gpu_id=None, grow_policy=None, importance_type=None,\n",
       "             interaction_constraints=None, learning_rate=0.1, max_bin=None,\n",
       "             max_cat_threshold=None, max_cat_to_onehot=None,\n",
       "             max_delta_step=None, max_depth=8, max_leaves=None,\n",
       "             min_child_weight=None, missing=nan, monotone_constraints=None,\n",
       "             n_estimators=700, n_jobs=None, num_parallel_tree=None,\n",
       "             predictor=None, random_state=None, ...)"
      ]
     },
     "execution_count": 24,
     "metadata": {},
     "output_type": "execute_result"
    }
   ],
   "source": [
    "regressor.fit(XTrain, yTrain)"
   ]
  },
  {
   "cell_type": "code",
   "execution_count": 25,
   "metadata": {},
   "outputs": [],
   "source": [
    "y_pred = regressor.predict(XTest)"
   ]
  },
  {
   "cell_type": "code",
   "execution_count": 27,
   "metadata": {},
   "outputs": [],
   "source": [
    "from sklearn.metrics import mean_squared_error "
   ]
  },
  {
   "cell_type": "code",
   "execution_count": 28,
   "metadata": {},
   "outputs": [
    {
     "data": {
      "text/plain": [
       "3647.347417163542"
      ]
     },
     "execution_count": 28,
     "metadata": {},
     "output_type": "execute_result"
    }
   ],
   "source": [
    "mse = mean_squared_error(yTest, y_pred, squared=False)\n",
    "mse"
   ]
  },
  {
   "cell_type": "code",
   "execution_count": 48,
   "metadata": {},
   "outputs": [
    {
     "data": {
      "text/html": [
       "<div>\n",
       "<style scoped>\n",
       "    .dataframe tbody tr th:only-of-type {\n",
       "        vertical-align: middle;\n",
       "    }\n",
       "\n",
       "    .dataframe tbody tr th {\n",
       "        vertical-align: top;\n",
       "    }\n",
       "\n",
       "    .dataframe thead th {\n",
       "        text-align: right;\n",
       "    }\n",
       "</style>\n",
       "<table border=\"1\" class=\"dataframe\">\n",
       "  <thead>\n",
       "    <tr style=\"text-align: right;\">\n",
       "      <th></th>\n",
       "      <th>Year</th>\n",
       "      <th>Mileage</th>\n",
       "      <th>State_ AK</th>\n",
       "      <th>State_ AL</th>\n",
       "      <th>State_ AR</th>\n",
       "      <th>State_ AZ</th>\n",
       "      <th>State_ CA</th>\n",
       "      <th>State_ CO</th>\n",
       "      <th>State_ CT</th>\n",
       "      <th>State_ DC</th>\n",
       "      <th>...</th>\n",
       "      <th>Model_Yaris4dr</th>\n",
       "      <th>Model_YarisBase</th>\n",
       "      <th>Model_YarisLE</th>\n",
       "      <th>Model_Yukon</th>\n",
       "      <th>Model_Yukon2WD</th>\n",
       "      <th>Model_Yukon4WD</th>\n",
       "      <th>Model_Yukon4dr</th>\n",
       "      <th>Model_tC2dr</th>\n",
       "      <th>Model_xB5dr</th>\n",
       "      <th>Model_xD5dr</th>\n",
       "    </tr>\n",
       "  </thead>\n",
       "  <tbody>\n",
       "    <tr>\n",
       "      <th>219421</th>\n",
       "      <td>2012</td>\n",
       "      <td>52027</td>\n",
       "      <td>0</td>\n",
       "      <td>0</td>\n",
       "      <td>0</td>\n",
       "      <td>0</td>\n",
       "      <td>0</td>\n",
       "      <td>0</td>\n",
       "      <td>0</td>\n",
       "      <td>0</td>\n",
       "      <td>...</td>\n",
       "      <td>0</td>\n",
       "      <td>0</td>\n",
       "      <td>0</td>\n",
       "      <td>0</td>\n",
       "      <td>0</td>\n",
       "      <td>0</td>\n",
       "      <td>0</td>\n",
       "      <td>0</td>\n",
       "      <td>0</td>\n",
       "      <td>0</td>\n",
       "    </tr>\n",
       "    <tr>\n",
       "      <th>187898</th>\n",
       "      <td>2015</td>\n",
       "      <td>18127</td>\n",
       "      <td>0</td>\n",
       "      <td>0</td>\n",
       "      <td>0</td>\n",
       "      <td>0</td>\n",
       "      <td>0</td>\n",
       "      <td>0</td>\n",
       "      <td>0</td>\n",
       "      <td>0</td>\n",
       "      <td>...</td>\n",
       "      <td>0</td>\n",
       "      <td>0</td>\n",
       "      <td>0</td>\n",
       "      <td>0</td>\n",
       "      <td>0</td>\n",
       "      <td>0</td>\n",
       "      <td>0</td>\n",
       "      <td>0</td>\n",
       "      <td>0</td>\n",
       "      <td>0</td>\n",
       "    </tr>\n",
       "    <tr>\n",
       "      <th>298770</th>\n",
       "      <td>2013</td>\n",
       "      <td>122197</td>\n",
       "      <td>0</td>\n",
       "      <td>0</td>\n",
       "      <td>0</td>\n",
       "      <td>0</td>\n",
       "      <td>0</td>\n",
       "      <td>0</td>\n",
       "      <td>0</td>\n",
       "      <td>0</td>\n",
       "      <td>...</td>\n",
       "      <td>0</td>\n",
       "      <td>0</td>\n",
       "      <td>0</td>\n",
       "      <td>0</td>\n",
       "      <td>0</td>\n",
       "      <td>0</td>\n",
       "      <td>0</td>\n",
       "      <td>0</td>\n",
       "      <td>0</td>\n",
       "      <td>0</td>\n",
       "    </tr>\n",
       "    <tr>\n",
       "      <th>217760</th>\n",
       "      <td>2014</td>\n",
       "      <td>38003</td>\n",
       "      <td>0</td>\n",
       "      <td>0</td>\n",
       "      <td>0</td>\n",
       "      <td>0</td>\n",
       "      <td>0</td>\n",
       "      <td>0</td>\n",
       "      <td>0</td>\n",
       "      <td>0</td>\n",
       "      <td>...</td>\n",
       "      <td>0</td>\n",
       "      <td>0</td>\n",
       "      <td>0</td>\n",
       "      <td>0</td>\n",
       "      <td>0</td>\n",
       "      <td>0</td>\n",
       "      <td>0</td>\n",
       "      <td>0</td>\n",
       "      <td>0</td>\n",
       "      <td>0</td>\n",
       "    </tr>\n",
       "    <tr>\n",
       "      <th>195247</th>\n",
       "      <td>2015</td>\n",
       "      <td>49464</td>\n",
       "      <td>0</td>\n",
       "      <td>0</td>\n",
       "      <td>0</td>\n",
       "      <td>0</td>\n",
       "      <td>0</td>\n",
       "      <td>0</td>\n",
       "      <td>0</td>\n",
       "      <td>0</td>\n",
       "      <td>...</td>\n",
       "      <td>0</td>\n",
       "      <td>0</td>\n",
       "      <td>0</td>\n",
       "      <td>0</td>\n",
       "      <td>0</td>\n",
       "      <td>0</td>\n",
       "      <td>0</td>\n",
       "      <td>0</td>\n",
       "      <td>0</td>\n",
       "      <td>0</td>\n",
       "    </tr>\n",
       "    <tr>\n",
       "      <th>...</th>\n",
       "      <td>...</td>\n",
       "      <td>...</td>\n",
       "      <td>...</td>\n",
       "      <td>...</td>\n",
       "      <td>...</td>\n",
       "      <td>...</td>\n",
       "      <td>...</td>\n",
       "      <td>...</td>\n",
       "      <td>...</td>\n",
       "      <td>...</td>\n",
       "      <td>...</td>\n",
       "      <td>...</td>\n",
       "      <td>...</td>\n",
       "      <td>...</td>\n",
       "      <td>...</td>\n",
       "      <td>...</td>\n",
       "      <td>...</td>\n",
       "      <td>...</td>\n",
       "      <td>...</td>\n",
       "      <td>...</td>\n",
       "      <td>...</td>\n",
       "    </tr>\n",
       "    <tr>\n",
       "      <th>359783</th>\n",
       "      <td>2012</td>\n",
       "      <td>41501</td>\n",
       "      <td>0</td>\n",
       "      <td>0</td>\n",
       "      <td>0</td>\n",
       "      <td>0</td>\n",
       "      <td>1</td>\n",
       "      <td>0</td>\n",
       "      <td>0</td>\n",
       "      <td>0</td>\n",
       "      <td>...</td>\n",
       "      <td>0</td>\n",
       "      <td>0</td>\n",
       "      <td>0</td>\n",
       "      <td>0</td>\n",
       "      <td>0</td>\n",
       "      <td>0</td>\n",
       "      <td>0</td>\n",
       "      <td>0</td>\n",
       "      <td>0</td>\n",
       "      <td>0</td>\n",
       "    </tr>\n",
       "    <tr>\n",
       "      <th>358083</th>\n",
       "      <td>2010</td>\n",
       "      <td>77127</td>\n",
       "      <td>0</td>\n",
       "      <td>0</td>\n",
       "      <td>0</td>\n",
       "      <td>0</td>\n",
       "      <td>1</td>\n",
       "      <td>0</td>\n",
       "      <td>0</td>\n",
       "      <td>0</td>\n",
       "      <td>...</td>\n",
       "      <td>0</td>\n",
       "      <td>0</td>\n",
       "      <td>0</td>\n",
       "      <td>0</td>\n",
       "      <td>0</td>\n",
       "      <td>0</td>\n",
       "      <td>0</td>\n",
       "      <td>0</td>\n",
       "      <td>0</td>\n",
       "      <td>0</td>\n",
       "    </tr>\n",
       "    <tr>\n",
       "      <th>152315</th>\n",
       "      <td>2015</td>\n",
       "      <td>34896</td>\n",
       "      <td>0</td>\n",
       "      <td>0</td>\n",
       "      <td>0</td>\n",
       "      <td>0</td>\n",
       "      <td>0</td>\n",
       "      <td>0</td>\n",
       "      <td>0</td>\n",
       "      <td>0</td>\n",
       "      <td>...</td>\n",
       "      <td>0</td>\n",
       "      <td>0</td>\n",
       "      <td>0</td>\n",
       "      <td>0</td>\n",
       "      <td>0</td>\n",
       "      <td>0</td>\n",
       "      <td>0</td>\n",
       "      <td>0</td>\n",
       "      <td>0</td>\n",
       "      <td>0</td>\n",
       "    </tr>\n",
       "    <tr>\n",
       "      <th>117952</th>\n",
       "      <td>2016</td>\n",
       "      <td>3946</td>\n",
       "      <td>0</td>\n",
       "      <td>0</td>\n",
       "      <td>0</td>\n",
       "      <td>0</td>\n",
       "      <td>0</td>\n",
       "      <td>0</td>\n",
       "      <td>0</td>\n",
       "      <td>0</td>\n",
       "      <td>...</td>\n",
       "      <td>0</td>\n",
       "      <td>0</td>\n",
       "      <td>0</td>\n",
       "      <td>0</td>\n",
       "      <td>0</td>\n",
       "      <td>0</td>\n",
       "      <td>0</td>\n",
       "      <td>0</td>\n",
       "      <td>0</td>\n",
       "      <td>0</td>\n",
       "    </tr>\n",
       "    <tr>\n",
       "      <th>305711</th>\n",
       "      <td>2015</td>\n",
       "      <td>23885</td>\n",
       "      <td>0</td>\n",
       "      <td>0</td>\n",
       "      <td>0</td>\n",
       "      <td>0</td>\n",
       "      <td>0</td>\n",
       "      <td>0</td>\n",
       "      <td>0</td>\n",
       "      <td>0</td>\n",
       "      <td>...</td>\n",
       "      <td>0</td>\n",
       "      <td>0</td>\n",
       "      <td>0</td>\n",
       "      <td>0</td>\n",
       "      <td>0</td>\n",
       "      <td>0</td>\n",
       "      <td>0</td>\n",
       "      <td>0</td>\n",
       "      <td>0</td>\n",
       "      <td>0</td>\n",
       "    </tr>\n",
       "  </tbody>\n",
       "</table>\n",
       "<p>268000 rows × 616 columns</p>\n",
       "</div>"
      ],
      "text/plain": [
       "        Year  Mileage  State_ AK  State_ AL  State_ AR  State_ AZ  State_ CA  \\\n",
       "219421  2012    52027          0          0          0          0          0   \n",
       "187898  2015    18127          0          0          0          0          0   \n",
       "298770  2013   122197          0          0          0          0          0   \n",
       "217760  2014    38003          0          0          0          0          0   \n",
       "195247  2015    49464          0          0          0          0          0   \n",
       "...      ...      ...        ...        ...        ...        ...        ...   \n",
       "359783  2012    41501          0          0          0          0          1   \n",
       "358083  2010    77127          0          0          0          0          1   \n",
       "152315  2015    34896          0          0          0          0          0   \n",
       "117952  2016     3946          0          0          0          0          0   \n",
       "305711  2015    23885          0          0          0          0          0   \n",
       "\n",
       "        State_ CO  State_ CT  State_ DC  ...  Model_Yaris4dr  Model_YarisBase  \\\n",
       "219421          0          0          0  ...               0                0   \n",
       "187898          0          0          0  ...               0                0   \n",
       "298770          0          0          0  ...               0                0   \n",
       "217760          0          0          0  ...               0                0   \n",
       "195247          0          0          0  ...               0                0   \n",
       "...           ...        ...        ...  ...             ...              ...   \n",
       "359783          0          0          0  ...               0                0   \n",
       "358083          0          0          0  ...               0                0   \n",
       "152315          0          0          0  ...               0                0   \n",
       "117952          0          0          0  ...               0                0   \n",
       "305711          0          0          0  ...               0                0   \n",
       "\n",
       "        Model_YarisLE  Model_Yukon  Model_Yukon2WD  Model_Yukon4WD  \\\n",
       "219421              0            0               0               0   \n",
       "187898              0            0               0               0   \n",
       "298770              0            0               0               0   \n",
       "217760              0            0               0               0   \n",
       "195247              0            0               0               0   \n",
       "...               ...          ...             ...             ...   \n",
       "359783              0            0               0               0   \n",
       "358083              0            0               0               0   \n",
       "152315              0            0               0               0   \n",
       "117952              0            0               0               0   \n",
       "305711              0            0               0               0   \n",
       "\n",
       "        Model_Yukon4dr  Model_tC2dr  Model_xB5dr  Model_xD5dr  \n",
       "219421               0            0            0            0  \n",
       "187898               0            0            0            0  \n",
       "298770               0            0            0            0  \n",
       "217760               0            0            0            0  \n",
       "195247               0            0            0            0  \n",
       "...                ...          ...          ...          ...  \n",
       "359783               0            0            0            0  \n",
       "358083               0            0            0            0  \n",
       "152315               0            0            0            0  \n",
       "117952               0            0            0            0  \n",
       "305711               0            0            0            0  \n",
       "\n",
       "[268000 rows x 616 columns]"
      ]
     },
     "execution_count": 48,
     "metadata": {},
     "output_type": "execute_result"
    }
   ],
   "source": [
    "XTrain"
   ]
  },
  {
   "cell_type": "code",
   "execution_count": 29,
   "metadata": {},
   "outputs": [],
   "source": [
    "dTest['Make_Freightliner']=0"
   ]
  },
  {
   "cell_type": "code",
   "execution_count": 36,
   "metadata": {},
   "outputs": [],
   "source": [
    "col1 = dTest.columns\n",
    "col2 = XTrain.columns"
   ]
  },
  {
   "cell_type": "code",
   "execution_count": 53,
   "metadata": {},
   "outputs": [
    {
     "data": {
      "text/html": [
       "<div>\n",
       "<style scoped>\n",
       "    .dataframe tbody tr th:only-of-type {\n",
       "        vertical-align: middle;\n",
       "    }\n",
       "\n",
       "    .dataframe tbody tr th {\n",
       "        vertical-align: top;\n",
       "    }\n",
       "\n",
       "    .dataframe thead th {\n",
       "        text-align: right;\n",
       "    }\n",
       "</style>\n",
       "<table border=\"1\" class=\"dataframe\">\n",
       "  <thead>\n",
       "    <tr style=\"text-align: right;\">\n",
       "      <th></th>\n",
       "      <th>Year</th>\n",
       "      <th>Mileage</th>\n",
       "      <th>State_ AK</th>\n",
       "      <th>State_ AL</th>\n",
       "      <th>State_ AR</th>\n",
       "      <th>State_ AZ</th>\n",
       "      <th>State_ CA</th>\n",
       "      <th>State_ CO</th>\n",
       "      <th>State_ CT</th>\n",
       "      <th>State_ DC</th>\n",
       "      <th>...</th>\n",
       "      <th>Model_Yaris4dr</th>\n",
       "      <th>Model_YarisBase</th>\n",
       "      <th>Model_YarisLE</th>\n",
       "      <th>Model_Yukon</th>\n",
       "      <th>Model_Yukon2WD</th>\n",
       "      <th>Model_Yukon4WD</th>\n",
       "      <th>Model_Yukon4dr</th>\n",
       "      <th>Model_tC2dr</th>\n",
       "      <th>Model_xB5dr</th>\n",
       "      <th>Model_xD5dr</th>\n",
       "    </tr>\n",
       "  </thead>\n",
       "  <tbody>\n",
       "    <tr>\n",
       "      <th>242160</th>\n",
       "      <td>2010</td>\n",
       "      <td>115991</td>\n",
       "      <td>0</td>\n",
       "      <td>0</td>\n",
       "      <td>0</td>\n",
       "      <td>0</td>\n",
       "      <td>0</td>\n",
       "      <td>0</td>\n",
       "      <td>0</td>\n",
       "      <td>0</td>\n",
       "      <td>...</td>\n",
       "      <td>0</td>\n",
       "      <td>0</td>\n",
       "      <td>0</td>\n",
       "      <td>0</td>\n",
       "      <td>0</td>\n",
       "      <td>0</td>\n",
       "      <td>0</td>\n",
       "      <td>0</td>\n",
       "      <td>0</td>\n",
       "      <td>0</td>\n",
       "    </tr>\n",
       "    <tr>\n",
       "      <th>3413</th>\n",
       "      <td>2014</td>\n",
       "      <td>48093</td>\n",
       "      <td>0</td>\n",
       "      <td>0</td>\n",
       "      <td>0</td>\n",
       "      <td>0</td>\n",
       "      <td>0</td>\n",
       "      <td>0</td>\n",
       "      <td>0</td>\n",
       "      <td>0</td>\n",
       "      <td>...</td>\n",
       "      <td>0</td>\n",
       "      <td>0</td>\n",
       "      <td>0</td>\n",
       "      <td>0</td>\n",
       "      <td>0</td>\n",
       "      <td>0</td>\n",
       "      <td>0</td>\n",
       "      <td>0</td>\n",
       "      <td>0</td>\n",
       "      <td>0</td>\n",
       "    </tr>\n",
       "    <tr>\n",
       "      <th>393024</th>\n",
       "      <td>2016</td>\n",
       "      <td>5494</td>\n",
       "      <td>0</td>\n",
       "      <td>0</td>\n",
       "      <td>0</td>\n",
       "      <td>0</td>\n",
       "      <td>0</td>\n",
       "      <td>0</td>\n",
       "      <td>0</td>\n",
       "      <td>0</td>\n",
       "      <td>...</td>\n",
       "      <td>0</td>\n",
       "      <td>0</td>\n",
       "      <td>0</td>\n",
       "      <td>0</td>\n",
       "      <td>0</td>\n",
       "      <td>0</td>\n",
       "      <td>0</td>\n",
       "      <td>0</td>\n",
       "      <td>0</td>\n",
       "      <td>0</td>\n",
       "    </tr>\n",
       "    <tr>\n",
       "      <th>247987</th>\n",
       "      <td>2016</td>\n",
       "      <td>43217</td>\n",
       "      <td>0</td>\n",
       "      <td>0</td>\n",
       "      <td>0</td>\n",
       "      <td>1</td>\n",
       "      <td>0</td>\n",
       "      <td>0</td>\n",
       "      <td>0</td>\n",
       "      <td>0</td>\n",
       "      <td>...</td>\n",
       "      <td>0</td>\n",
       "      <td>0</td>\n",
       "      <td>0</td>\n",
       "      <td>0</td>\n",
       "      <td>0</td>\n",
       "      <td>0</td>\n",
       "      <td>0</td>\n",
       "      <td>0</td>\n",
       "      <td>0</td>\n",
       "      <td>0</td>\n",
       "    </tr>\n",
       "    <tr>\n",
       "      <th>52436</th>\n",
       "      <td>2013</td>\n",
       "      <td>37664</td>\n",
       "      <td>0</td>\n",
       "      <td>0</td>\n",
       "      <td>0</td>\n",
       "      <td>0</td>\n",
       "      <td>1</td>\n",
       "      <td>0</td>\n",
       "      <td>0</td>\n",
       "      <td>0</td>\n",
       "      <td>...</td>\n",
       "      <td>0</td>\n",
       "      <td>0</td>\n",
       "      <td>0</td>\n",
       "      <td>0</td>\n",
       "      <td>0</td>\n",
       "      <td>0</td>\n",
       "      <td>0</td>\n",
       "      <td>0</td>\n",
       "      <td>0</td>\n",
       "      <td>0</td>\n",
       "    </tr>\n",
       "    <tr>\n",
       "      <th>...</th>\n",
       "      <td>...</td>\n",
       "      <td>...</td>\n",
       "      <td>...</td>\n",
       "      <td>...</td>\n",
       "      <td>...</td>\n",
       "      <td>...</td>\n",
       "      <td>...</td>\n",
       "      <td>...</td>\n",
       "      <td>...</td>\n",
       "      <td>...</td>\n",
       "      <td>...</td>\n",
       "      <td>...</td>\n",
       "      <td>...</td>\n",
       "      <td>...</td>\n",
       "      <td>...</td>\n",
       "      <td>...</td>\n",
       "      <td>...</td>\n",
       "      <td>...</td>\n",
       "      <td>...</td>\n",
       "      <td>...</td>\n",
       "      <td>...</td>\n",
       "    </tr>\n",
       "    <tr>\n",
       "      <th>239061</th>\n",
       "      <td>2010</td>\n",
       "      <td>167325</td>\n",
       "      <td>0</td>\n",
       "      <td>0</td>\n",
       "      <td>0</td>\n",
       "      <td>0</td>\n",
       "      <td>0</td>\n",
       "      <td>0</td>\n",
       "      <td>0</td>\n",
       "      <td>0</td>\n",
       "      <td>...</td>\n",
       "      <td>0</td>\n",
       "      <td>0</td>\n",
       "      <td>0</td>\n",
       "      <td>0</td>\n",
       "      <td>0</td>\n",
       "      <td>0</td>\n",
       "      <td>0</td>\n",
       "      <td>0</td>\n",
       "      <td>0</td>\n",
       "      <td>0</td>\n",
       "    </tr>\n",
       "    <tr>\n",
       "      <th>237666</th>\n",
       "      <td>2013</td>\n",
       "      <td>63520</td>\n",
       "      <td>0</td>\n",
       "      <td>0</td>\n",
       "      <td>0</td>\n",
       "      <td>0</td>\n",
       "      <td>0</td>\n",
       "      <td>0</td>\n",
       "      <td>0</td>\n",
       "      <td>0</td>\n",
       "      <td>...</td>\n",
       "      <td>0</td>\n",
       "      <td>0</td>\n",
       "      <td>0</td>\n",
       "      <td>0</td>\n",
       "      <td>0</td>\n",
       "      <td>0</td>\n",
       "      <td>0</td>\n",
       "      <td>0</td>\n",
       "      <td>0</td>\n",
       "      <td>0</td>\n",
       "    </tr>\n",
       "    <tr>\n",
       "      <th>40562</th>\n",
       "      <td>2016</td>\n",
       "      <td>32595</td>\n",
       "      <td>0</td>\n",
       "      <td>0</td>\n",
       "      <td>0</td>\n",
       "      <td>0</td>\n",
       "      <td>0</td>\n",
       "      <td>0</td>\n",
       "      <td>0</td>\n",
       "      <td>0</td>\n",
       "      <td>...</td>\n",
       "      <td>0</td>\n",
       "      <td>0</td>\n",
       "      <td>0</td>\n",
       "      <td>0</td>\n",
       "      <td>0</td>\n",
       "      <td>0</td>\n",
       "      <td>0</td>\n",
       "      <td>0</td>\n",
       "      <td>0</td>\n",
       "      <td>0</td>\n",
       "    </tr>\n",
       "    <tr>\n",
       "      <th>136654</th>\n",
       "      <td>2017</td>\n",
       "      <td>5</td>\n",
       "      <td>0</td>\n",
       "      <td>0</td>\n",
       "      <td>0</td>\n",
       "      <td>0</td>\n",
       "      <td>0</td>\n",
       "      <td>0</td>\n",
       "      <td>0</td>\n",
       "      <td>0</td>\n",
       "      <td>...</td>\n",
       "      <td>0</td>\n",
       "      <td>0</td>\n",
       "      <td>0</td>\n",
       "      <td>0</td>\n",
       "      <td>0</td>\n",
       "      <td>0</td>\n",
       "      <td>0</td>\n",
       "      <td>0</td>\n",
       "      <td>0</td>\n",
       "      <td>0</td>\n",
       "    </tr>\n",
       "    <tr>\n",
       "      <th>94837</th>\n",
       "      <td>2016</td>\n",
       "      <td>18731</td>\n",
       "      <td>0</td>\n",
       "      <td>0</td>\n",
       "      <td>0</td>\n",
       "      <td>0</td>\n",
       "      <td>0</td>\n",
       "      <td>0</td>\n",
       "      <td>0</td>\n",
       "      <td>0</td>\n",
       "      <td>...</td>\n",
       "      <td>0</td>\n",
       "      <td>0</td>\n",
       "      <td>0</td>\n",
       "      <td>0</td>\n",
       "      <td>0</td>\n",
       "      <td>0</td>\n",
       "      <td>0</td>\n",
       "      <td>0</td>\n",
       "      <td>0</td>\n",
       "      <td>0</td>\n",
       "    </tr>\n",
       "  </tbody>\n",
       "</table>\n",
       "<p>132000 rows × 616 columns</p>\n",
       "</div>"
      ],
      "text/plain": [
       "        Year  Mileage  State_ AK  State_ AL  State_ AR  State_ AZ  State_ CA  \\\n",
       "242160  2010   115991          0          0          0          0          0   \n",
       "3413    2014    48093          0          0          0          0          0   \n",
       "393024  2016     5494          0          0          0          0          0   \n",
       "247987  2016    43217          0          0          0          1          0   \n",
       "52436   2013    37664          0          0          0          0          1   \n",
       "...      ...      ...        ...        ...        ...        ...        ...   \n",
       "239061  2010   167325          0          0          0          0          0   \n",
       "237666  2013    63520          0          0          0          0          0   \n",
       "40562   2016    32595          0          0          0          0          0   \n",
       "136654  2017        5          0          0          0          0          0   \n",
       "94837   2016    18731          0          0          0          0          0   \n",
       "\n",
       "        State_ CO  State_ CT  State_ DC  ...  Model_Yaris4dr  Model_YarisBase  \\\n",
       "242160          0          0          0  ...               0                0   \n",
       "3413            0          0          0  ...               0                0   \n",
       "393024          0          0          0  ...               0                0   \n",
       "247987          0          0          0  ...               0                0   \n",
       "52436           0          0          0  ...               0                0   \n",
       "...           ...        ...        ...  ...             ...              ...   \n",
       "239061          0          0          0  ...               0                0   \n",
       "237666          0          0          0  ...               0                0   \n",
       "40562           0          0          0  ...               0                0   \n",
       "136654          0          0          0  ...               0                0   \n",
       "94837           0          0          0  ...               0                0   \n",
       "\n",
       "        Model_YarisLE  Model_Yukon  Model_Yukon2WD  Model_Yukon4WD  \\\n",
       "242160              0            0               0               0   \n",
       "3413                0            0               0               0   \n",
       "393024              0            0               0               0   \n",
       "247987              0            0               0               0   \n",
       "52436               0            0               0               0   \n",
       "...               ...          ...             ...             ...   \n",
       "239061              0            0               0               0   \n",
       "237666              0            0               0               0   \n",
       "40562               0            0               0               0   \n",
       "136654              0            0               0               0   \n",
       "94837               0            0               0               0   \n",
       "\n",
       "        Model_Yukon4dr  Model_tC2dr  Model_xB5dr  Model_xD5dr  \n",
       "242160               0            0            0            0  \n",
       "3413                 0            0            0            0  \n",
       "393024               0            0            0            0  \n",
       "247987               0            0            0            0  \n",
       "52436                0            0            0            0  \n",
       "...                ...          ...          ...          ...  \n",
       "239061               0            0            0            0  \n",
       "237666               0            0            0            0  \n",
       "40562                0            0            0            0  \n",
       "136654               0            0            0            0  \n",
       "94837                0            0            0            0  \n",
       "\n",
       "[132000 rows x 616 columns]"
      ]
     },
     "execution_count": 53,
     "metadata": {},
     "output_type": "execute_result"
    }
   ],
   "source": [
    "XTest"
   ]
  },
  {
   "cell_type": "code",
   "execution_count": 39,
   "metadata": {},
   "outputs": [
    {
     "name": "stdout",
     "output_type": "stream",
     "text": [
      "True\n",
      "True\n",
      "True\n",
      "True\n",
      "True\n",
      "True\n",
      "True\n",
      "True\n",
      "True\n",
      "True\n",
      "True\n",
      "True\n",
      "True\n",
      "True\n",
      "True\n",
      "True\n",
      "True\n",
      "True\n",
      "True\n",
      "True\n",
      "True\n",
      "True\n",
      "True\n",
      "True\n",
      "True\n",
      "True\n",
      "True\n",
      "True\n",
      "True\n",
      "True\n",
      "True\n",
      "True\n",
      "True\n",
      "True\n",
      "True\n",
      "True\n",
      "True\n",
      "True\n",
      "True\n",
      "True\n",
      "True\n",
      "True\n",
      "True\n",
      "True\n",
      "True\n",
      "True\n",
      "True\n",
      "True\n",
      "True\n",
      "True\n",
      "True\n",
      "True\n",
      "True\n",
      "True\n",
      "True\n",
      "True\n",
      "True\n",
      "True\n",
      "True\n",
      "True\n",
      "True\n",
      "True\n",
      "True\n",
      "True\n",
      "True\n",
      "True\n",
      "True\n",
      "True\n",
      "True\n",
      "True\n",
      "True\n",
      "True\n",
      "True\n",
      "True\n",
      "True\n",
      "True\n",
      "True\n",
      "True\n",
      "True\n",
      "True\n",
      "True\n",
      "True\n",
      "True\n",
      "True\n",
      "True\n",
      "True\n",
      "True\n",
      "True\n",
      "True\n",
      "True\n",
      "True\n",
      "True\n",
      "True\n",
      "True\n",
      "True\n",
      "True\n",
      "True\n",
      "True\n",
      "True\n",
      "True\n",
      "True\n",
      "True\n",
      "True\n",
      "True\n",
      "True\n",
      "True\n",
      "True\n",
      "True\n",
      "True\n",
      "True\n",
      "True\n",
      "True\n",
      "True\n",
      "True\n",
      "True\n",
      "True\n",
      "True\n",
      "True\n",
      "True\n",
      "True\n",
      "True\n",
      "True\n",
      "True\n",
      "True\n",
      "True\n",
      "True\n",
      "True\n",
      "True\n",
      "True\n",
      "True\n",
      "True\n",
      "True\n",
      "True\n",
      "True\n",
      "True\n",
      "True\n",
      "True\n",
      "True\n",
      "True\n",
      "True\n",
      "True\n",
      "True\n",
      "True\n",
      "True\n",
      "True\n",
      "True\n",
      "True\n",
      "True\n",
      "True\n",
      "True\n",
      "True\n",
      "True\n",
      "True\n",
      "True\n",
      "True\n",
      "True\n",
      "True\n",
      "True\n",
      "True\n",
      "True\n",
      "True\n",
      "True\n",
      "True\n",
      "True\n",
      "True\n",
      "True\n",
      "True\n",
      "True\n",
      "True\n",
      "True\n",
      "True\n",
      "True\n",
      "True\n",
      "True\n",
      "True\n",
      "True\n",
      "True\n",
      "True\n",
      "True\n",
      "True\n",
      "True\n",
      "True\n",
      "True\n",
      "True\n",
      "True\n",
      "True\n",
      "True\n",
      "True\n",
      "True\n",
      "True\n",
      "True\n",
      "True\n",
      "True\n",
      "True\n",
      "True\n",
      "True\n",
      "True\n",
      "True\n",
      "True\n",
      "True\n",
      "True\n",
      "True\n",
      "True\n",
      "True\n",
      "True\n",
      "True\n",
      "True\n",
      "True\n",
      "True\n",
      "True\n",
      "True\n",
      "True\n",
      "True\n",
      "True\n",
      "True\n",
      "True\n",
      "True\n",
      "True\n",
      "True\n",
      "True\n",
      "True\n",
      "True\n",
      "True\n",
      "True\n",
      "True\n",
      "True\n",
      "True\n",
      "True\n",
      "True\n",
      "True\n",
      "True\n",
      "True\n",
      "True\n",
      "True\n",
      "True\n",
      "True\n",
      "True\n",
      "True\n",
      "True\n",
      "True\n",
      "True\n",
      "True\n",
      "True\n",
      "True\n",
      "True\n",
      "True\n",
      "True\n",
      "True\n",
      "True\n",
      "True\n",
      "True\n",
      "True\n",
      "True\n",
      "True\n",
      "True\n",
      "True\n",
      "True\n",
      "True\n",
      "True\n",
      "True\n",
      "True\n",
      "True\n",
      "True\n",
      "True\n",
      "True\n",
      "True\n",
      "True\n",
      "True\n",
      "True\n",
      "True\n",
      "True\n",
      "True\n",
      "True\n",
      "True\n",
      "True\n",
      "True\n",
      "True\n",
      "True\n",
      "True\n",
      "True\n",
      "True\n",
      "True\n",
      "True\n",
      "True\n",
      "True\n",
      "True\n",
      "True\n",
      "True\n",
      "True\n",
      "True\n",
      "True\n",
      "True\n",
      "True\n",
      "True\n",
      "True\n",
      "True\n",
      "True\n",
      "True\n",
      "True\n",
      "True\n",
      "True\n",
      "True\n",
      "True\n",
      "True\n",
      "True\n",
      "True\n",
      "True\n",
      "True\n",
      "True\n",
      "True\n",
      "True\n",
      "True\n",
      "True\n",
      "True\n",
      "True\n",
      "True\n",
      "True\n",
      "True\n",
      "True\n",
      "True\n",
      "True\n",
      "True\n",
      "True\n",
      "True\n",
      "True\n",
      "True\n",
      "True\n",
      "True\n",
      "True\n",
      "True\n",
      "True\n",
      "True\n",
      "True\n",
      "True\n",
      "True\n",
      "True\n",
      "True\n",
      "True\n",
      "True\n",
      "True\n",
      "True\n",
      "True\n",
      "True\n",
      "True\n",
      "True\n",
      "True\n",
      "True\n",
      "True\n",
      "True\n",
      "True\n",
      "True\n",
      "True\n",
      "True\n",
      "True\n",
      "True\n",
      "True\n",
      "True\n",
      "True\n",
      "True\n",
      "True\n",
      "True\n",
      "True\n",
      "True\n",
      "True\n",
      "True\n",
      "True\n",
      "True\n",
      "True\n",
      "True\n",
      "True\n",
      "True\n",
      "True\n",
      "True\n",
      "True\n",
      "True\n",
      "True\n",
      "True\n",
      "True\n",
      "True\n",
      "True\n",
      "True\n",
      "True\n",
      "True\n",
      "True\n",
      "True\n",
      "True\n",
      "True\n",
      "True\n",
      "True\n",
      "True\n",
      "True\n",
      "True\n",
      "True\n",
      "True\n",
      "True\n",
      "True\n",
      "True\n",
      "True\n",
      "True\n",
      "True\n",
      "True\n",
      "True\n",
      "True\n",
      "True\n",
      "True\n",
      "True\n",
      "True\n",
      "True\n",
      "True\n",
      "True\n",
      "True\n",
      "True\n",
      "True\n",
      "True\n",
      "True\n",
      "True\n",
      "True\n",
      "True\n",
      "True\n",
      "True\n",
      "True\n",
      "True\n",
      "True\n",
      "True\n",
      "True\n",
      "True\n",
      "True\n",
      "True\n",
      "True\n",
      "True\n",
      "True\n",
      "True\n",
      "True\n",
      "True\n",
      "True\n",
      "True\n",
      "True\n",
      "True\n",
      "True\n",
      "True\n",
      "True\n",
      "True\n",
      "True\n",
      "True\n",
      "True\n",
      "True\n",
      "True\n",
      "True\n",
      "True\n",
      "True\n",
      "True\n",
      "True\n",
      "True\n",
      "True\n",
      "True\n",
      "True\n",
      "True\n",
      "True\n",
      "True\n",
      "True\n",
      "True\n",
      "True\n",
      "True\n",
      "True\n",
      "True\n",
      "True\n",
      "True\n",
      "True\n",
      "True\n",
      "True\n",
      "True\n",
      "True\n",
      "True\n",
      "True\n",
      "True\n",
      "True\n",
      "True\n",
      "True\n",
      "True\n",
      "True\n",
      "True\n",
      "True\n",
      "True\n",
      "True\n",
      "True\n",
      "True\n",
      "True\n",
      "True\n",
      "True\n",
      "True\n",
      "True\n",
      "True\n",
      "True\n",
      "True\n",
      "True\n",
      "True\n",
      "True\n",
      "True\n",
      "True\n",
      "True\n",
      "True\n",
      "True\n",
      "True\n",
      "True\n",
      "True\n",
      "True\n",
      "True\n",
      "True\n",
      "True\n",
      "True\n",
      "True\n",
      "True\n",
      "True\n",
      "True\n",
      "True\n",
      "True\n",
      "True\n",
      "True\n",
      "True\n",
      "True\n",
      "True\n",
      "True\n",
      "True\n",
      "True\n",
      "True\n",
      "True\n",
      "True\n",
      "True\n",
      "True\n",
      "True\n",
      "True\n",
      "True\n",
      "True\n",
      "True\n",
      "True\n",
      "True\n",
      "True\n",
      "True\n",
      "True\n",
      "True\n",
      "True\n",
      "True\n",
      "True\n",
      "True\n",
      "True\n",
      "True\n",
      "True\n",
      "True\n",
      "True\n",
      "True\n",
      "True\n",
      "True\n",
      "True\n",
      "True\n",
      "True\n",
      "True\n",
      "True\n",
      "True\n",
      "True\n",
      "True\n",
      "True\n",
      "True\n",
      "True\n",
      "True\n",
      "True\n",
      "True\n",
      "True\n",
      "True\n",
      "True\n",
      "True\n",
      "True\n",
      "True\n",
      "True\n",
      "True\n",
      "True\n",
      "True\n",
      "True\n",
      "True\n",
      "True\n",
      "True\n",
      "True\n",
      "True\n",
      "True\n",
      "True\n",
      "True\n",
      "True\n",
      "True\n",
      "True\n",
      "True\n",
      "True\n",
      "True\n",
      "True\n",
      "True\n",
      "True\n",
      "True\n",
      "True\n",
      "True\n",
      "True\n",
      "True\n",
      "True\n",
      "True\n",
      "True\n",
      "True\n",
      "True\n",
      "True\n",
      "True\n",
      "True\n",
      "True\n",
      "True\n",
      "True\n",
      "True\n",
      "True\n",
      "True\n",
      "True\n",
      "True\n",
      "True\n"
     ]
    }
   ],
   "source": [
    "#Identificar que modelos en Test no estan en Train\n",
    "for colu in col2:\n",
    "    if colu in col1:\n",
    "        print(\"True\")\n",
    "    else:\n",
    "        print(colu)"
   ]
  },
  {
   "cell_type": "code",
   "execution_count": 87,
   "metadata": {},
   "outputs": [],
   "source": [
    "# Guardar respuesta para Kaggle\n",
    "output = pd.DataFrame({\"Id\":dTest.index, \"Price\":predictions})\n",
    "output.to_csv('submission3.csv', index=False)"
   ]
  },
  {
   "cell_type": "markdown",
   "metadata": {},
   "source": [
    "# Segunda calibración de hiperparametros"
   ]
  },
  {
   "cell_type": "markdown",
   "metadata": {},
   "source": [
    "Al identificar que la mejor solución fue generada por una mayor tasa de aprendizaje se aumenta el valor maximo para probar con una tasa de 0.2, adicional probar el cambio del hiperparametro n_estimators entre 500 y 700"
   ]
  },
  {
   "cell_type": "code",
   "execution_count": null,
   "metadata": {},
   "outputs": [],
   "source": [
    "param_grid = {\"max_depth\":    [7, 8],\n",
    "              \"n_estimators\"  = [500,700],\n",
    "              \"learning_rate\": [0.1, 0.2]}"
   ]
  },
  {
   "cell_type": "code",
   "execution_count": 54,
   "metadata": {},
   "outputs": [],
   "source": [
    "regressor=xgb.XGBRegressor(learning_rate = 0.2,\n",
    "                           n_estimators  = 700,\n",
    "                           max_depth     = 8,\n",
    "                           eval_metric='rmsle')"
   ]
  },
  {
   "cell_type": "code",
   "execution_count": 56,
   "metadata": {},
   "outputs": [],
   "source": [
    "y_pred = regressor.predict(XTest)"
   ]
  },
  {
   "cell_type": "code",
   "execution_count": 57,
   "metadata": {},
   "outputs": [
    {
     "data": {
      "text/plain": [
       "3517.54262071653"
      ]
     },
     "execution_count": 57,
     "metadata": {},
     "output_type": "execute_result"
    }
   ],
   "source": [
    "mse = mean_squared_error(yTest, y_pred, squared=False)\n",
    "mse"
   ]
  },
  {
   "cell_type": "code",
   "execution_count": 60,
   "metadata": {},
   "outputs": [],
   "source": [
    "col_test = dTest.columns\n",
    "col_train = XTrain.columns"
   ]
  },
  {
   "cell_type": "code",
   "execution_count": 63,
   "metadata": {},
   "outputs": [],
   "source": [
    "dTest['Make_Freightliner'] = np.uint8(0)\n",
    "df_test = pd.DataFrame()\n",
    "for col in col_train:\n",
    "    df_test[col] = dTest[col]\n",
    "df_test = df_test.reset_index()\n",
    "df_test = df_test.drop(columns ={'ID'})\n",
    "y_pred2 = regressor.predict(df_test)\n",
    "predictions = regressor.predict(df_test)\n",
    "output = pd.DataFrame({\"Id\":dTest.index, \"Price\":predictions})\n",
    "output.to_csv('submission_7.csv', index=False)"
   ]
  },
  {
   "cell_type": "markdown",
   "metadata": {},
   "source": [
    "**Puntaje Kagle del submission 7  ->3484.43956**"
   ]
  },
  {
   "cell_type": "markdown",
   "metadata": {},
   "source": [
    "## Ajuste Learning Rate "
   ]
  },
  {
   "cell_type": "markdown",
   "metadata": {},
   "source": [
    "Probamos subiendo la tasa de aprendizaje a 0.25"
   ]
  },
  {
   "cell_type": "code",
   "execution_count": 66,
   "metadata": {},
   "outputs": [],
   "source": [
    "regressor=xgb.XGBRegressor(learning_rate = 0.25,\n",
    "                           n_estimators  = 700,\n",
    "                           max_depth     = 8,\n",
    "                           eval_metric='rmsle')"
   ]
  },
  {
   "cell_type": "code",
   "execution_count": 67,
   "metadata": {},
   "outputs": [
    {
     "data": {
      "text/plain": [
       "XGBRegressor(base_score=None, booster=None, callbacks=None,\n",
       "             colsample_bylevel=None, colsample_bynode=None,\n",
       "             colsample_bytree=None, early_stopping_rounds=None,\n",
       "             enable_categorical=False, eval_metric='rmsle', feature_types=None,\n",
       "             gamma=None, gpu_id=None, grow_policy=None, importance_type=None,\n",
       "             interaction_constraints=None, learning_rate=0.25, max_bin=None,\n",
       "             max_cat_threshold=None, max_cat_to_onehot=None,\n",
       "             max_delta_step=None, max_depth=8, max_leaves=None,\n",
       "             min_child_weight=None, missing=nan, monotone_constraints=None,\n",
       "             n_estimators=700, n_jobs=None, num_parallel_tree=None,\n",
       "             predictor=None, random_state=None, ...)"
      ]
     },
     "execution_count": 67,
     "metadata": {},
     "output_type": "execute_result"
    }
   ],
   "source": [
    "regressor.fit(XTrain, yTrain)"
   ]
  },
  {
   "cell_type": "code",
   "execution_count": 69,
   "metadata": {},
   "outputs": [],
   "source": [
    "y_pred = regressor.predict(XTest)"
   ]
  },
  {
   "cell_type": "code",
   "execution_count": 70,
   "metadata": {},
   "outputs": [
    {
     "data": {
      "text/plain": [
       "3514.8601574579166"
      ]
     },
     "execution_count": 70,
     "metadata": {},
     "output_type": "execute_result"
    }
   ],
   "source": [
    "mse = mean_squared_error(yTest, y_pred, squared=False)\n",
    "mse"
   ]
  },
  {
   "cell_type": "code",
   "execution_count": 90,
   "metadata": {},
   "outputs": [],
   "source": [
    "## *No se ha subido a Kagle* puede tener mejor respuesta"
   ]
  },
  {
   "cell_type": "code",
   "execution_count": null,
   "metadata": {
    "scrolled": true
   },
   "outputs": [],
   "source": [
    "# Transformación de dtest para añadir variable Make_Freightliner\n",
    "dTest['Make_Freightliner'] = np.uint8(0)\n",
    "df_test = pd.DataFrame()\n",
    "for col in col_train:\n",
    "    df_test[col] = dTest[col]\n",
    "df_test = df_test.reset_index()\n",
    "df_test = df_test.drop(columns ={'ID'})\n",
    "y_pred2 = regressor.predict(df_test)\n",
    "predictions = regressor.predict(df_test)\n",
    "output = pd.DataFrame({\"Id\":dTest.index, \"Price\":predictions})\n",
    "output.to_csv('submission_7.csv', index=False)"
   ]
  },
  {
   "cell_type": "markdown",
   "metadata": {},
   "source": [
    "## Prueba Adicional "
   ]
  },
  {
   "cell_type": "code",
   "execution_count": 74,
   "metadata": {},
   "outputs": [],
   "source": [
    "regressor2=xgb.XGBRegressor(learning_rate = 0.25,\n",
    "                           n_estimators  = 700,\n",
    "                           max_depth     = 9,\n",
    "                           eval_metric='rmsle')"
   ]
  },
  {
   "cell_type": "code",
   "execution_count": 75,
   "metadata": {},
   "outputs": [
    {
     "data": {
      "text/plain": [
       "XGBRegressor(base_score=None, booster=None, callbacks=None,\n",
       "             colsample_bylevel=None, colsample_bynode=None,\n",
       "             colsample_bytree=None, early_stopping_rounds=None,\n",
       "             enable_categorical=False, eval_metric='rmsle', feature_types=None,\n",
       "             gamma=None, gpu_id=None, grow_policy=None, importance_type=None,\n",
       "             interaction_constraints=None, learning_rate=0.25, max_bin=None,\n",
       "             max_cat_threshold=None, max_cat_to_onehot=None,\n",
       "             max_delta_step=None, max_depth=9, max_leaves=None,\n",
       "             min_child_weight=None, missing=nan, monotone_constraints=None,\n",
       "             n_estimators=700, n_jobs=None, num_parallel_tree=None,\n",
       "             predictor=None, random_state=None, ...)"
      ]
     },
     "execution_count": 75,
     "metadata": {},
     "output_type": "execute_result"
    }
   ],
   "source": [
    "regressor2.fit(XTrain, yTrain)"
   ]
  },
  {
   "cell_type": "code",
   "execution_count": 76,
   "metadata": {},
   "outputs": [],
   "source": [
    "y_pred = regressor2.predict(XTest)"
   ]
  },
  {
   "cell_type": "code",
   "execution_count": 77,
   "metadata": {},
   "outputs": [
    {
     "data": {
      "text/plain": [
       "3521.115208938433"
      ]
     },
     "execution_count": 77,
     "metadata": {},
     "output_type": "execute_result"
    }
   ],
   "source": [
    "mse = mean_squared_error(yTest, y_pred, squared=False)\n",
    "mse"
   ]
  },
  {
   "cell_type": "markdown",
   "metadata": {},
   "source": [
    "## Eliminar Estado"
   ]
  },
  {
   "cell_type": "markdown",
   "metadata": {},
   "source": [
    "Se realiza la prueba eliminando la variable 'State' pero el mejor mse conseguio con la mejora de hiperparametros es de 4200"
   ]
  },
  {
   "cell_type": "code",
   "execution_count": 16,
   "metadata": {
    "execution": {
     "iopub.execute_input": "2023-04-26T03:25:42.855609Z",
     "iopub.status.busy": "2023-04-26T03:25:42.855169Z",
     "iopub.status.idle": "2023-04-26T03:25:45.442592Z",
     "shell.execute_reply": "2023-04-26T03:25:45.441397Z",
     "shell.execute_reply.started": "2023-04-26T03:25:42.855567Z"
    }
   },
   "outputs": [],
   "source": [
    "dTrain =  dataTraining.copy()\n",
    "dTest = dataTesting.copy()\n",
    "\n",
    "dTrain = dTrain[['Price','Year','Mileage','Make','Model']]\n",
    "dTest = dTest[['Year','Mileage','Make','Model']]\n",
    "\n",
    "dTrain = pd.get_dummies(dTrain)\n",
    "dTest = pd.get_dummies(dTest)\n",
    "\n",
    "XTotal = dTrain.drop(columns ={\"Price\"})\n",
    "yTotal = dTrain[\"Price\"]\n",
    "\n",
    "XTrain, XTest, yTrain, yTest = train_test_split(XTotal, yTotal, test_size=0.33, random_state=0)"
   ]
  },
  {
   "cell_type": "code",
   "execution_count": null,
   "metadata": {},
   "outputs": [],
   "source": []
  }
 ],
 "metadata": {
  "kernelspec": {
   "display_name": "Python 3 (ipykernel)",
   "language": "python",
   "name": "python3"
  },
  "language_info": {
   "codemirror_mode": {
    "name": "ipython",
    "version": 3
   },
   "file_extension": ".py",
   "mimetype": "text/x-python",
   "name": "python",
   "nbconvert_exporter": "python",
   "pygments_lexer": "ipython3",
   "version": "3.9.13"
  }
 },
 "nbformat": 4,
 "nbformat_minor": 4
}
