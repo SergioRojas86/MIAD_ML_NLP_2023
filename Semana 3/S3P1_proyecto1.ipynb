{
 "cells": [
  {
   "cell_type": "markdown",
   "metadata": {},
   "source": [
    "![image info](https://raw.githubusercontent.com/davidzarruk/MIAD_ML_NLP_2023/main/images/banner_1.png)"
   ]
  },
  {
   "cell_type": "markdown",
   "metadata": {},
   "source": [
    "# Proyecto 1 - Predicción de precios de vehículos usados\n",
    "\n",
    "En este proyecto podrán poner en práctica sus conocimientos sobre modelos predictivos basados en árboles y ensambles, y sobre la disponibilización de modelos. Para su desasrrollo tengan en cuenta las instrucciones dadas en la \"Guía del proyecto 1: Predicción de precios de vehículos usados\".\n",
    "\n",
    "**Entrega**: La entrega del proyecto deberán realizarla durante la semana 4. Sin embargo, es importante que avancen en la semana 3 en el modelado del problema y en parte del informe, tal y como se les indicó en la guía.\n",
    "\n",
    "Para hacer la entrega, deberán adjuntar el informe autocontenido en PDF a la actividad de entrega del proyecto que encontrarán en la semana 4, y subir el archivo de predicciones a la [competencia de Kaggle](https://www.kaggle.com/t/b8be43cf89c540bfaf3831f2c8506614)."
   ]
  },
  {
   "cell_type": "markdown",
   "metadata": {},
   "source": [
    "## Datos para la predicción de precios de vehículos usados\n",
    "\n",
    "En este proyecto se usará el conjunto de datos de Car Listings de Kaggle, donde cada observación representa el precio de un automóvil teniendo en cuenta distintas variables como: año, marca, modelo, entre otras. El objetivo es predecir el precio del automóvil. Para más detalles puede visitar el siguiente enlace: [datos](https://www.kaggle.com/jpayne/852k-used-car-listings)."
   ]
  },
  {
   "cell_type": "markdown",
   "metadata": {},
   "source": [
    "## Ejemplo predicción conjunto de test para envío a Kaggle\n",
    "\n",
    "En esta sección encontrarán el formato en el que deben guardar los resultados de la predicción para que puedan subirlos a la competencia en Kaggle."
   ]
  },
  {
   "cell_type": "code",
   "execution_count": 1,
   "metadata": {},
   "outputs": [],
   "source": [
    "import warnings\n",
    "warnings.filterwarnings('ignore')"
   ]
  },
  {
   "cell_type": "code",
   "execution_count": 2,
   "metadata": {},
   "outputs": [],
   "source": [
    "# Importación librerías\n",
    "import pandas as pd\n",
    "import numpy as np\n",
    "import matplotlib.pyplot as plt\n",
    "import seaborn as sns"
   ]
  },
  {
   "cell_type": "code",
   "execution_count": 3,
   "metadata": {},
   "outputs": [],
   "source": [
    "# Carga de datos de archivo .csv\n",
    "dataTraining = pd.read_csv('https://raw.githubusercontent.com/davidzarruk/MIAD_ML_NLP_2023/main/datasets/dataTrain_carListings.zip')\n",
    "dataTesting = pd.read_csv('https://raw.githubusercontent.com/davidzarruk/MIAD_ML_NLP_2023/main/datasets/dataTest_carListings.zip', index_col=0)"
   ]
  },
  {
   "cell_type": "code",
   "execution_count": 4,
   "metadata": {},
   "outputs": [
    {
     "data": {
      "text/plain": [
       "array([[<AxesSubplot:title={'center':'Price'}>,\n",
       "        <AxesSubplot:title={'center':'Year'}>],\n",
       "       [<AxesSubplot:title={'center':'Mileage'}>, <AxesSubplot:>]],\n",
       "      dtype=object)"
      ]
     },
     "execution_count": 4,
     "metadata": {},
     "output_type": "execute_result"
    },
    {
     "data": {
      "image/png": "[encoded data removed]",
      "text/plain": [
       "<Figure size 432x288 with 4 Axes>"
      ]
     },
     "metadata": {
      "needs_background": "light"
     },
     "output_type": "display_data"
    }
   ],
   "source": [
    "dataTraining.hist()"
   ]
  },
  {
   "cell_type": "code",
   "execution_count": 5,
   "metadata": {},
   "outputs": [
    {
     "data": {
      "text/plain": [
       "count     400000\n",
       "unique        51\n",
       "top           TX\n",
       "freq       45918\n",
       "Name: State, dtype: object"
      ]
     },
     "execution_count": 5,
     "metadata": {},
     "output_type": "execute_result"
    }
   ],
   "source": [
    "dataTraining['State'].describe()"
   ]
  },
  {
   "cell_type": "code",
   "execution_count": 6,
   "metadata": {},
   "outputs": [
    {
     "data": {
      "text/plain": [
       "False"
      ]
     },
     "execution_count": 6,
     "metadata": {},
     "output_type": "execute_result"
    }
   ],
   "source": [
    "nans = dataTraining.isnull().values.any()\n",
    "nans"
   ]
  },
  {
   "cell_type": "code",
   "execution_count": 7,
   "metadata": {},
   "outputs": [
    {
     "data": {
      "text/plain": [
       "array([' FL', ' OH', ' TX', ' CO', ' ME', ' WA', ' CT', ' CA', ' LA',\n",
       "       ' NY', ' PA', ' SC', ' ND', ' NC', ' GA', ' AZ', ' TN', ' KY',\n",
       "       ' NJ', ' UT', ' IA', ' AL', ' NE', ' IL', ' OK', ' MD', ' NV',\n",
       "       ' WV', ' MI', ' VA', ' WI', ' MA', ' OR', ' IN', ' NM', ' MO',\n",
       "       ' HI', ' KS', ' AR', ' MN', ' MS', ' MT', ' AK', ' VT', ' SD',\n",
       "       ' NH', ' DE', ' ID', ' RI', ' WY', ' DC'], dtype=object)"
      ]
     },
     "execution_count": 7,
     "metadata": {},
     "output_type": "execute_result"
    }
   ],
   "source": [
    "dataTraining['State'].unique()"
   ]
  },
  {
   "cell_type": "code",
   "execution_count": 8,
   "metadata": {},
   "outputs": [
    {
     "data": {
      "text/plain": [
       "array(['Jeep', 'Chevrolet', 'BMW', 'Cadillac', 'Mercedes-Benz', 'Toyota',\n",
       "       'Buick', 'Dodge', 'Volkswagen', 'GMC', 'Ford', 'Hyundai',\n",
       "       'Mitsubishi', 'Honda', 'Nissan', 'Mazda', 'Volvo', 'Kia', 'Subaru',\n",
       "       'Chrysler', 'INFINITI', 'Land', 'Porsche', 'Lexus', 'MINI',\n",
       "       'Lincoln', 'Audi', 'Ram', 'Mercury', 'Tesla', 'FIAT', 'Acura',\n",
       "       'Scion', 'Pontiac', 'Jaguar', 'Bentley', 'Suzuki', 'Freightliner'],\n",
       "      dtype=object)"
      ]
     },
     "execution_count": 8,
     "metadata": {},
     "output_type": "execute_result"
    }
   ],
   "source": [
    "dataTraining['Make'].unique()"
   ]
  },
  {
   "cell_type": "code",
   "execution_count": 9,
   "metadata": {},
   "outputs": [
    {
     "data": {
      "text/plain": [
       "array(['Wrangler', 'Tahoe4WD', 'X5AWD', 'SRXLuxury', '3', 'C-ClassC300',\n",
       "       'CamryL', 'TacomaPreRunner', 'LaCrosse4dr', 'ChargerSXT',\n",
       "       'CamryLE', 'Jetta', 'AcadiaFWD', 'EscapeSE', 'SonataLimited',\n",
       "       'Santa', 'Outlander', 'CruzeSedan', 'Civic', 'CorollaL', '350Z2dr',\n",
       "       'EdgeSEL', 'F-1502WD', 'FocusSE', 'PatriotSport', 'Accord',\n",
       "       'MustangGT', 'FusionHybrid', 'ColoradoCrew', 'Wrangler4WD',\n",
       "       'CR-VEX-L', 'CTS', 'CherokeeLimited', 'Yukon', 'Elantra', 'New',\n",
       "       'CorollaLE', 'Canyon4WD', 'Golf', 'Sonata4dr', 'Elantra4dr',\n",
       "       'PatriotLatitude', 'Mazda35dr', 'Tacoma2WD', 'Corolla4dr',\n",
       "       'Silverado', 'TerrainFWD', 'EscapeFWD', 'Grand', 'RAV4FWD',\n",
       "       'Liberty4WD', 'FocusTitanium', 'DurangoAWD', 'S60T5', 'CivicLX',\n",
       "       'MuranoAWD', 'ForteEX', 'TraverseAWD', 'CamaroConvertible',\n",
       "       'Sportage2WD', 'Pathfinder4WD', 'Highlander4dr', 'WRXSTI', 'Ram',\n",
       "       'F-150XLT', 'SiennaXLE', 'LaCrosseFWD', 'RogueFWD', 'CamaroCoupe',\n",
       "       'JourneySXT', 'AccordEX-L', 'Escape4WD', 'OptimaEX', 'FusionSE',\n",
       "       '5', 'F-150SuperCrew', '200Limited', 'Malibu', 'CompassSport',\n",
       "       'G37', 'CanyonCrew', 'Malibu1LT', 'MustangPremium', 'MustangBase',\n",
       "       'Sierra', 'FlexLimited', 'Tahoe2WD', 'Transit', 'Outback2.5i',\n",
       "       'TucsonLimited', 'Rover', 'CayenneAWD', 'MalibuLT', 'TucsonFWD',\n",
       "       'F-150FX2', 'Camaro2dr', 'Colorado4WD', 'SonataSE', 'ESES',\n",
       "       'EnclavePremium', 'CR-VEX', 'F-150STX', 'Impreza', 'EquinoxFWD',\n",
       "       'Cooper', 'Super', 'Passat4dr', '911', 'CivicEX', 'CamrySE',\n",
       "       'Highlander4WD', 'Corvette2dr', '200S', 'PilotLX', 'SorentoEX',\n",
       "       'RioLX', 'ExplorerXLT', 'CorvetteCoupe', 'EnclaveLeather',\n",
       "       'Avalanche4WD', 'TacomaBase', 'Versa5dr', 'MKXFWD',\n",
       "       'SL-ClassSL500', 'VeracruzFWD', 'CorollaS', 'PriusTwo', 'CR-V2WD',\n",
       "       'Lucerne4dr', '4Runner4dr', 'PilotTouring', 'CR-VLX',\n",
       "       'CompassLatitude', 'Altima4dr', 'OptimaLX', 'Focus5dr',\n",
       "       'Charger4dr', 'AcadiaAWD', 'JourneyFWD', '7', 'RX', 'MalibuLS',\n",
       "       'LSLS', 'SportageLX', 'Yukon4WD', 'SorentoLX', 'TiguanSEL',\n",
       "       'Camry4dr', 'F-1504WD', 'PriusBase', 'AccordLX', 'Q7quattro',\n",
       "       'ExplorerLimited', '4RunnerSR5', 'OdysseyEX-L', 'C-ClassC',\n",
       "       'CX-9FWD', 'JourneyAWD', 'Sorento2WD', 'F-250Lariat', 'Prius',\n",
       "       'TahoeLT', '25004WD', 'Escalade4dr', 'GTI4dr', '4RunnerRWD',\n",
       "       'FX35AWD', 'XC90T6', 'Taurus4dr', 'AvalonXLE', '300300S', 'G35',\n",
       "       'F-150Platinum', 'TerrainAWD', 'GXGX', 'MKXAWD', 'Town',\n",
       "       'CamryXLE', 'VeracruzAWD', 'FusionS', 'Challenger2dr', 'Tundra',\n",
       "       'Navigator4WD', 'Legacy3.6R', 'GS', 'E-ClassE350', 'Suburban2WD',\n",
       "       'A44dr', 'RegalTurbo', 'Outback3.6R', '4Runner4WD', 'Legacy2.5i',\n",
       "       '1', 'Yukon2WD', 'Explorer', 'PilotEX-L', '200LX', 'M-ClassML350',\n",
       "       'RAV4XLE', 'WranglerSport', 'Model', 'FJ', 'Titan', 'Titan4WD',\n",
       "       'FlexSEL', 'OdysseyTouring', 'SorentoSX', 'RAV4Base', 'OdysseyEX',\n",
       "       'Explorer4WD', 'Mustang2dr', 'EdgeLimited', 'FusionSEL',\n",
       "       'Yukon4dr', 'Touareg4dr', 'Matrix5dr', 'CTCT', 'CherokeeSport',\n",
       "       '6', 'Maxima4dr', 'Frontier4WD', 'PriusThree', 'F-350XL', '500Pop',\n",
       "       'RDXAWD', 'Tacoma4WD', 'Optima4dr', 'Q5quattro', 'X3xDrive28i',\n",
       "       'RDXFWD', 'X5xDrive35i', 'Malibu4dr', 'ExpeditionXLT', 'Ranger2WD',\n",
       "       'Patriot4WD', 'Quest4dr', 'TaurusSE', 'PathfinderS', 'Murano2WD',\n",
       "       'LS', 'SiennaLimited', 'ES', 'SiennaLE', 'F-150Lariat', 'Titan2WD',\n",
       "       'Durango2WD', 'Tahoe4dr', 'Focus4dr', 'YarisBase', 'TaurusLimited',\n",
       "       'RAV44WD', 'C-Class4dr', 'Soul+', 'TundraBase', 'Expedition',\n",
       "       'ImpalaLT', 'SedonaLX', 'Sequoia4WD', 'ElantraLimited', '15002WD',\n",
       "       'Suburban4WD', 'FiestaSE', '15004WD', 'TundraSR5', 'Camry',\n",
       "       'RAV4Limited', 'RangerSuperCab', 'MDXAWD', 'RAV4LE',\n",
       "       'ChallengerR/T', 'FlexSE', 'ForteLX', 'TraverseFWD',\n",
       "       'LibertySport', 'ISIS', 'Impala4dr', 'Tundra4WD', 'F-250XLT',\n",
       "       'RXRX', 'Armada2WD', 'Frontier', 'WranglerRubicon', 'EquinoxAWD',\n",
       "       'PilotEX', 'TiguanS', 'EscaladeAWD', 'DTS4dr', 'Pilot2WD',\n",
       "       'Express', 'PacificaLimited', 'CanyonExtended', 'MX5', 'EscapeS',\n",
       "       'IS', 'C-ClassC350', 'Compass4WD', 'SportageEX', 'Legacy',\n",
       "       'E-ClassE', 'Dakota4WD', '300300C', 'Forte', 'SportageAWD',\n",
       "       'TaurusSEL', 'Xterra4WD', 'GSGS', 'Explorer4dr', 'F-150XL',\n",
       "       'SportageSX', 'xB5dr', 'TundraLimited', 'CruzeLT', 'Wrangler2dr',\n",
       "       'HighlanderFWD', 'Sprinter', 'Highlander', 'Prius5dr', 'CX-9Grand',\n",
       "       'CTS4dr', 'Econoline', 'AccordEX', 'RAV4Sport', '35004WD',\n",
       "       'ChargerSE', 'OdysseyLX', 'TucsonAWD', 'CX-7FWD', 'AccordLX-S',\n",
       "       'Navigator4dr', 'EscapeXLT', 'TiguanSE', 'Cayman2dr', 'TaurusSHO',\n",
       "       'F-150FX4', 'Ranger4WD', 'OptimaSX', 'SequoiaSR5', 'G64dr',\n",
       "       'HighlanderLimited', 'ExplorerFWD', 'F-350King', 'PriusFive',\n",
       "       'Yaris4dr', 'PatriotLimited', 'Lancer4dr', 'HighlanderSE',\n",
       "       'CompassLimited', 'S2000Manual', 'F-250King', 'Forester2.5X',\n",
       "       'Fusion4dr', 'Frontier2WD', 'FocusST', 'Pathfinder2WD',\n",
       "       'Sentra4dr', 'XF4dr', 'F-250XL', 'PacificaTouring',\n",
       "       'MustangDeluxe', 'Caliber4dr', 'GTI2dr', 'Mazda34dr', 'FocusS',\n",
       "       'Sienna5dr', 'CR-V4WD', 'CX-9Touring', 'Mazda64dr', 'Forester4dr',\n",
       "       '1500Tradesman', 'MDX4WD', 'Escalade', 'TL4dr', 'CX-9AWD',\n",
       "       'Canyon2WD', 'A64dr', 'A8', 'Armada4WD', 'Impreza2.0i', 'GX',\n",
       "       'QX564WD', 'CC4dr', 'MKZ4dr', 'Yaris', 'FitSport', 'Regal4dr',\n",
       "       'Tundra2WD', 'X3AWD', 'SonicSedan', 'Cobalt4dr', 'RidgelineRTL',\n",
       "       'CivicSi', 'AvalonLimited', 'XC90FWD', 'Outlander2WD', 'RAV44dr',\n",
       "       'ColoradoExtended', 'ExpeditionLimited', '3004dr', '200Touring',\n",
       "       'SC', 'X1xDrive28i', 'SonicHatch', 'GLI4dr', 'PilotSE', 'Savana',\n",
       "       'RegalPremium', 'CR-VSE', 'RegalGS', 'XC90AWD', 'EdgeSport',\n",
       "       'PriusFour', 'SiennaSE', '1500Laramie', '300Base', 'Pilot4WD',\n",
       "       'A34dr', 'HighlanderBase', 'Expedition4WD', 'STS4dr', 'SoulBase',\n",
       "       'Xterra2WD', 'CT', 'tC2dr', 'Tiguan2WD', 'CR-ZEX', 'MustangShelby',\n",
       "       'C702dr', 'WranglerX', 'WranglerSahara', 'DurangoSXT',\n",
       "       'Sequoia4dr', 'Outlander4WD', 'Expedition2WD', 'Navigator',\n",
       "       '9112dr', 'Vibe4dr', 'F-150King', '300Limited', 'XC60T6',\n",
       "       'CivicEX-L', 'Avalanche2WD', 'F-350XLT', 'ExplorerBase', 'MuranoS',\n",
       "       'LXLX', 'EdgeSE', 'ImpalaLS', 'Land', 'E-ClassE320', 'Milan4dr',\n",
       "       'Boxster2dr', 'RAV4', 'Eos2dr', 'SedonaEX', 'xD5dr', 'Colorado2WD',\n",
       "       'Monte', 'Escape4dr', 'LX', 'FiestaS', 'F-350Lariat', 'Galant4dr',\n",
       "       'TT2dr', 'Xterra4dr', 'SequoiaLimited', '4RunnerLimited',\n",
       "       'Genesis', 'Suburban4dr', 'EnclaveConvenience', 'LaCrosseAWD',\n",
       "       'Versa4dr', 'Cobalt2dr', 'XC60FWD', 'F-150Limited', 'Dakota2WD',\n",
       "       'S44dr', '4Runner2WD', 'Sedona4dr', 'RidgelineSport',\n",
       "       'TSXAutomatic', 'ImprezaSport', 'SLK-ClassSLK350', 'Accent4dr',\n",
       "       'CorvetteConvertible', 'Avalon4dr', 'Passat', '25002WD',\n",
       "       'ExplorerEddie', 'LibertyLimited', 'CTS-V', '4RunnerTrail',\n",
       "       'Eclipse3dr', 'Azera4dr', 'TahoeLS', 'Continental', 'XJ4dr',\n",
       "       'ForteSX', 'SequoiaPlatinum', 'FocusSEL', 'Durango4dr',\n",
       "       'CamryBase', 'XC704dr', 'S804dr', 'Element4WD', 'YarisLE',\n",
       "       'WRXBase', 'TLAutomatic', 'AvalonTouring', 'XK2dr', 'PT',\n",
       "       'PathfinderSE', '300Touring', 'Navigator2WD', 'XC60AWD',\n",
       "       'EscapeLimited', 'WRXLimited', 'AccordSE', 'QX562WD',\n",
       "       'Escalade2WD', 'EscapeLImited', 'PriusOne', 'Element2WD',\n",
       "       'Excursion137\"', 'WRXPremium', 'RX-84dr'], dtype=object)"
      ]
     },
     "execution_count": 9,
     "metadata": {},
     "output_type": "execute_result"
    }
   ],
   "source": [
    "dataTraining['Model'].unique()"
   ]
  },
  {
   "cell_type": "code",
   "execution_count": 11,
   "metadata": {},
   "outputs": [
    {
     "data": {
      "text/html": [
       "<div>\n",
       "<style scoped>\n",
       "    .dataframe tbody tr th:only-of-type {\n",
       "        vertical-align: middle;\n",
       "    }\n",
       "\n",
       "    .dataframe tbody tr th {\n",
       "        vertical-align: top;\n",
       "    }\n",
       "\n",
       "    .dataframe thead th {\n",
       "        text-align: right;\n",
       "    }\n",
       "</style>\n",
       "<table border=\"1\" class=\"dataframe\">\n",
       "  <thead>\n",
       "    <tr style=\"text-align: right;\">\n",
       "      <th></th>\n",
       "      <th>Price</th>\n",
       "      <th>Year</th>\n",
       "      <th>Mileage</th>\n",
       "    </tr>\n",
       "  </thead>\n",
       "  <tbody>\n",
       "    <tr>\n",
       "      <th>count</th>\n",
       "      <td>400000.000000</td>\n",
       "      <td>400000.000000</td>\n",
       "      <td>4.000000e+05</td>\n",
       "    </tr>\n",
       "    <tr>\n",
       "      <th>mean</th>\n",
       "      <td>21146.919312</td>\n",
       "      <td>2013.198125</td>\n",
       "      <td>5.507296e+04</td>\n",
       "    </tr>\n",
       "    <tr>\n",
       "      <th>std</th>\n",
       "      <td>10753.664940</td>\n",
       "      <td>3.292326</td>\n",
       "      <td>4.088102e+04</td>\n",
       "    </tr>\n",
       "    <tr>\n",
       "      <th>min</th>\n",
       "      <td>5001.000000</td>\n",
       "      <td>1997.000000</td>\n",
       "      <td>5.000000e+00</td>\n",
       "    </tr>\n",
       "    <tr>\n",
       "      <th>25%</th>\n",
       "      <td>13499.000000</td>\n",
       "      <td>2012.000000</td>\n",
       "      <td>2.584100e+04</td>\n",
       "    </tr>\n",
       "    <tr>\n",
       "      <th>50%</th>\n",
       "      <td>18450.000000</td>\n",
       "      <td>2014.000000</td>\n",
       "      <td>4.295500e+04</td>\n",
       "    </tr>\n",
       "    <tr>\n",
       "      <th>75%</th>\n",
       "      <td>26999.000000</td>\n",
       "      <td>2016.000000</td>\n",
       "      <td>7.743300e+04</td>\n",
       "    </tr>\n",
       "    <tr>\n",
       "      <th>max</th>\n",
       "      <td>79999.000000</td>\n",
       "      <td>2018.000000</td>\n",
       "      <td>2.457832e+06</td>\n",
       "    </tr>\n",
       "  </tbody>\n",
       "</table>\n",
       "</div>"
      ],
      "text/plain": [
       "               Price           Year       Mileage\n",
       "count  400000.000000  400000.000000  4.000000e+05\n",
       "mean    21146.919312    2013.198125  5.507296e+04\n",
       "std     10753.664940       3.292326  4.088102e+04\n",
       "min      5001.000000    1997.000000  5.000000e+00\n",
       "25%     13499.000000    2012.000000  2.584100e+04\n",
       "50%     18450.000000    2014.000000  4.295500e+04\n",
       "75%     26999.000000    2016.000000  7.743300e+04\n",
       "max     79999.000000    2018.000000  2.457832e+06"
      ]
     },
     "execution_count": 11,
     "metadata": {},
     "output_type": "execute_result"
    }
   ],
   "source": [
    "dataTraining.describe()"
   ]
  },
  {
   "cell_type": "code",
   "execution_count": 12,
   "metadata": {},
   "outputs": [
    {
     "data": {
      "image/png": "[encoded data removed]",
      "text/plain": [
       "<Figure size 1080x595.44 with 2 Axes>"
      ]
     },
     "metadata": {},
     "output_type": "display_data"
    }
   ],
   "source": [
    "matrix_corr = pd.DataFrame(dataTraining).corr().round(1)\n",
    "sns.set(rc={'figure.figsize':(15,8.27)})\n",
    "sns.heatmap(matrix_corr, annot=True)\n",
    "plt.show()"
   ]
  },
  {
   "cell_type": "code",
   "execution_count": 13,
   "metadata": {},
   "outputs": [
    {
     "data": {
      "image/png": "[encoded data removed]",
      "text/plain": [
       "<Figure size 1080x595.44 with 1 Axes>"
      ]
     },
     "metadata": {},
     "output_type": "display_data"
    }
   ],
   "source": [
    "plt.hist(dataTraining['Price'], bins=2)\n",
    "mensaje = ['Histograma de la variable de respuesta']\n",
    "plt.title(\" \".join(mensaje))\n",
    "plt.show()"
   ]
  },
  {
   "cell_type": "code",
   "execution_count": 14,
   "metadata": {},
   "outputs": [],
   "source": [
    "dataTraining = dataTraining.drop(['Year'], axis=1)\n",
    "dataTraining = dataTraining.join(pd.get_dummies(dataTraining['Make'], prefix='Ma')).drop(['Make'], axis=1)\n",
    "dataTraining = dataTraining.join(pd.get_dummies(dataTraining['Model'], prefix='Mo')).drop(['Model'], axis=1)\n",
    "dataTraining = dataTraining.join(pd.get_dummies(dataTraining['State'], prefix='S')).drop(['State'], axis=1)"
   ]
  },
  {
   "cell_type": "code",
   "execution_count": 15,
   "metadata": {},
   "outputs": [
    {
     "data": {
      "text/html": [
       "<div>\n",
       "<style scoped>\n",
       "    .dataframe tbody tr th:only-of-type {\n",
       "        vertical-align: middle;\n",
       "    }\n",
       "\n",
       "    .dataframe tbody tr th {\n",
       "        vertical-align: top;\n",
       "    }\n",
       "\n",
       "    .dataframe thead th {\n",
       "        text-align: right;\n",
       "    }\n",
       "</style>\n",
       "<table border=\"1\" class=\"dataframe\">\n",
       "  <thead>\n",
       "    <tr style=\"text-align: right;\">\n",
       "      <th></th>\n",
       "      <th>Price</th>\n",
       "      <th>Mileage</th>\n",
       "      <th>Ma_Acura</th>\n",
       "      <th>Ma_Audi</th>\n",
       "      <th>Ma_BMW</th>\n",
       "      <th>Ma_Bentley</th>\n",
       "      <th>Ma_Buick</th>\n",
       "      <th>Ma_Cadillac</th>\n",
       "      <th>Ma_Chevrolet</th>\n",
       "      <th>Ma_Chrysler</th>\n",
       "      <th>...</th>\n",
       "      <th>S_ SD</th>\n",
       "      <th>S_ TN</th>\n",
       "      <th>S_ TX</th>\n",
       "      <th>S_ UT</th>\n",
       "      <th>S_ VA</th>\n",
       "      <th>S_ VT</th>\n",
       "      <th>S_ WA</th>\n",
       "      <th>S_ WI</th>\n",
       "      <th>S_ WV</th>\n",
       "      <th>S_ WY</th>\n",
       "    </tr>\n",
       "  </thead>\n",
       "  <tbody>\n",
       "    <tr>\n",
       "      <th>0</th>\n",
       "      <td>34995</td>\n",
       "      <td>9913</td>\n",
       "      <td>0</td>\n",
       "      <td>0</td>\n",
       "      <td>0</td>\n",
       "      <td>0</td>\n",
       "      <td>0</td>\n",
       "      <td>0</td>\n",
       "      <td>0</td>\n",
       "      <td>0</td>\n",
       "      <td>...</td>\n",
       "      <td>0</td>\n",
       "      <td>0</td>\n",
       "      <td>0</td>\n",
       "      <td>0</td>\n",
       "      <td>0</td>\n",
       "      <td>0</td>\n",
       "      <td>0</td>\n",
       "      <td>0</td>\n",
       "      <td>0</td>\n",
       "      <td>0</td>\n",
       "    </tr>\n",
       "    <tr>\n",
       "      <th>1</th>\n",
       "      <td>37895</td>\n",
       "      <td>20578</td>\n",
       "      <td>0</td>\n",
       "      <td>0</td>\n",
       "      <td>0</td>\n",
       "      <td>0</td>\n",
       "      <td>0</td>\n",
       "      <td>0</td>\n",
       "      <td>1</td>\n",
       "      <td>0</td>\n",
       "      <td>...</td>\n",
       "      <td>0</td>\n",
       "      <td>0</td>\n",
       "      <td>0</td>\n",
       "      <td>0</td>\n",
       "      <td>0</td>\n",
       "      <td>0</td>\n",
       "      <td>0</td>\n",
       "      <td>0</td>\n",
       "      <td>0</td>\n",
       "      <td>0</td>\n",
       "    </tr>\n",
       "    <tr>\n",
       "      <th>2</th>\n",
       "      <td>18430</td>\n",
       "      <td>83716</td>\n",
       "      <td>0</td>\n",
       "      <td>0</td>\n",
       "      <td>1</td>\n",
       "      <td>0</td>\n",
       "      <td>0</td>\n",
       "      <td>0</td>\n",
       "      <td>0</td>\n",
       "      <td>0</td>\n",
       "      <td>...</td>\n",
       "      <td>0</td>\n",
       "      <td>0</td>\n",
       "      <td>1</td>\n",
       "      <td>0</td>\n",
       "      <td>0</td>\n",
       "      <td>0</td>\n",
       "      <td>0</td>\n",
       "      <td>0</td>\n",
       "      <td>0</td>\n",
       "      <td>0</td>\n",
       "    </tr>\n",
       "    <tr>\n",
       "      <th>3</th>\n",
       "      <td>24681</td>\n",
       "      <td>28729</td>\n",
       "      <td>0</td>\n",
       "      <td>0</td>\n",
       "      <td>0</td>\n",
       "      <td>0</td>\n",
       "      <td>0</td>\n",
       "      <td>1</td>\n",
       "      <td>0</td>\n",
       "      <td>0</td>\n",
       "      <td>...</td>\n",
       "      <td>0</td>\n",
       "      <td>0</td>\n",
       "      <td>0</td>\n",
       "      <td>0</td>\n",
       "      <td>0</td>\n",
       "      <td>0</td>\n",
       "      <td>0</td>\n",
       "      <td>0</td>\n",
       "      <td>0</td>\n",
       "      <td>0</td>\n",
       "    </tr>\n",
       "    <tr>\n",
       "      <th>4</th>\n",
       "      <td>26998</td>\n",
       "      <td>64032</td>\n",
       "      <td>0</td>\n",
       "      <td>0</td>\n",
       "      <td>0</td>\n",
       "      <td>0</td>\n",
       "      <td>0</td>\n",
       "      <td>0</td>\n",
       "      <td>0</td>\n",
       "      <td>0</td>\n",
       "      <td>...</td>\n",
       "      <td>0</td>\n",
       "      <td>0</td>\n",
       "      <td>0</td>\n",
       "      <td>0</td>\n",
       "      <td>0</td>\n",
       "      <td>0</td>\n",
       "      <td>0</td>\n",
       "      <td>0</td>\n",
       "      <td>0</td>\n",
       "      <td>0</td>\n",
       "    </tr>\n",
       "  </tbody>\n",
       "</table>\n",
       "<p>5 rows × 616 columns</p>\n",
       "</div>"
      ],
      "text/plain": [
       "   Price  Mileage  Ma_Acura  Ma_Audi  Ma_BMW  Ma_Bentley  Ma_Buick  \\\n",
       "0  34995     9913         0        0       0           0         0   \n",
       "1  37895    20578         0        0       0           0         0   \n",
       "2  18430    83716         0        0       1           0         0   \n",
       "3  24681    28729         0        0       0           0         0   \n",
       "4  26998    64032         0        0       0           0         0   \n",
       "\n",
       "   Ma_Cadillac  Ma_Chevrolet  Ma_Chrysler  ...  S_ SD  S_ TN  S_ TX  S_ UT  \\\n",
       "0            0             0            0  ...      0      0      0      0   \n",
       "1            0             1            0  ...      0      0      0      0   \n",
       "2            0             0            0  ...      0      0      1      0   \n",
       "3            1             0            0  ...      0      0      0      0   \n",
       "4            0             0            0  ...      0      0      0      0   \n",
       "\n",
       "   S_ VA  S_ VT  S_ WA  S_ WI  S_ WV  S_ WY  \n",
       "0      0      0      0      0      0      0  \n",
       "1      0      0      0      0      0      0  \n",
       "2      0      0      0      0      0      0  \n",
       "3      0      0      0      0      0      0  \n",
       "4      0      0      0      0      0      0  \n",
       "\n",
       "[5 rows x 616 columns]"
      ]
     },
     "execution_count": 15,
     "metadata": {},
     "output_type": "execute_result"
    }
   ],
   "source": [
    "# Visualización datos de entrenamiento\n",
    "dataTraining.head()"
   ]
  },
  {
   "cell_type": "code",
   "execution_count": null,
   "metadata": {},
   "outputs": [],
   "source": [
    "# Visualización datos de test\n",
    "dataTesting.head()"
   ]
  },
  {
   "cell_type": "code",
   "execution_count": null,
   "metadata": {},
   "outputs": [],
   "source": [
    "# Predicción del conjunto de test - acá se genera un número aleatorio como ejemplo\n",
    "np.random.seed(42)\n",
    "y_pred = pd.DataFrame(np.random.rand(dataTesting.shape[0]) * 75000 + 5000, index=dataTesting.index, columns=['Price'])"
   ]
  },
  {
   "cell_type": "code",
   "execution_count": null,
   "metadata": {},
   "outputs": [],
   "source": [
    "# Guardar predicciones en formato exigido en la competencia de kaggle\n",
    "y_pred.to_csv('test_submission.csv', index_label='ID')\n",
    "y_pred.head()"
   ]
  },
  {
   "cell_type": "code",
   "execution_count": null,
   "metadata": {},
   "outputs": [],
   "source": []
  }
 ],
 "metadata": {
  "kernelspec": {
   "display_name": "Python 3 (ipykernel)",
   "language": "python",
   "name": "python3"
  },
  "language_info": {
   "codemirror_mode": {
    "name": "ipython",
    "version": 3
   },
   "file_extension": ".py",
   "mimetype": "text/x-python",
   "name": "python",
   "nbconvert_exporter": "python",
   "pygments_lexer": "ipython3",
   "version": "3.9.12"
  }
 },
 "nbformat": 4,
 "nbformat_minor": 4
}
