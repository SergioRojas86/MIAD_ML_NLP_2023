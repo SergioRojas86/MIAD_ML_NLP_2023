{
 "cells": [
  {
   "cell_type": "markdown",
   "metadata": {},
   "source": [
    "![image info](https://raw.githubusercontent.com/albahnsen/MIAD_ML_and_NLP/main/images/banner_1.png)"
   ]
  },
  {
   "cell_type": "markdown",
   "metadata": {},
   "source": [
    "# Taller: Construcción e implementación de modelos Bagging, Random Forest y XGBoost\n",
    "\n",
    "En este taller podrán poner en práctica sus conocimientos sobre la construcción e implementación de modelos de Bagging, Random Forest y XGBoost. El taller está constituido por 8 puntos, en los cuales deberan seguir las intrucciones de cada numeral para su desarrollo."
   ]
  },
  {
   "cell_type": "markdown",
   "metadata": {},
   "source": [
    "## Datos predicción precio de automóviles\n",
    "\n",
    "En este taller se usará el conjunto de datos de Car Listings de Kaggle donde cada observación representa el precio de un automóvil teniendo en cuenta distintas variables como año, marca, modelo, entre otras. El objetivo es predecir el precio del automóvil. Para más detalles puede visitar el siguiente enlace: [datos](https://www.kaggle.com/jpayne/852k-used-car-listings)."
   ]
  },
  {
   "cell_type": "code",
   "execution_count": 1,
   "metadata": {},
   "outputs": [],
   "source": [
    "import numpy as np\n",
    "from sklearn.metrics import mean_squared_error\n",
    "from sklearn.tree import DecisionTreeRegressor\n",
    "from sklearn.ensemble import BaggingRegressor, RandomForestRegressor\n",
    "from xgboost import XGBRegressor\n",
    "from sklearn.model_selection import cross_val_score\n",
    "import matplotlib.pyplot as plt "
   ]
  },
  {
   "cell_type": "code",
   "execution_count": 2,
   "metadata": {},
   "outputs": [],
   "source": [
    "import warnings\n",
    "warnings.filterwarnings('ignore')"
   ]
  },
  {
   "cell_type": "code",
   "execution_count": 3,
   "metadata": {},
   "outputs": [
    {
     "data": {
      "text/html": [
       "<div>\n",
       "<style scoped>\n",
       "    .dataframe tbody tr th:only-of-type {\n",
       "        vertical-align: middle;\n",
       "    }\n",
       "\n",
       "    .dataframe tbody tr th {\n",
       "        vertical-align: top;\n",
       "    }\n",
       "\n",
       "    .dataframe thead th {\n",
       "        text-align: right;\n",
       "    }\n",
       "</style>\n",
       "<table border=\"1\" class=\"dataframe\">\n",
       "  <thead>\n",
       "    <tr style=\"text-align: right;\">\n",
       "      <th></th>\n",
       "      <th>Price</th>\n",
       "      <th>Year</th>\n",
       "      <th>Mileage</th>\n",
       "      <th>M_Camry</th>\n",
       "      <th>M_Camry4dr</th>\n",
       "      <th>M_CamryBase</th>\n",
       "      <th>M_CamryL</th>\n",
       "      <th>M_CamryLE</th>\n",
       "      <th>M_CamrySE</th>\n",
       "      <th>M_CamryXLE</th>\n",
       "    </tr>\n",
       "  </thead>\n",
       "  <tbody>\n",
       "    <tr>\n",
       "      <th>7</th>\n",
       "      <td>21995</td>\n",
       "      <td>2014</td>\n",
       "      <td>6480</td>\n",
       "      <td>0</td>\n",
       "      <td>0</td>\n",
       "      <td>0</td>\n",
       "      <td>1</td>\n",
       "      <td>0</td>\n",
       "      <td>0</td>\n",
       "      <td>0</td>\n",
       "    </tr>\n",
       "    <tr>\n",
       "      <th>11</th>\n",
       "      <td>13995</td>\n",
       "      <td>2014</td>\n",
       "      <td>39972</td>\n",
       "      <td>0</td>\n",
       "      <td>0</td>\n",
       "      <td>0</td>\n",
       "      <td>0</td>\n",
       "      <td>1</td>\n",
       "      <td>0</td>\n",
       "      <td>0</td>\n",
       "    </tr>\n",
       "    <tr>\n",
       "      <th>167</th>\n",
       "      <td>17941</td>\n",
       "      <td>2016</td>\n",
       "      <td>18989</td>\n",
       "      <td>0</td>\n",
       "      <td>0</td>\n",
       "      <td>0</td>\n",
       "      <td>0</td>\n",
       "      <td>0</td>\n",
       "      <td>1</td>\n",
       "      <td>0</td>\n",
       "    </tr>\n",
       "    <tr>\n",
       "      <th>225</th>\n",
       "      <td>12493</td>\n",
       "      <td>2014</td>\n",
       "      <td>51330</td>\n",
       "      <td>0</td>\n",
       "      <td>0</td>\n",
       "      <td>0</td>\n",
       "      <td>1</td>\n",
       "      <td>0</td>\n",
       "      <td>0</td>\n",
       "      <td>0</td>\n",
       "    </tr>\n",
       "    <tr>\n",
       "      <th>270</th>\n",
       "      <td>7994</td>\n",
       "      <td>2007</td>\n",
       "      <td>116065</td>\n",
       "      <td>0</td>\n",
       "      <td>1</td>\n",
       "      <td>0</td>\n",
       "      <td>0</td>\n",
       "      <td>0</td>\n",
       "      <td>0</td>\n",
       "      <td>0</td>\n",
       "    </tr>\n",
       "  </tbody>\n",
       "</table>\n",
       "</div>"
      ],
      "text/plain": [
       "     Price  Year  Mileage  M_Camry  M_Camry4dr  M_CamryBase  M_CamryL  \\\n",
       "7    21995  2014     6480        0           0            0         1   \n",
       "11   13995  2014    39972        0           0            0         0   \n",
       "167  17941  2016    18989        0           0            0         0   \n",
       "225  12493  2014    51330        0           0            0         1   \n",
       "270   7994  2007   116065        0           1            0         0   \n",
       "\n",
       "     M_CamryLE  M_CamrySE  M_CamryXLE  \n",
       "7            0          0           0  \n",
       "11           1          0           0  \n",
       "167          0          1           0  \n",
       "225          0          0           0  \n",
       "270          0          0           0  "
      ]
     },
     "execution_count": 3,
     "metadata": {},
     "output_type": "execute_result"
    }
   ],
   "source": [
    "# Importación de librerías\n",
    "%matplotlib inline\n",
    "import pandas as pd\n",
    "\n",
    "# Lectura de la información de archivo .csv\n",
    "data = pd.read_csv('https://raw.githubusercontent.com/albahnsen/MIAD_ML_and_NLP/main/datasets/dataTrain_carListings.zip')\n",
    "\n",
    "# Preprocesamiento de datos para el taller\n",
    "data = data.loc[data['Model'].str.contains('Camry')].drop(['Make', 'State'], axis=1)\n",
    "data = data.join(pd.get_dummies(data['Model'], prefix='M'))\n",
    "data = data.drop(['Model'], axis=1)\n",
    "\n",
    "# Visualización dataset\n",
    "data.head()"
   ]
  },
  {
   "cell_type": "code",
   "execution_count": 4,
   "metadata": {},
   "outputs": [],
   "source": [
    "# Separación de variables predictoras (X) y variable de interés (y)\n",
    "y = data['Price']\n",
    "X = data.drop(['Price'], axis=1)"
   ]
  },
  {
   "cell_type": "code",
   "execution_count": 5,
   "metadata": {},
   "outputs": [],
   "source": [
    "# Separación de datos en set de entrenamiento y test\n",
    "from sklearn.model_selection import train_test_split\n",
    "X_train, X_test, y_train, y_test = train_test_split(X, y, test_size=0.33, random_state=42)"
   ]
  },
  {
   "cell_type": "markdown",
   "metadata": {},
   "source": [
    "### Punto 1 - Árbol de decisión manual\n",
    "\n",
    "En la celda 1 creen un árbol de decisión **manualmente**  que considere los set de entrenamiento y test definidos anteriormente y presenten el RMSE y MAE del modelo en el set de test."
   ]
  },
  {
   "cell_type": "code",
   "execution_count": 6,
   "metadata": {},
   "outputs": [],
   "source": [
    "# Celda 1\n",
    "# Definición de parámetros y criterios de parada\n",
    "max_depth = None\n",
    "num_pct = 10\n",
    "max_features = None\n",
    "min_gain=0.001"
   ]
  },
  {
   "cell_type": "code",
   "execution_count": 7,
   "metadata": {},
   "outputs": [],
   "source": [
    "# Definición de la función que calcula el gini index\n",
    "def gini(y):\n",
    "    if y.shape[0] == 0:\n",
    "        return 0\n",
    "    else:\n",
    "        return 1 - (y.mean()**2 + (1 - y.mean())**2)\n",
    "def gini_impurity(X_col, y, split):\n",
    "    \n",
    "    filter_l = X_col < split\n",
    "    y_l = y.loc[filter_l]\n",
    "    y_r = y.loc[~filter_l]    \n",
    "    n_l = y_l.shape[0]\n",
    "    n_r = y_r.shape[0]    \n",
    "    gini_y = gini(y)\n",
    "    gini_l = gini(y_l)\n",
    "    gini_r = gini(y_r)    \n",
    "    gini_impurity_ = gini_y - (n_l / (n_l + n_r) * gini_l + n_r / (n_l + n_r) * gini_r)    \n",
    "    return gini_impurity_\n",
    "\n",
    "def best_split(X, y, num_pct=10):\n",
    "    \n",
    "    features = range(X.shape[1])    \n",
    "    best_split = [0, 0, 0]  # j, split, gain    \n",
    "    # Para todas las varibles \n",
    "    for j in features:        \n",
    "        splits = np.percentile(X.iloc[:, j], np.arange(0, 100, 100.0 / (num_pct+1)).tolist())\n",
    "        splits = np.unique(splits)[1:]\n",
    "        # Para cada partición\n",
    "        for split in splits:\n",
    "            gain = gini_impurity(X.iloc[:, j], y, split)                        \n",
    "            if gain > best_split[2]:\n",
    "                best_split = [j, split, gain]    \n",
    "    return best_split\n",
    "\n",
    "def tree_grow(X, y, level=0, min_gain=0.001, max_depth=None, num_pct=10):\n",
    "    \n",
    "    # Si solo es una observación\n",
    "    if X.shape[0] == 1:\n",
    "        tree = dict(y_pred=y.iloc[:1].values[0], y_prob=0.5, level=level, split=-1, n_samples=1, gain=0)\n",
    "        return tree    \n",
    "    # Calcular la mejor división\n",
    "    j, split, gain = best_split(X, y, num_pct)    \n",
    "    # Guardar el árbol y estimar la predicción\n",
    "    y_pred = y.mean()  \n",
    "    y_prob = y.mean()     \n",
    "    tree = dict(y_pred=y_pred,  level=level, split=-1, n_samples=X.shape[0], gain=gain)\n",
    "    # Revisar el criterio de parada \n",
    "    if gain < min_gain:\n",
    "        return tree\n",
    "    if max_depth is not None:\n",
    "        if level >= max_depth:\n",
    "            return tree       \n",
    "    # Continuar creando la partición\n",
    "    filter_l = X.iloc[:, j] < split\n",
    "    X_l, y_l = X.loc[filter_l], y.loc[filter_l]\n",
    "    X_r, y_r = X.loc[~filter_l], y.loc[~filter_l]\n",
    "    tree['split'] = [j, split]\n",
    "    # Siguiente iteración para cada partición    \n",
    "    tree['sl'] = tree_grow(X_l, y_l, level + 1, min_gain=min_gain, max_depth=max_depth, num_pct=num_pct)\n",
    "    tree['sr'] = tree_grow(X_r, y_r, level + 1, min_gain=min_gain, max_depth=max_depth, num_pct=num_pct)    \n",
    "    return tree"
   ]
  },
  {
   "cell_type": "code",
   "execution_count": 8,
   "metadata": {},
   "outputs": [
    {
     "data": {
      "text/plain": [
       "{'y_pred': 14508.073389276064,\n",
       " 'level': 0,\n",
       " 'split': [0, 2014.0],\n",
       " 'n_samples': 7031,\n",
       " 'gain': 17412158.538160443,\n",
       " 'sl': {'y_pred': 10234.929955947136,\n",
       "  'level': 1,\n",
       "  'split': [0, 2012.0],\n",
       "  'n_samples': 2270,\n",
       "  'gain': 8039318.299921066,\n",
       "  'sl': {'y_pred': 8737.28071379547,\n",
       "   'level': 2,\n",
       "   'split': [1, 97798.72727272728],\n",
       "   'n_samples': 1457,\n",
       "   'gain': 2218560.9485784173,\n",
       "   'sl': {'y_pred': 9891.465256797583,\n",
       "    'level': 3,\n",
       "    'split': -1,\n",
       "    'n_samples': 662,\n",
       "    'gain': 1805269.9185358882},\n",
       "   'sr': {'y_pred': 7776.186163522013,\n",
       "    'level': 3,\n",
       "    'split': -1,\n",
       "    'n_samples': 795,\n",
       "    'gain': 1238287.4041553736}},\n",
       "  'sr': {'y_pred': 12918.90897908979,\n",
       "   'level': 2,\n",
       "   'split': [1, 73300.81818181818],\n",
       "   'n_samples': 813,\n",
       "   'gain': 2615740.375015855,\n",
       "   'sl': {'y_pred': 13964.06546275395,\n",
       "    'level': 3,\n",
       "    'split': -1,\n",
       "    'n_samples': 443,\n",
       "    'gain': 942735.5531387925},\n",
       "   'sr': {'y_pred': 11667.545945945945,\n",
       "    'level': 3,\n",
       "    'split': -1,\n",
       "    'n_samples': 370,\n",
       "    'gain': 1266196.439209044}}},\n",
       " 'sr': {'y_pred': 16545.467968914094,\n",
       "  'level': 1,\n",
       "  'split': [0, 2017.0],\n",
       "  'n_samples': 4761,\n",
       "  'gain': 3048776.3917423487,\n",
       "  'sl': {'y_pred': 15976.070045848192,\n",
       "   'level': 2,\n",
       "   'split': [1, 38129.18181818181],\n",
       "   'n_samples': 3926,\n",
       "   'gain': 1272188.545149386,\n",
       "   'sl': {'y_pred': 16704.304997664643,\n",
       "    'level': 3,\n",
       "    'split': -1,\n",
       "    'n_samples': 2141,\n",
       "    'gain': 787443.0199553967},\n",
       "   'sr': {'y_pred': 15102.596078431372,\n",
       "    'level': 3,\n",
       "    'split': -1,\n",
       "    'n_samples': 1785,\n",
       "    'gain': 912925.7428934574}},\n",
       "  'sr': {'y_pred': 19222.66107784431,\n",
       "   'level': 2,\n",
       "   'split': [8, 1.0],\n",
       "   'n_samples': 835,\n",
       "   'gain': 2187265.7136490345,\n",
       "   'sl': {'y_pred': 18798.41562064156,\n",
       "    'level': 3,\n",
       "    'split': -1,\n",
       "    'n_samples': 717,\n",
       "    'gain': 1251868.4860451221},\n",
       "   'sr': {'y_pred': 21800.491525423728,\n",
       "    'level': 3,\n",
       "    'split': -1,\n",
       "    'n_samples': 118,\n",
       "    'gain': 1754914.7224709988}}}}"
      ]
     },
     "execution_count": 8,
     "metadata": {},
     "output_type": "execute_result"
    }
   ],
   "source": [
    "tree_grow2=tree_grow(X_train, y_train, level=0, min_gain=0.001, max_depth=3, num_pct=10)\n",
    "tree_grow(X_train,y_train, level=0, min_gain=0.001, max_depth=3, num_pct=10)"
   ]
  },
  {
   "cell_type": "markdown",
   "metadata": {},
   "source": [
    "## Predicción"
   ]
  },
  {
   "cell_type": "code",
   "execution_count": 9,
   "metadata": {},
   "outputs": [],
   "source": [
    "# Definición de la función tree_predict para hacer predicciones según las variables 'X' y el árbol 'tree'\n",
    "\n",
    "def tree_predict(X, tree, proba=False):\n",
    "    \n",
    "    predicted = np.ones(X.shape[0])\n",
    "\n",
    "    # Revisar si es el nodo final\n",
    "    if tree['split'] == -1:\n",
    "        if not proba:\n",
    "            predicted = predicted * tree['y_pred']\n",
    "        else:\n",
    "            predicted = predicted * tree['y_prob']            \n",
    "    else:        \n",
    "        j, split = tree['split']\n",
    "        filter_l = (X.iloc[:, j] < split)\n",
    "        X_l = X.loc[filter_l]\n",
    "        X_r = X.loc[~filter_l]\n",
    "\n",
    "        if X_l.shape[0] == 0:  # Si el nodo izquierdo está vacio solo continua con el derecho \n",
    "            predicted[~filter_l] = tree_predict(X_r, tree['sr'], proba)\n",
    "        elif X_r.shape[0] == 0:  #  Si el nodo derecho está vacio solo continua con el izquierdo\n",
    "            predicted[filter_l] = tree_predict(X_l, tree['sl'], proba)\n",
    "        else:\n",
    "            predicted[filter_l] = tree_predict(X_l, tree['sl'], proba)\n",
    "            predicted[~filter_l] = tree_predict(X_r, tree['sr'], proba)\n",
    "\n",
    "    return predicted\n"
   ]
  },
  {
   "cell_type": "code",
   "execution_count": 10,
   "metadata": {},
   "outputs": [],
   "source": [
    "tree = tree_grow(X_train,y_train, level=0, min_gain=0.001, max_depth=3, num_pct=10)"
   ]
  },
  {
   "cell_type": "code",
   "execution_count": 11,
   "metadata": {},
   "outputs": [
    {
     "data": {
      "text/plain": [
       "3690242.262765719"
      ]
     },
     "execution_count": 11,
     "metadata": {},
     "output_type": "execute_result"
    }
   ],
   "source": [
    "from sklearn.metrics import mean_squared_error\n",
    "y_pred= tree_predict(X_test,tree)\n",
    "mse_manual = mean_squared_error(y_test, y_pred)\n",
    "mse_manual"
   ]
  },
  {
   "cell_type": "code",
   "execution_count": 12,
   "metadata": {},
   "outputs": [
    {
     "data": {
      "text/plain": [
       "1921.0003286740268"
      ]
     },
     "execution_count": 12,
     "metadata": {},
     "output_type": "execute_result"
    }
   ],
   "source": [
    "np.sqrt(mean_squared_error(y_test, y_pred))"
   ]
  },
  {
   "cell_type": "markdown",
   "metadata": {},
   "source": [
    "### Calibración del modelo\n",
    "\n",
    "Calibraremos el arbol de decisión con el hiperparametro max_depth, evaluandolo con el RMSE."
   ]
  },
  {
   "cell_type": "code",
   "execution_count": 13,
   "metadata": {},
   "outputs": [
    {
     "data": {
      "text/plain": [
       "[[1, 2586.7757224797892],\n",
       " [2, 2128.8874044922427],\n",
       " [3, 1921.0003286740268],\n",
       " [4, 1782.6888801629282],\n",
       " [5, 1697.9641986149657],\n",
       " [6, 1643.307841242522],\n",
       " [7, 1627.4244844155912],\n",
       " [8, 1624.788926276523],\n",
       " [9, 1648.1078941499732],\n",
       " [10, 1692.0998348052804],\n",
       " [11, 1754.19719402773],\n",
       " [12, 1824.2162653893458],\n",
       " [13, 1874.7254157156078],\n",
       " [14, 1955.0844428231042],\n",
       " [15, 2014.7403396175796]]"
      ]
     },
     "execution_count": 13,
     "metadata": {},
     "output_type": "execute_result"
    }
   ],
   "source": [
    "max_depth_i = range(1,16)\n",
    "listica= []\n",
    "\n",
    "for i in list(max_depth_i):\n",
    "    tree_i = tree_grow(X_train,y_train, level=0, min_gain=0.001, max_depth=i, num_pct=10)\n",
    "    y_pred_i = tree_predict(X_test,tree_i)\n",
    "    rmse_i = np.sqrt(mean_squared_error(y_test,y_pred_i))\n",
    "    listica.append([i,rmse_i])\n",
    "    \n",
    "listica  "
   ]
  },
  {
   "cell_type": "code",
   "execution_count": 14,
   "metadata": {},
   "outputs": [],
   "source": [
    "tree = tree_grow(X_train,y_train, level=0, min_gain=0.001, max_depth=8, num_pct=10)\n",
    "y_pred= tree_predict(X_test,tree)\n",
    "rmse_tree = np.sqrt(mean_squared_error(y_test, y_pred))"
   ]
  },
  {
   "cell_type": "markdown",
   "metadata": {},
   "source": [
    "### conclusiones punto 1"
   ]
  },
  {
   "cell_type": "markdown",
   "metadata": {},
   "source": [
    "En el punto se realiza un modelo de árbol de regresión, debido a que la variable respuesta es continua (precio). Dentro del modelo inicial se entrenan los hiperparámetros de max_depth igual a , level igual a 0 y num_pct igual a igual a 10. A partir de este número de árboles iniciales, se realiza la predicción con respecto al test y se observa un resultado de un MSE de 3.690.242 de forma manual y un valor de RMSE de 1.921 cuando se realiza con la función estipulada. \n",
    "Finalmente, se calibra el árbol de decisión a partir del resultado anterior del RMSE y se concluye que el arbol de decisión calibrado con el hiperparametro max_depth = 8, es el arbol manual con el mejor desempeño, teniendo un RMSE de 1624.8"
   ]
  },
  {
   "cell_type": "markdown",
   "metadata": {},
   "source": [
    "### Punto 2 - Bagging manual\n",
    "\n",
    "En la celda 2 creen un modelo bagging **manualmente** con 10 árboles de regresión y comenten sobre el desempeño del modelo."
   ]
  },
  {
   "cell_type": "code",
   "execution_count": 15,
   "metadata": {},
   "outputs": [
    {
     "data": {
      "text/plain": [
       "[array([3582, 3454, 1346, ...,  826,  801, 5657]),\n",
       " array([6962, 3408, 2553, ..., 6611,  877, 6412]),\n",
       " array([1917, 3131,  384, ..., 2876, 6449, 6557]),\n",
       " array([3849, 4565, 6820, ..., 6835, 4643,  639]),\n",
       " array([2468, 3608, 1367, ..., 3108, 2961, 4357]),\n",
       " array([3142, 1537, 5966, ..., 3224, 6922, 3396]),\n",
       " array([6588, 3753, 1786, ..., 2131, 4627, 5672]),\n",
       " array([1289, 3776,  981, ..., 1891, 6034, 6165]),\n",
       " array([6079, 3819, 6976, ..., 6478, 2225, 5072]),\n",
       " array([3952, 3276,  896, ..., 4589, 1964,  893])]"
      ]
     },
     "execution_count": 15,
     "metadata": {},
     "output_type": "execute_result"
    }
   ],
   "source": [
    "# Celda 2\n",
    "# Creación de 10 muestras de bootstrap \n",
    "np.random.seed(123)\n",
    "\n",
    "n_samples = X_train.shape[0]\n",
    "# número de árboles\n",
    "n_B = 10\n",
    "\n",
    "samples = [np.random.choice(a=n_samples, size=n_samples, replace=True) for _ in range(1, n_B +1 )]\n",
    "samples"
   ]
  },
  {
   "cell_type": "code",
   "execution_count": 16,
   "metadata": {},
   "outputs": [
    {
     "data": {
      "text/html": [
       "<div>\n",
       "<style scoped>\n",
       "    .dataframe tbody tr th:only-of-type {\n",
       "        vertical-align: middle;\n",
       "    }\n",
       "\n",
       "    .dataframe tbody tr th {\n",
       "        vertical-align: top;\n",
       "    }\n",
       "\n",
       "    .dataframe thead th {\n",
       "        text-align: right;\n",
       "    }\n",
       "</style>\n",
       "<table border=\"1\" class=\"dataframe\">\n",
       "  <thead>\n",
       "    <tr style=\"text-align: right;\">\n",
       "      <th></th>\n",
       "      <th>Year</th>\n",
       "      <th>Mileage</th>\n",
       "      <th>M_Camry</th>\n",
       "      <th>M_Camry4dr</th>\n",
       "      <th>M_CamryBase</th>\n",
       "      <th>M_CamryL</th>\n",
       "      <th>M_CamryLE</th>\n",
       "      <th>M_CamrySE</th>\n",
       "      <th>M_CamryXLE</th>\n",
       "    </tr>\n",
       "  </thead>\n",
       "  <tbody>\n",
       "    <tr>\n",
       "      <th>151599</th>\n",
       "      <td>2016</td>\n",
       "      <td>40999</td>\n",
       "      <td>0</td>\n",
       "      <td>0</td>\n",
       "      <td>0</td>\n",
       "      <td>0</td>\n",
       "      <td>0</td>\n",
       "      <td>1</td>\n",
       "      <td>0</td>\n",
       "    </tr>\n",
       "    <tr>\n",
       "      <th>171999</th>\n",
       "      <td>2014</td>\n",
       "      <td>52527</td>\n",
       "      <td>0</td>\n",
       "      <td>0</td>\n",
       "      <td>0</td>\n",
       "      <td>0</td>\n",
       "      <td>0</td>\n",
       "      <td>1</td>\n",
       "      <td>0</td>\n",
       "    </tr>\n",
       "    <tr>\n",
       "      <th>304172</th>\n",
       "      <td>2009</td>\n",
       "      <td>123202</td>\n",
       "      <td>0</td>\n",
       "      <td>1</td>\n",
       "      <td>0</td>\n",
       "      <td>0</td>\n",
       "      <td>0</td>\n",
       "      <td>0</td>\n",
       "      <td>0</td>\n",
       "    </tr>\n",
       "    <tr>\n",
       "      <th>74828</th>\n",
       "      <td>2015</td>\n",
       "      <td>38807</td>\n",
       "      <td>0</td>\n",
       "      <td>0</td>\n",
       "      <td>0</td>\n",
       "      <td>0</td>\n",
       "      <td>0</td>\n",
       "      <td>1</td>\n",
       "      <td>0</td>\n",
       "    </tr>\n",
       "    <tr>\n",
       "      <th>192974</th>\n",
       "      <td>2005</td>\n",
       "      <td>51260</td>\n",
       "      <td>0</td>\n",
       "      <td>0</td>\n",
       "      <td>0</td>\n",
       "      <td>0</td>\n",
       "      <td>0</td>\n",
       "      <td>0</td>\n",
       "      <td>1</td>\n",
       "    </tr>\n",
       "    <tr>\n",
       "      <th>...</th>\n",
       "      <td>...</td>\n",
       "      <td>...</td>\n",
       "      <td>...</td>\n",
       "      <td>...</td>\n",
       "      <td>...</td>\n",
       "      <td>...</td>\n",
       "      <td>...</td>\n",
       "      <td>...</td>\n",
       "      <td>...</td>\n",
       "    </tr>\n",
       "    <tr>\n",
       "      <th>134843</th>\n",
       "      <td>2014</td>\n",
       "      <td>22221</td>\n",
       "      <td>0</td>\n",
       "      <td>0</td>\n",
       "      <td>0</td>\n",
       "      <td>0</td>\n",
       "      <td>1</td>\n",
       "      <td>0</td>\n",
       "      <td>0</td>\n",
       "    </tr>\n",
       "    <tr>\n",
       "      <th>325075</th>\n",
       "      <td>2013</td>\n",
       "      <td>86593</td>\n",
       "      <td>0</td>\n",
       "      <td>0</td>\n",
       "      <td>0</td>\n",
       "      <td>0</td>\n",
       "      <td>0</td>\n",
       "      <td>1</td>\n",
       "      <td>0</td>\n",
       "    </tr>\n",
       "    <tr>\n",
       "      <th>61213</th>\n",
       "      <td>2014</td>\n",
       "      <td>28044</td>\n",
       "      <td>0</td>\n",
       "      <td>0</td>\n",
       "      <td>0</td>\n",
       "      <td>0</td>\n",
       "      <td>0</td>\n",
       "      <td>1</td>\n",
       "      <td>0</td>\n",
       "    </tr>\n",
       "    <tr>\n",
       "      <th>181222</th>\n",
       "      <td>2016</td>\n",
       "      <td>49368</td>\n",
       "      <td>0</td>\n",
       "      <td>0</td>\n",
       "      <td>0</td>\n",
       "      <td>0</td>\n",
       "      <td>0</td>\n",
       "      <td>0</td>\n",
       "      <td>1</td>\n",
       "    </tr>\n",
       "    <tr>\n",
       "      <th>275601</th>\n",
       "      <td>2015</td>\n",
       "      <td>32069</td>\n",
       "      <td>1</td>\n",
       "      <td>0</td>\n",
       "      <td>0</td>\n",
       "      <td>0</td>\n",
       "      <td>0</td>\n",
       "      <td>0</td>\n",
       "      <td>0</td>\n",
       "    </tr>\n",
       "  </tbody>\n",
       "</table>\n",
       "<p>7031 rows × 9 columns</p>\n",
       "</div>"
      ],
      "text/plain": [
       "        Year  Mileage  M_Camry  M_Camry4dr  M_CamryBase  M_CamryL  M_CamryLE  \\\n",
       "151599  2016    40999        0           0            0         0          0   \n",
       "171999  2014    52527        0           0            0         0          0   \n",
       "304172  2009   123202        0           1            0         0          0   \n",
       "74828   2015    38807        0           0            0         0          0   \n",
       "192974  2005    51260        0           0            0         0          0   \n",
       "...      ...      ...      ...         ...          ...       ...        ...   \n",
       "134843  2014    22221        0           0            0         0          1   \n",
       "325075  2013    86593        0           0            0         0          0   \n",
       "61213   2014    28044        0           0            0         0          0   \n",
       "181222  2016    49368        0           0            0         0          0   \n",
       "275601  2015    32069        1           0            0         0          0   \n",
       "\n",
       "        M_CamrySE  M_CamryXLE  \n",
       "151599          1           0  \n",
       "171999          1           0  \n",
       "304172          0           0  \n",
       "74828           1           0  \n",
       "192974          0           1  \n",
       "...           ...         ...  \n",
       "134843          0           0  \n",
       "325075          1           0  \n",
       "61213           1           0  \n",
       "181222          0           1  \n",
       "275601          0           0  \n",
       "\n",
       "[7031 rows x 9 columns]"
      ]
     },
     "execution_count": 16,
     "metadata": {},
     "output_type": "execute_result"
    }
   ],
   "source": [
    "# Visualización muestra boostrap #1 para entremiento\n",
    "X_train.iloc[samples[0], :]"
   ]
  },
  {
   "cell_type": "code",
   "execution_count": 17,
   "metadata": {},
   "outputs": [
    {
     "data": {
      "text/html": [
       "<div>\n",
       "<style scoped>\n",
       "    .dataframe tbody tr th:only-of-type {\n",
       "        vertical-align: middle;\n",
       "    }\n",
       "\n",
       "    .dataframe tbody tr th {\n",
       "        vertical-align: top;\n",
       "    }\n",
       "\n",
       "    .dataframe thead tr th {\n",
       "        text-align: left;\n",
       "    }\n",
       "</style>\n",
       "<table border=\"1\" class=\"dataframe\">\n",
       "  <thead>\n",
       "    <tr>\n",
       "      <th></th>\n",
       "      <th>0</th>\n",
       "      <th>1</th>\n",
       "      <th>2</th>\n",
       "      <th>3</th>\n",
       "      <th>4</th>\n",
       "      <th>5</th>\n",
       "      <th>6</th>\n",
       "      <th>7</th>\n",
       "      <th>8</th>\n",
       "      <th>9</th>\n",
       "    </tr>\n",
       "  </thead>\n",
       "  <tbody>\n",
       "    <tr>\n",
       "      <th>257343</th>\n",
       "      <td>13147.696429</td>\n",
       "      <td>13509.519685</td>\n",
       "      <td>11837.588235</td>\n",
       "      <td>12892.266990</td>\n",
       "      <td>13624.828704</td>\n",
       "      <td>11765.937500</td>\n",
       "      <td>13837.657609</td>\n",
       "      <td>13280.682759</td>\n",
       "      <td>13142.787234</td>\n",
       "      <td>13203.853846</td>\n",
       "    </tr>\n",
       "    <tr>\n",
       "      <th>326011</th>\n",
       "      <td>6288.976471</td>\n",
       "      <td>6489.347826</td>\n",
       "      <td>6159.640000</td>\n",
       "      <td>6371.062500</td>\n",
       "      <td>6095.476190</td>\n",
       "      <td>6800.933333</td>\n",
       "      <td>6691.705882</td>\n",
       "      <td>6662.642857</td>\n",
       "      <td>6261.939759</td>\n",
       "      <td>6761.302326</td>\n",
       "    </tr>\n",
       "    <tr>\n",
       "      <th>242354</th>\n",
       "      <td>16232.909722</td>\n",
       "      <td>15814.827939</td>\n",
       "      <td>16193.278481</td>\n",
       "      <td>15861.475000</td>\n",
       "      <td>16147.644068</td>\n",
       "      <td>15698.556627</td>\n",
       "      <td>15879.113208</td>\n",
       "      <td>15754.428571</td>\n",
       "      <td>15943.886105</td>\n",
       "      <td>16340.280374</td>\n",
       "    </tr>\n",
       "    <tr>\n",
       "      <th>266376</th>\n",
       "      <td>17070.305000</td>\n",
       "      <td>16850.743655</td>\n",
       "      <td>17895.533333</td>\n",
       "      <td>17822.955056</td>\n",
       "      <td>17787.144578</td>\n",
       "      <td>18097.709677</td>\n",
       "      <td>16830.796392</td>\n",
       "      <td>18059.366667</td>\n",
       "      <td>17057.967213</td>\n",
       "      <td>16847.272727</td>\n",
       "    </tr>\n",
       "    <tr>\n",
       "      <th>396954</th>\n",
       "      <td>17070.305000</td>\n",
       "      <td>17239.474576</td>\n",
       "      <td>16551.178082</td>\n",
       "      <td>17822.955056</td>\n",
       "      <td>17075.571429</td>\n",
       "      <td>17348.440678</td>\n",
       "      <td>16833.578431</td>\n",
       "      <td>17428.200000</td>\n",
       "      <td>16754.057692</td>\n",
       "      <td>16044.426934</td>\n",
       "    </tr>\n",
       "    <tr>\n",
       "      <th>...</th>\n",
       "      <td>...</td>\n",
       "      <td>...</td>\n",
       "      <td>...</td>\n",
       "      <td>...</td>\n",
       "      <td>...</td>\n",
       "      <td>...</td>\n",
       "      <td>...</td>\n",
       "      <td>...</td>\n",
       "      <td>...</td>\n",
       "      <td>...</td>\n",
       "    </tr>\n",
       "    <tr>\n",
       "      <th>144298</th>\n",
       "      <td>16104.870240</td>\n",
       "      <td>16241.830097</td>\n",
       "      <td>16245.350814</td>\n",
       "      <td>15902.112403</td>\n",
       "      <td>16241.647929</td>\n",
       "      <td>16195.857143</td>\n",
       "      <td>16054.710794</td>\n",
       "      <td>16197.127473</td>\n",
       "      <td>16031.271709</td>\n",
       "      <td>16090.024138</td>\n",
       "    </tr>\n",
       "    <tr>\n",
       "      <th>364521</th>\n",
       "      <td>17070.305000</td>\n",
       "      <td>16241.830097</td>\n",
       "      <td>16862.623529</td>\n",
       "      <td>17103.097222</td>\n",
       "      <td>17787.144578</td>\n",
       "      <td>16722.290909</td>\n",
       "      <td>16054.710794</td>\n",
       "      <td>16197.127473</td>\n",
       "      <td>18612.031250</td>\n",
       "      <td>16090.024138</td>\n",
       "    </tr>\n",
       "    <tr>\n",
       "      <th>120072</th>\n",
       "      <td>18448.168750</td>\n",
       "      <td>18127.543554</td>\n",
       "      <td>18549.422819</td>\n",
       "      <td>17833.224490</td>\n",
       "      <td>18494.800000</td>\n",
       "      <td>18450.835897</td>\n",
       "      <td>18567.285714</td>\n",
       "      <td>18649.809524</td>\n",
       "      <td>18147.172043</td>\n",
       "      <td>18517.551220</td>\n",
       "    </tr>\n",
       "    <tr>\n",
       "      <th>99878</th>\n",
       "      <td>12272.583893</td>\n",
       "      <td>13157.261905</td>\n",
       "      <td>12941.882353</td>\n",
       "      <td>12892.266990</td>\n",
       "      <td>12075.143713</td>\n",
       "      <td>12344.744361</td>\n",
       "      <td>12751.000000</td>\n",
       "      <td>12620.648649</td>\n",
       "      <td>12923.296296</td>\n",
       "      <td>12143.479675</td>\n",
       "    </tr>\n",
       "    <tr>\n",
       "      <th>387162</th>\n",
       "      <td>11673.272727</td>\n",
       "      <td>10806.868421</td>\n",
       "      <td>10913.542857</td>\n",
       "      <td>12995.000000</td>\n",
       "      <td>11054.676190</td>\n",
       "      <td>10810.990476</td>\n",
       "      <td>10986.303371</td>\n",
       "      <td>12376.275000</td>\n",
       "      <td>11126.465909</td>\n",
       "      <td>13708.000000</td>\n",
       "    </tr>\n",
       "  </tbody>\n",
       "</table>\n",
       "<p>3464 rows × 10 columns</p>\n",
       "</div>"
      ],
      "text/plain": [
       "                   0             1             2             3             4  \\\n",
       "257343  13147.696429  13509.519685  11837.588235  12892.266990  13624.828704   \n",
       "326011   6288.976471   6489.347826   6159.640000   6371.062500   6095.476190   \n",
       "242354  16232.909722  15814.827939  16193.278481  15861.475000  16147.644068   \n",
       "266376  17070.305000  16850.743655  17895.533333  17822.955056  17787.144578   \n",
       "396954  17070.305000  17239.474576  16551.178082  17822.955056  17075.571429   \n",
       "...              ...           ...           ...           ...           ...   \n",
       "144298  16104.870240  16241.830097  16245.350814  15902.112403  16241.647929   \n",
       "364521  17070.305000  16241.830097  16862.623529  17103.097222  17787.144578   \n",
       "120072  18448.168750  18127.543554  18549.422819  17833.224490  18494.800000   \n",
       "99878   12272.583893  13157.261905  12941.882353  12892.266990  12075.143713   \n",
       "387162  11673.272727  10806.868421  10913.542857  12995.000000  11054.676190   \n",
       "\n",
       "                   5             6             7             8             9  \n",
       "257343  11765.937500  13837.657609  13280.682759  13142.787234  13203.853846  \n",
       "326011   6800.933333   6691.705882   6662.642857   6261.939759   6761.302326  \n",
       "242354  15698.556627  15879.113208  15754.428571  15943.886105  16340.280374  \n",
       "266376  18097.709677  16830.796392  18059.366667  17057.967213  16847.272727  \n",
       "396954  17348.440678  16833.578431  17428.200000  16754.057692  16044.426934  \n",
       "...              ...           ...           ...           ...           ...  \n",
       "144298  16195.857143  16054.710794  16197.127473  16031.271709  16090.024138  \n",
       "364521  16722.290909  16054.710794  16197.127473  18612.031250  16090.024138  \n",
       "120072  18450.835897  18567.285714  18649.809524  18147.172043  18517.551220  \n",
       "99878   12344.744361  12751.000000  12620.648649  12923.296296  12143.479675  \n",
       "387162  10810.990476  10986.303371  12376.275000  11126.465909  13708.000000  \n",
       "\n",
       "[3464 rows x 10 columns]"
      ]
     },
     "execution_count": 17,
     "metadata": {},
     "output_type": "execute_result"
    }
   ],
   "source": [
    "# Construcción un árbol de decisión para cada muestra boostrap\n",
    "\n",
    "# Definición del modelo usando DecisionTreeRegressor de sklearn, con el hiperparametro calibrado\n",
    "treereg = DecisionTreeRegressor(max_depth=8, random_state=123)\n",
    "\n",
    "# DataFrame para guardar las predicciones de cada árbol\n",
    "y_pred = pd.DataFrame(index=X_test.index, columns=[list(range(n_B))])\n",
    "\n",
    "# Entrenamiento de un árbol sobre cada muestra boostrap y predicción sobre los datos de test\n",
    "for i, sample in enumerate(samples):\n",
    "    X_new_train = X_train.iloc[sample]\n",
    "    y_new_train = y_train.iloc[sample]\n",
    "    treereg.fit(X_new_train, y_new_train)\n",
    "    y_pred.iloc[:,i] = treereg.predict(X_test)\n",
    "    \n",
    "y_pred"
   ]
  },
  {
   "cell_type": "code",
   "execution_count": 18,
   "metadata": {},
   "outputs": [
    {
     "name": "stdout",
     "output_type": "stream",
     "text": [
      "Árbol  0 tiene un error:  1682.2758728398326\n",
      "Árbol  1 tiene un error:  1687.1750457322878\n",
      "Árbol  2 tiene un error:  1697.3352876456568\n",
      "Árbol  3 tiene un error:  1664.1597137353954\n",
      "Árbol  4 tiene un error:  1679.3238846904433\n",
      "Árbol  5 tiene un error:  1705.323015158089\n",
      "Árbol  6 tiene un error:  1707.9187651653226\n",
      "Árbol  7 tiene un error:  1759.0200382151445\n",
      "Árbol  8 tiene un error:  1710.7723017757035\n",
      "Árbol  9 tiene un error:  1693.533920436485\n"
     ]
    }
   ],
   "source": [
    "# Desempeño de cada árbol\n",
    "for i in range(n_B):\n",
    "    print('Árbol ', i, 'tiene un error: ', np.sqrt(mean_squared_error(y_pred.iloc[:,i], y_test)))"
   ]
  },
  {
   "cell_type": "code",
   "execution_count": 19,
   "metadata": {},
   "outputs": [
    {
     "data": {
      "text/plain": [
       "257343    13024.281899\n",
       "326011     6458.302714\n",
       "242354    15986.640009\n",
       "266376    17431.979430\n",
       "396954    17016.818788\n",
       "              ...     \n",
       "144298    16130.480274\n",
       "364521    16874.118499\n",
       "120072    18378.581401\n",
       "99878     12612.230783\n",
       "387162    11645.139495\n",
       "Length: 3464, dtype: float64"
      ]
     },
     "execution_count": 19,
     "metadata": {},
     "output_type": "execute_result"
    }
   ],
   "source": [
    "# Predicciones promedio para cada obserbación del set de test\n",
    "y_pred.mean(axis=1)"
   ]
  },
  {
   "cell_type": "code",
   "execution_count": 20,
   "metadata": {},
   "outputs": [
    {
     "data": {
      "text/plain": [
       "1586.8674483919415"
      ]
     },
     "execution_count": 20,
     "metadata": {},
     "output_type": "execute_result"
    }
   ],
   "source": [
    "# Error al promediar las predicciones de todos los árboles\n",
    "rmse_bag = np.sqrt(mean_squared_error(y_test, y_pred.mean(axis=1)))\n",
    "rmse_bag"
   ]
  },
  {
   "cell_type": "markdown",
   "metadata": {},
   "source": [
    "### conclusiones punto 2"
   ]
  },
  {
   "cell_type": "markdown",
   "metadata": {},
   "source": [
    "Al entrenar un modelo bagging inicialmente con 10 árboles de decisión y al analizar los resultados, se observa que particularmente el árbol que menor error presenta es el número 3 con un RMSE de 1664, sin embargo al promediar los resultados de desempeño total, se observa que se tiene un RMSE de 1586. \n",
    "\n",
    "Comparando con los resultados del primer punto, donde se calibró un único árbol de decisión manual, se observa que el modelo Bagging manual, con el hiperparametro calibrado del arbol de decisión manual tiene un mejor desempeño que un único arbol manual."
   ]
  },
  {
   "cell_type": "markdown",
   "metadata": {},
   "source": [
    "### Punto 3 - Bagging con librería\n",
    "\n",
    "En la celda 3, con la librería sklearn, entrenen un modelo bagging con 10 árboles de regresión y el parámetro `max_features` igual a `log(n_features)` y comenten sobre el desempeño del modelo."
   ]
  },
  {
   "cell_type": "code",
   "execution_count": 21,
   "metadata": {},
   "outputs": [],
   "source": [
    "features = (X_train.shape)[1]\n",
    "n_features = max(1, int(np.log2(features)))"
   ]
  },
  {
   "cell_type": "code",
   "execution_count": 22,
   "metadata": {},
   "outputs": [],
   "source": [
    "# Celda 3\n",
    "bagreg = BaggingRegressor(DecisionTreeRegressor(max_depth=8, random_state=123), n_estimators=10, max_features=n_features,\n",
    "                          bootstrap=True, oob_score=True, random_state=1)"
   ]
  },
  {
   "cell_type": "code",
   "execution_count": 23,
   "metadata": {},
   "outputs": [
    {
     "data": {
      "text/plain": [
       "array([13251.27919828,  9010.83429281, 16149.16659194, ...,\n",
       "       17437.70057278, 12296.9701546 , 12684.59672609])"
      ]
     },
     "execution_count": 23,
     "metadata": {},
     "output_type": "execute_result"
    }
   ],
   "source": [
    "bagreg.fit(X_train, y_train)\n",
    "y_pred = bagreg.predict(X_test)\n",
    "y_pred"
   ]
  },
  {
   "cell_type": "code",
   "execution_count": 24,
   "metadata": {},
   "outputs": [
    {
     "data": {
      "text/plain": [
       "1974.026206635597"
      ]
     },
     "execution_count": 24,
     "metadata": {},
     "output_type": "execute_result"
    }
   ],
   "source": [
    "rmse_bag2= np.sqrt(mean_squared_error(y_test, y_pred))\n",
    "rmse_bag2"
   ]
  },
  {
   "cell_type": "markdown",
   "metadata": {},
   "source": [
    "### conclusiones punto 3"
   ]
  },
  {
   "cell_type": "markdown",
   "metadata": {},
   "source": [
    "Al realizar el entrenamiento y probar el desempeño con respecto al test, se observa que el modelo bagging con librería no presenta una mejoría con respecto al modelo bagging manual ya que su RMSE es mayor (1.974), esto teniendo en cuennta que ambos modelos contienen los mismos hiperparámetros con el fin de poder ser comparados."
   ]
  },
  {
   "cell_type": "markdown",
   "metadata": {},
   "source": [
    "### Punto 4 - Random forest con librería\n",
    "\n",
    "En la celda 4, usando la librería sklearn entrenen un modelo de Randon Forest para regresión  y comenten sobre el desempeño del modelo."
   ]
  },
  {
   "cell_type": "code",
   "execution_count": 25,
   "metadata": {},
   "outputs": [
    {
     "data": {
      "text/plain": [
       "RandomForestRegressor()"
      ]
     },
     "execution_count": 25,
     "metadata": {},
     "output_type": "execute_result"
    }
   ],
   "source": [
    "# Celda 4\n",
    "dtr = RandomForestRegressor()\n",
    "dtr.fit(X_train, y_train)"
   ]
  },
  {
   "cell_type": "code",
   "execution_count": 26,
   "metadata": {},
   "outputs": [],
   "source": [
    "y_pred = dtr.predict(X_test)"
   ]
  },
  {
   "cell_type": "code",
   "execution_count": 27,
   "metadata": {},
   "outputs": [
    {
     "data": {
      "text/plain": [
       "1757.4790838730512"
      ]
     },
     "execution_count": 27,
     "metadata": {},
     "output_type": "execute_result"
    }
   ],
   "source": [
    "rmse_rf = np.sqrt(mean_squared_error(y_test, y_pred))\n",
    "rmse_rf"
   ]
  },
  {
   "cell_type": "markdown",
   "metadata": {},
   "source": [
    "### conclusiones punto 4"
   ]
  },
  {
   "cell_type": "markdown",
   "metadata": {},
   "source": [
    "Al realizar el modelo con librería de Random Forest y probar el desempeño con respecto al test, se obserque que este modelo tiene mejor desempeño que el Bagging con librería (RMSE de 1.974) pero no con respecto al bagging manual (RMSE de 1.586). \n",
    "Por tanto, el bagging manual sigue teniendo un mejor desempeño."
   ]
  },
  {
   "cell_type": "markdown",
   "metadata": {},
   "source": [
    "### Punto 5 - Calibración de parámetros Random forest\n",
    "\n",
    "En la celda 5, calibren los parámetros max_depth, max_features y n_estimators del modelo de Randon Forest para regresión, comenten sobre el desempeño del modelo y describan cómo cada parámetro afecta el desempeño del modelo."
   ]
  },
  {
   "cell_type": "markdown",
   "metadata": {
    "tags": []
   },
   "source": [
    "## Max depth"
   ]
  },
  {
   "cell_type": "code",
   "execution_count": 28,
   "metadata": {},
   "outputs": [],
   "source": [
    "max_depth_i = range(1,16)\n",
    "listica= []\n",
    "\n",
    "for i in list(max_depth_i):\n",
    "    rd_i = RandomForestRegressor(max_depth = i)\n",
    "    rd_i.fit(X_train, y_train)\n",
    "    y_pred_i = rd_i.predict(X_test)\n",
    "    rmse_i = np.sqrt(mean_squared_error(y_test,y_pred_i))\n",
    "    listica.append([i,rmse_i])\n",
    "    \n",
    "max_depth = []\n",
    "rmse_i= []\n",
    "for i in listica:\n",
    "    max_depth.append(i[0])\n",
    "    rmse_i.append(i[1])\n",
    "\n",
    "max_depth_df = pd.DataFrame()\n",
    "max_depth_df['Max depth']=max_depth\n",
    "max_depth_df['RMSE']=rmse_i"
   ]
  },
  {
   "cell_type": "code",
   "execution_count": 29,
   "metadata": {},
   "outputs": [
    {
     "data": {
      "text/html": [
       "<div>\n",
       "<style scoped>\n",
       "    .dataframe tbody tr th:only-of-type {\n",
       "        vertical-align: middle;\n",
       "    }\n",
       "\n",
       "    .dataframe tbody tr th {\n",
       "        vertical-align: top;\n",
       "    }\n",
       "\n",
       "    .dataframe thead th {\n",
       "        text-align: right;\n",
       "    }\n",
       "</style>\n",
       "<table border=\"1\" class=\"dataframe\">\n",
       "  <thead>\n",
       "    <tr style=\"text-align: right;\">\n",
       "      <th></th>\n",
       "      <th>Max depth</th>\n",
       "      <th>RMSE</th>\n",
       "    </tr>\n",
       "  </thead>\n",
       "  <tbody>\n",
       "    <tr>\n",
       "      <th>6</th>\n",
       "      <td>7</td>\n",
       "      <td>1565.892553</td>\n",
       "    </tr>\n",
       "  </tbody>\n",
       "</table>\n",
       "</div>"
      ],
      "text/plain": [
       "   Max depth         RMSE\n",
       "6          7  1565.892553"
      ]
     },
     "execution_count": 29,
     "metadata": {},
     "output_type": "execute_result"
    }
   ],
   "source": [
    "max_depth_df[max_depth_df['RMSE']==max_depth_df['RMSE'].min()]"
   ]
  },
  {
   "cell_type": "markdown",
   "metadata": {},
   "source": [
    "Se va a calibrar el valor de max depth a 7."
   ]
  },
  {
   "cell_type": "markdown",
   "metadata": {},
   "source": [
    "## max_features"
   ]
  },
  {
   "cell_type": "code",
   "execution_count": 30,
   "metadata": {},
   "outputs": [],
   "source": [
    "max_features_i = range(1,len(data.columns))\n",
    "listica= []\n",
    "\n",
    "for i in list(max_features_i):\n",
    "    rd_i = RandomForestRegressor(max_features = i, max_depth = 7)\n",
    "    rd_i.fit(X_train, y_train)\n",
    "    y_pred_i = rd_i.predict(X_test)\n",
    "    rmse_i = np.sqrt(mean_squared_error(y_test,y_pred_i))\n",
    "    listica.append([i,rmse_i])\n",
    "    \n",
    "max_features = []\n",
    "rmse_i= []\n",
    "for i in listica:\n",
    "    max_features.append(i[0])\n",
    "    rmse_i.append(i[1])\n",
    "\n",
    "max_feat_df = pd.DataFrame()\n",
    "max_feat_df['Max features']=max_features\n",
    "max_feat_df['RMSE']=rmse_i"
   ]
  },
  {
   "cell_type": "code",
   "execution_count": 31,
   "metadata": {},
   "outputs": [
    {
     "data": {
      "text/html": [
       "<div>\n",
       "<style scoped>\n",
       "    .dataframe tbody tr th:only-of-type {\n",
       "        vertical-align: middle;\n",
       "    }\n",
       "\n",
       "    .dataframe tbody tr th {\n",
       "        vertical-align: top;\n",
       "    }\n",
       "\n",
       "    .dataframe thead th {\n",
       "        text-align: right;\n",
       "    }\n",
       "</style>\n",
       "<table border=\"1\" class=\"dataframe\">\n",
       "  <thead>\n",
       "    <tr style=\"text-align: right;\">\n",
       "      <th></th>\n",
       "      <th>Max features</th>\n",
       "      <th>RMSE</th>\n",
       "    </tr>\n",
       "  </thead>\n",
       "  <tbody>\n",
       "    <tr>\n",
       "      <th>4</th>\n",
       "      <td>5</td>\n",
       "      <td>1557.49715</td>\n",
       "    </tr>\n",
       "  </tbody>\n",
       "</table>\n",
       "</div>"
      ],
      "text/plain": [
       "   Max features        RMSE\n",
       "4             5  1557.49715"
      ]
     },
     "execution_count": 31,
     "metadata": {},
     "output_type": "execute_result"
    }
   ],
   "source": [
    "max_feat_df[max_feat_df['RMSE']==max_feat_df['RMSE'].min()]"
   ]
  },
  {
   "cell_type": "markdown",
   "metadata": {},
   "source": [
    "Se calibra el modelo con max features igual a 4."
   ]
  },
  {
   "cell_type": "markdown",
   "metadata": {},
   "source": [
    "## n_estimators"
   ]
  },
  {
   "cell_type": "code",
   "execution_count": 32,
   "metadata": {},
   "outputs": [],
   "source": [
    "max_est_i = range(1,151,10)\n",
    "listica= []\n",
    "\n",
    "for i in list(max_est_i):\n",
    "    rd_i = RandomForestRegressor(max_depth = 7, max_features = 4, n_estimators = i)\n",
    "    rd_i.fit(X_train, y_train)\n",
    "    y_pred_i = rd_i.predict(X_test)\n",
    "    rmse_i = np.sqrt(mean_squared_error(y_test,y_pred_i))\n",
    "    listica.append([i,rmse_i])\n",
    "    \n",
    "n_est_i = []\n",
    "rmse_i= []\n",
    "for i in listica:\n",
    "    n_est_i.append(i[0])\n",
    "    rmse_i.append(i[1])\n",
    "\n",
    "n_est_df = pd.DataFrame()\n",
    "n_est_df['N Estimators']=n_est_i\n",
    "n_est_df['RMSE']=rmse_i"
   ]
  },
  {
   "cell_type": "code",
   "execution_count": 33,
   "metadata": {},
   "outputs": [
    {
     "data": {
      "text/html": [
       "<div>\n",
       "<style scoped>\n",
       "    .dataframe tbody tr th:only-of-type {\n",
       "        vertical-align: middle;\n",
       "    }\n",
       "\n",
       "    .dataframe tbody tr th {\n",
       "        vertical-align: top;\n",
       "    }\n",
       "\n",
       "    .dataframe thead th {\n",
       "        text-align: right;\n",
       "    }\n",
       "</style>\n",
       "<table border=\"1\" class=\"dataframe\">\n",
       "  <thead>\n",
       "    <tr style=\"text-align: right;\">\n",
       "      <th></th>\n",
       "      <th>N Estimators</th>\n",
       "      <th>RMSE</th>\n",
       "    </tr>\n",
       "  </thead>\n",
       "  <tbody>\n",
       "    <tr>\n",
       "      <th>3</th>\n",
       "      <td>31</td>\n",
       "      <td>1556.649661</td>\n",
       "    </tr>\n",
       "  </tbody>\n",
       "</table>\n",
       "</div>"
      ],
      "text/plain": [
       "   N Estimators         RMSE\n",
       "3            31  1556.649661"
      ]
     },
     "execution_count": 33,
     "metadata": {},
     "output_type": "execute_result"
    }
   ],
   "source": [
    "n_est_df[n_est_df['RMSE']==n_est_df['RMSE'].min()]"
   ]
  },
  {
   "cell_type": "code",
   "execution_count": 34,
   "metadata": {},
   "outputs": [
    {
     "data": {
      "text/plain": [
       "1561.021450451996"
      ]
     },
     "execution_count": 34,
     "metadata": {},
     "output_type": "execute_result"
    }
   ],
   "source": [
    "# cantidad de variables predictoras\n",
    "rfr = RandomForestRegressor(max_features = 4,max_depth = 7,n_estimators=91)\n",
    "rfr.fit(X_train, y_train)\n",
    "y_pred = rfr.predict(X_test)\n",
    "rmse_rf2= np.sqrt(mean_squared_error(y_test, y_pred))\n",
    "rmse_rf2"
   ]
  },
  {
   "cell_type": "code",
   "execution_count": 35,
   "metadata": {},
   "outputs": [
    {
     "data": {
      "image/png": "[encoded data removed]",
      "text/plain": [
       "<Figure size 640x480 with 1 Axes>"
      ]
     },
     "metadata": {},
     "output_type": "display_data"
    }
   ],
   "source": [
    "x_rfr = range(len(y_test))\n",
    "plt.plot(x_rfr, y_test, label=\"original\")\n",
    "plt.plot(x_rfr, y_pred, label=\"predicción\")\n",
    "plt.title(\"Test vs Predicción\")\n",
    "plt.legend()\n",
    "plt.show()"
   ]
  },
  {
   "cell_type": "markdown",
   "metadata": {},
   "source": [
    "### conclusiones punto 5"
   ]
  },
  {
   "cell_type": "markdown",
   "metadata": {},
   "source": [
    "Al calibrar los parámetros max_depth, max_features y n_estimators del modelo de Random Forest para regresión, y al comparar los resultados con el Random Forest del punto anterior se puede concluir que cada calibración del hiperparámetro afecta de forma significativa el desempeño mejorándolo. \n",
    "Si bien, se tenía un RMSE inicial de 1757, sin calibrar los tres hiperparámetros. Se observa que al modificar el max_depth a 7 el RMSE tiene una disminución significativa, pasando a 1557. Asimismo, al modificar el max_futures a 5 el RMSE sigue disminuyendo a 1557, lo cual implica un mejor poder predictivo al ser menor el error. Finalmente, cuando se modifica el n_estimator, a 31 siendo este el más óptimo, se observa que el desempeño mejora pero muy poco, obteniendo el modelo final un RMSE  de 1556. Estos resultados se observan en la gráfica que se presenta, la cual muestra la relación de la predicción del modelo con respecto al test."
   ]
  },
  {
   "cell_type": "markdown",
   "metadata": {},
   "source": [
    "### Punto 6 - XGBoost con librería\n",
    "\n",
    "En la celda 6 implementen un modelo XGBoost de regresión con la librería sklearn y comenten sobre el desempeño del modelo."
   ]
  },
  {
   "cell_type": "code",
   "execution_count": 36,
   "metadata": {},
   "outputs": [
    {
     "name": "stdout",
     "output_type": "stream",
     "text": [
      "Training score:  0.9147045779338181\n",
      "Mean cross-validation score: 0.84\n",
      "RMSE: 1621.42\n"
     ]
    }
   ],
   "source": [
    "# Celda 6\n",
    "xgb = XGBRegressor()\n",
    "xgb.fit(X_train, y_train)\n",
    "y_pred_xgb = xgb.predict(X_test)\n",
    "\n",
    "score = xgb.score(X_train, y_train)\n",
    "print(\"Training score: \",score)\n",
    "\n",
    "scores = cross_val_score(xgb, X_train, y_train,cv=10)\n",
    "print(\"Mean cross-validation score: %.2f\" % scores.mean())\n",
    "\n",
    "rmse_xg = np.sqrt(mean_squared_error(y_test, y_pred_xgb))\n",
    "print(\"RMSE: %.2f\" % rmse_xg)"
   ]
  },
  {
   "cell_type": "code",
   "execution_count": 37,
   "metadata": {},
   "outputs": [
    {
     "data": {
      "image/png": "[encoded data removed]",
      "text/plain": [
       "<Figure size 640x480 with 1 Axes>"
      ]
     },
     "metadata": {},
     "output_type": "display_data"
    }
   ],
   "source": [
    "x_ax = range(len(y_test))\n",
    "plt.plot(x_ax, y_test, label=\"original\")\n",
    "plt.plot(x_ax, y_pred_xgb, label=\"predicción\")\n",
    "plt.title(\"Test vs Predicción\")\n",
    "plt.legend()\n",
    "plt.show()"
   ]
  },
  {
   "cell_type": "markdown",
   "metadata": {},
   "source": [
    "### conclusiones punto 6"
   ]
  },
  {
   "cell_type": "markdown",
   "metadata": {},
   "source": [
    "Al analizar el desempeño del modelo XGBoost quien obtuvo un valor de 1621 en el RMSE, se observa que el Random Forest del punto anteior obtuvo un mejor desempeño con un valor de 1556. Sin embargo, se destaca que obtuvo un traning score de 91% y un cross validation de 84%. "
   ]
  },
  {
   "cell_type": "markdown",
   "metadata": {},
   "source": [
    "### Punto 7 - Calibración de parámetros XGBoost\n",
    "\n",
    "En la celda 7 calibren los parámetros learning rate, gamma y colsample_bytree del modelo XGBoost para regresión, comenten sobre el desempeño del modelo y describan cómo cada parámetro afecta el desempeño del modelo."
   ]
  },
  {
   "cell_type": "markdown",
   "metadata": {},
   "source": [
    "## Learning Rate"
   ]
  },
  {
   "cell_type": "code",
   "execution_count": 38,
   "metadata": {},
   "outputs": [],
   "source": [
    "learn_rate= [i/10 for i in range(0,10)]\n",
    "listica= []\n",
    "\n",
    "for i in learn_rate:\n",
    "    xgb = XGBRegressor(learning_rate=i)\n",
    "    xgb.fit(X_train, y_train)\n",
    "    y_pred_xgb = xgb.predict(X_test)\n",
    "    rmse_i = np.sqrt(mean_squared_error(y_test,y_pred_xgb))\n",
    "    listica.append([i,rmse_i])\n",
    "    \n",
    "l_rate_i = []\n",
    "rmse_i= []\n",
    "for i in listica:\n",
    "    l_rate_i.append(i[0])\n",
    "    rmse_i.append(i[1])\n",
    "\n",
    "l_rate_df = pd.DataFrame()\n",
    "l_rate_df['Learning Rate']=l_rate_i\n",
    "l_rate_df['RMSE']=rmse_i"
   ]
  },
  {
   "cell_type": "code",
   "execution_count": 39,
   "metadata": {},
   "outputs": [
    {
     "data": {
      "text/html": [
       "<div>\n",
       "<style scoped>\n",
       "    .dataframe tbody tr th:only-of-type {\n",
       "        vertical-align: middle;\n",
       "    }\n",
       "\n",
       "    .dataframe tbody tr th {\n",
       "        vertical-align: top;\n",
       "    }\n",
       "\n",
       "    .dataframe thead th {\n",
       "        text-align: right;\n",
       "    }\n",
       "</style>\n",
       "<table border=\"1\" class=\"dataframe\">\n",
       "  <thead>\n",
       "    <tr style=\"text-align: right;\">\n",
       "      <th></th>\n",
       "      <th>Learning Rate</th>\n",
       "      <th>RMSE</th>\n",
       "    </tr>\n",
       "  </thead>\n",
       "  <tbody>\n",
       "    <tr>\n",
       "      <th>1</th>\n",
       "      <td>0.1</td>\n",
       "      <td>1562.991368</td>\n",
       "    </tr>\n",
       "  </tbody>\n",
       "</table>\n",
       "</div>"
      ],
      "text/plain": [
       "   Learning Rate         RMSE\n",
       "1            0.1  1562.991368"
      ]
     },
     "execution_count": 39,
     "metadata": {},
     "output_type": "execute_result"
    }
   ],
   "source": [
    "l_rate_df[l_rate_df['RMSE']==l_rate_df['RMSE'].min()]"
   ]
  },
  {
   "cell_type": "markdown",
   "metadata": {},
   "source": [
    "Para este caso el learning rate sera el minimo."
   ]
  },
  {
   "cell_type": "markdown",
   "metadata": {},
   "source": [
    "## Gamma"
   ]
  },
  {
   "cell_type": "code",
   "execution_count": 40,
   "metadata": {},
   "outputs": [],
   "source": [
    "gamma= list(range(1,10000,1000))\n",
    "listica= []\n",
    "\n",
    "for i in gamma:\n",
    "    xgb = XGBRegressor(learning_rate=0.1, gamma=i)\n",
    "    xgb.fit(X_train, y_train)\n",
    "    y_pred_xgb = xgb.predict(X_test)\n",
    "    rmse_i = np.sqrt(mean_squared_error(y_test,y_pred_xgb))\n",
    "    listica.append([i,rmse_i])\n",
    "    \n",
    "gamma_i = []\n",
    "rmse_i= []\n",
    "for i in listica:\n",
    "    gamma_i.append(i[0])\n",
    "    rmse_i.append(i[1])\n",
    "\n",
    "gamma_df = pd.DataFrame()\n",
    "gamma_df['Gamma']=gamma_i\n",
    "gamma_df['RMSE']=rmse_i"
   ]
  },
  {
   "cell_type": "code",
   "execution_count": 41,
   "metadata": {},
   "outputs": [
    {
     "data": {
      "text/html": [
       "<div>\n",
       "<style scoped>\n",
       "    .dataframe tbody tr th:only-of-type {\n",
       "        vertical-align: middle;\n",
       "    }\n",
       "\n",
       "    .dataframe tbody tr th {\n",
       "        vertical-align: top;\n",
       "    }\n",
       "\n",
       "    .dataframe thead th {\n",
       "        text-align: right;\n",
       "    }\n",
       "</style>\n",
       "<table border=\"1\" class=\"dataframe\">\n",
       "  <thead>\n",
       "    <tr style=\"text-align: right;\">\n",
       "      <th></th>\n",
       "      <th>Gamma</th>\n",
       "      <th>RMSE</th>\n",
       "    </tr>\n",
       "  </thead>\n",
       "  <tbody>\n",
       "    <tr>\n",
       "      <th>1</th>\n",
       "      <td>1001</td>\n",
       "      <td>1562.990407</td>\n",
       "    </tr>\n",
       "  </tbody>\n",
       "</table>\n",
       "</div>"
      ],
      "text/plain": [
       "   Gamma         RMSE\n",
       "1   1001  1562.990407"
      ]
     },
     "execution_count": 41,
     "metadata": {},
     "output_type": "execute_result"
    }
   ],
   "source": [
    "gamma_df[gamma_df['RMSE']==gamma_df['RMSE'].min()]"
   ]
  },
  {
   "cell_type": "markdown",
   "metadata": {},
   "source": [
    "Y calibrariamos el modelo a un gamma lo suficientemente alto (1000)."
   ]
  },
  {
   "cell_type": "markdown",
   "metadata": {},
   "source": [
    "## Colsample_bytree"
   ]
  },
  {
   "cell_type": "code",
   "execution_count": 42,
   "metadata": {},
   "outputs": [],
   "source": [
    "cs_bytree= [i/10 for i in range(0,10)]\n",
    "listica= []\n",
    "\n",
    "for i in learn_rate:\n",
    "    xgb = XGBRegressor(learning_rate=0.1,gamma=1000, colsample_bytree=i)\n",
    "    xgb.fit(X_train, y_train)\n",
    "    y_pred_xgb = xgb.predict(X_test)\n",
    "    rmse_i = np.sqrt(mean_squared_error(y_test,y_pred_xgb))\n",
    "    listica.append([i,rmse_i])\n",
    "    \n",
    "cs_bytree_i = []\n",
    "rmse_i= []\n",
    "for i in listica:\n",
    "    cs_bytree_i.append(i[0])\n",
    "    rmse_i.append(i[1])\n",
    "\n",
    "cs_bytree_df = pd.DataFrame()\n",
    "cs_bytree_df['Colsample by tree']=l_rate_i\n",
    "cs_bytree_df['RMSE']=rmse_i"
   ]
  },
  {
   "cell_type": "code",
   "execution_count": 43,
   "metadata": {},
   "outputs": [
    {
     "data": {
      "text/html": [
       "<div>\n",
       "<style scoped>\n",
       "    .dataframe tbody tr th:only-of-type {\n",
       "        vertical-align: middle;\n",
       "    }\n",
       "\n",
       "    .dataframe tbody tr th {\n",
       "        vertical-align: top;\n",
       "    }\n",
       "\n",
       "    .dataframe thead th {\n",
       "        text-align: right;\n",
       "    }\n",
       "</style>\n",
       "<table border=\"1\" class=\"dataframe\">\n",
       "  <thead>\n",
       "    <tr style=\"text-align: right;\">\n",
       "      <th></th>\n",
       "      <th>Colsample by tree</th>\n",
       "      <th>RMSE</th>\n",
       "    </tr>\n",
       "  </thead>\n",
       "  <tbody>\n",
       "    <tr>\n",
       "      <th>7</th>\n",
       "      <td>0.7</td>\n",
       "      <td>1548.305383</td>\n",
       "    </tr>\n",
       "  </tbody>\n",
       "</table>\n",
       "</div>"
      ],
      "text/plain": [
       "   Colsample by tree         RMSE\n",
       "7                0.7  1548.305383"
      ]
     },
     "execution_count": 43,
     "metadata": {},
     "output_type": "execute_result"
    }
   ],
   "source": [
    "cs_bytree_df[cs_bytree_df['RMSE']==cs_bytree_df['RMSE'].min()]"
   ]
  },
  {
   "cell_type": "code",
   "execution_count": 44,
   "metadata": {},
   "outputs": [
    {
     "name": "stdout",
     "output_type": "stream",
     "text": [
      "Training score:  0.8816862942073969\n",
      "Mean cross-validation score: 0.85\n",
      "RMSE: 1548.31\n"
     ]
    }
   ],
   "source": [
    "# Celda 7\n",
    "xgbp = XGBRegressor(learning_rate = 0.1, gamma=1000, colsample_bytree=0.7)\n",
    "xgbp.fit(X_train, y_train)\n",
    "y_pred_xgbp = xgbp.predict(X_test)\n",
    "\n",
    "scorep = xgbp.score(X_train, y_train)\n",
    "print(\"Training score: \",scorep)\n",
    "\n",
    "scoresp = cross_val_score(xgbp, X_train, y_train,cv=10)\n",
    "print(\"Mean cross-validation score: %.2f\" % scoresp.mean())\n",
    "\n",
    "rmse_xg2 = np.sqrt(mean_squared_error(y_test, y_pred_xgbp))\n",
    "print(\"RMSE: %.2f\" % rmse_xg2)"
   ]
  },
  {
   "cell_type": "markdown",
   "metadata": {},
   "source": [
    "### conclusiones punto 7"
   ]
  },
  {
   "cell_type": "markdown",
   "metadata": {},
   "source": [
    "Al calibrar los parámetros learning rate, gamma y colsample_bytree del modelo XGBoost para regresión se observa que si tiene un efecto significativo sobre el modelo, mejorando su desempeño, pues inicialmente se tenía un RMSE de 1.621, al calibrar los hipermarámetros, se observa que, con un learning rate de 0.1\tel RMSE disminuye a 1562, asímismo, cuando se modifica el parámetro de Gamma, el desempeño queda igual, pero cuando se afecta el colsample_bytree a 0.7\tel modelo obtiene un RMSE final de 1548. A partir de esto, se concluye que el modelo XGBoost mejora su desempeño significativamente al optimizar sus hiperparámetros."
   ]
  },
  {
   "cell_type": "markdown",
   "metadata": {},
   "source": [
    "### Punto 8 - Comparación y análisis de resultados\n",
    "En la celda 8 comparen los resultados obtenidos de los diferentes modelos (random forest y XGBoost) y comenten las ventajas del mejor modelo y las desventajas del modelo con el menor desempeño."
   ]
  },
  {
   "cell_type": "code",
   "execution_count": 45,
   "metadata": {},
   "outputs": [
    {
     "data": {
      "image/png": "[encoded data removed]",
      "text/plain": [
       "<Figure size 640x480 with 1 Axes>"
      ]
     },
     "metadata": {},
     "output_type": "display_data"
    }
   ],
   "source": [
    "# Celda 8\n",
    "fig = plt.figure()\n",
    "ax = fig.add_axes([0,0,1,1])\n",
    "ax.set_title(\"Root Mean Square Error\")\n",
    "ejeX = ['Arbol Manual','Bagging Manual','Bagging Lib','Random Forest', 'Random Forest Cal','XGboost','XGBoost Cal']\n",
    "ejeY = [round(rmse_tree,2),round(rmse_bag,2),round(rmse_bag2,2),round(rmse_rf,2),round(rmse_rf2,2),round(rmse_xg,2),round(rmse_xg2,2)]\n",
    "ax.bar(ejeX,ejeY)\n",
    "def addlabels(x,y,plotP):\n",
    "    for i in range(len(x)):\n",
    "        plotP.text(i,y[i],y[i])\n",
    "addlabels(ejeX,ejeY,plt)\n",
    "plt.xticks(rotation=90)\n",
    "plt.show()"
   ]
  },
  {
   "cell_type": "markdown",
   "metadata": {},
   "source": [
    "### conclusiones punto 8"
   ]
  },
  {
   "cell_type": "markdown",
   "metadata": {},
   "source": [
    "Al comparar el desempeño de los modelos anteriormente ejecutados se observa que el modelo con el mejor desempeño es el XGBoost con los hiperparámetros calibrados con un RMSE de 1548. \n",
    "Dentro de sus ventajas más significativas se encuentran que:\n",
    "- se puede reducir el tamaño de los pesos del algoritmo por medio del parámetro del learning rate. \n",
    "- sus resultados son muy precisos\n",
    "\n",
    "Por otro lado, el modelo con menor desempeño es el Bagging con libreria, con un RMSE de 1974. Este modelo presenta desventajas como:\n",
    "- tiene baja precisión \n",
    "- al promediar las salidas de los modelos simples, el algoritmo no toma el mínimo error, por ende, no optimiza el desempeño."
   ]
  },
  {
   "cell_type": "code",
   "execution_count": null,
   "metadata": {},
   "outputs": [],
   "source": []
  }
 ],
 "metadata": {
  "kernelspec": {
   "display_name": "Python 3 (ipykernel)",
   "language": "python",
   "name": "python3"
  },
  "language_info": {
   "codemirror_mode": {
    "name": "ipython",
    "version": 3
   },
   "file_extension": ".py",
   "mimetype": "text/x-python",
   "name": "python",
   "nbconvert_exporter": "python",
   "pygments_lexer": "ipython3",
   "version": "3.9.13"
  }
 },
 "nbformat": 4,
 "nbformat_minor": 4
}
